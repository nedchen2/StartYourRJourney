{
 "cells": [
  {
   "cell_type": "markdown",
   "metadata": {},
   "source": [
    "# Chapter 2. R basics"
   ]
  },
  {
   "cell_type": "markdown",
   "metadata": {},
   "source": [
    "## 2.1 Basic Introduction\n",
    "\n",
    "After reading the previous chapter, you should already have a basic understanding of how R and Rstudio operate. Lets get started with some R basics. \n",
    "\n",
    "### 2.1.1 R variables\n",
    "\n",
    "In a R session, you will need to utilize \"variables\" to store data. Every variable occupies \"real estate\" in your computer's memory [RAM](https://en.wikipedia.org/wiki/Random-access_memory)\n"
   ]
  },
  {
   "cell_type": "code",
   "execution_count": 2,
   "metadata": {
    "vscode": {
     "languageId": "r"
    }
   },
   "outputs": [],
   "source": [
    "a <- 8  # store 8 as variable a"
   ]
  },
  {
   "cell_type": "markdown",
   "metadata": {},
   "source": [
    "Note that any text after a \"#\" is ignored by R\n"
   ]
  },
  {
   "cell_type": "markdown",
   "metadata": {},
   "source": [
    "```{note}\n",
    "Well-placed comments can help people (include you) to understand the functionality of the code\n",
    "```"
   ]
  },
  {
   "cell_type": "code",
   "execution_count": 3,
   "metadata": {
    "vscode": {
     "languageId": "r"
    }
   },
   "outputs": [
    {
     "data": {
      "text/html": [
       "2"
      ],
      "text/latex": [
       "2"
      ],
      "text/markdown": [
       "2"
      ],
      "text/plain": [
       "[1] 2"
      ]
     },
     "metadata": {},
     "output_type": "display_data"
    }
   ],
   "source": [
    "a # display it"
   ]
  },
  {
   "cell_type": "markdown",
   "metadata": {},
   "source": [
    "do simple calculation between variables"
   ]
  },
  {
   "cell_type": "code",
   "execution_count": 5,
   "metadata": {
    "vscode": {
     "languageId": "r"
    }
   },
   "outputs": [],
   "source": [
    "a_squared <- a * a "
   ]
  },
  {
   "cell_type": "code",
   "execution_count": null,
   "metadata": {
    "vscode": {
     "languageId": "r"
    }
   },
   "outputs": [],
   "source": [
    "a_squared # display it"
   ]
  },
  {
   "cell_type": "markdown",
   "metadata": {},
   "source": [
    "```{note}\n",
    "R uses the `<-` [operator to assign variables](https://stat.ethz.ch/R-manual/R-devel/library/base/html/assignOps.html). \"=\" can also work, but `<-` is perfered\n",
    "```"
   ]
  },
  {
   "cell_type": "markdown",
   "metadata": {},
   "source": [
    "### 2.1.2 R name your variables\n",
    "\n",
    "In R, you can name variables in the following way to keep track of related variables:"
   ]
  },
  {
   "cell_type": "code",
   "execution_count": 6,
   "metadata": {
    "vscode": {
     "languageId": "r"
    }
   },
   "outputs": [],
   "source": [
    "my.var = 1"
   ]
  },
  {
   "cell_type": "code",
   "execution_count": 7,
   "metadata": {
    "vscode": {
     "languageId": "r"
    }
   },
   "outputs": [],
   "source": [
    "my_var = 1"
   ]
  },
  {
   "cell_type": "code",
   "execution_count": 8,
   "metadata": {
    "vscode": {
     "languageId": "r"
    }
   },
   "outputs": [
    {
     "ename": "ERROR",
     "evalue": "Error in parse(text = x, srcfile = src): <text>:1:4: unexpected symbol\n1: my var\n       ^\n",
     "output_type": "error",
     "traceback": [
      "Error in parse(text = x, srcfile = src): <text>:1:4: unexpected symbol\n1: my var\n       ^\nTraceback:\n"
     ]
    }
   ],
   "source": [
    "# my var = 1 # This name is not valid, so do not use space in naming"
   ]
  },
  {
   "cell_type": "markdown",
   "metadata": {},
   "source": [
    "### 2.1.3 R functions\n",
    "\n",
    "R have some pre-built functions for different functionality. But you can also defined your own function."
   ]
  },
  {
   "cell_type": "code",
   "execution_count": 74,
   "metadata": {
    "vscode": {
     "languageId": "r"
    }
   },
   "outputs": [
    {
     "data": {
      "text/html": [
       "2"
      ],
      "text/latex": [
       "2"
      ],
      "text/markdown": [
       "2"
      ],
      "text/plain": [
       "[1] 2"
      ]
     },
     "metadata": {},
     "output_type": "display_data"
    }
   ],
   "source": [
    "sqrt(a_squared) # square root"
   ]
  },
  {
   "cell_type": "code",
   "execution_count": 75,
   "metadata": {
    "vscode": {
     "languageId": "r"
    }
   },
   "outputs": [
    {
     "data": {
      "text/html": [
       "2"
      ],
      "text/latex": [
       "2"
      ],
      "text/markdown": [
       "2"
      ],
      "text/plain": [
       "[1] 2"
      ]
     },
     "metadata": {},
     "output_type": "display_data"
    }
   ],
   "source": [
    "log( a_squared, base = 2) # log2 transformed"
   ]
  },
  {
   "cell_type": "code",
   "execution_count": 1,
   "metadata": {
    "vscode": {
     "languageId": "r"
    }
   },
   "outputs": [],
   "source": [
    "BMI_index <- function(weight_in_kg, height_in_m){\n",
    "   weight_in_kg/height_in_m^2 \n",
    "}"
   ]
  },
  {
   "cell_type": "code",
   "execution_count": 2,
   "metadata": {
    "vscode": {
     "languageId": "r"
    }
   },
   "outputs": [
    {
     "data": {
      "text/html": [
       "22.4913494809689"
      ],
      "text/latex": [
       "22.4913494809689"
      ],
      "text/markdown": [
       "22.4913494809689"
      ],
      "text/plain": [
       "[1] 22.49135"
      ]
     },
     "metadata": {},
     "output_type": "display_data"
    }
   ],
   "source": [
    "BMI_index(65, 1.7) # Have a try on your own data"
   ]
  },
  {
   "cell_type": "markdown",
   "metadata": {},
   "source": [
    "### 2.1.4 R Data types\n",
    "\n",
    "R have different types of variables including numeric numbers, character strings, and other more advanced types such as factor, Boolean (\"logical\"; `TRUE` or `FALSE`), and data frame. \n",
    "\n",
    "The function `class` helps us determine what type of object we have:"
   ]
  },
  {
   "cell_type": "code",
   "execution_count": 76,
   "metadata": {
    "vscode": {
     "languageId": "r"
    }
   },
   "outputs": [
    {
     "data": {
      "text/html": [
       "'numeric'"
      ],
      "text/latex": [
       "'numeric'"
      ],
      "text/markdown": [
       "'numeric'"
      ],
      "text/plain": [
       "[1] \"numeric\""
      ]
     },
     "metadata": {},
     "output_type": "display_data"
    }
   ],
   "source": [
    "class(a)"
   ]
  },
  {
   "cell_type": "code",
   "execution_count": 157,
   "metadata": {
    "vscode": {
     "languageId": "r"
    }
   },
   "outputs": [],
   "source": [
    "bol <- TRUE"
   ]
  },
  {
   "cell_type": "code",
   "execution_count": 158,
   "metadata": {
    "vscode": {
     "languageId": "r"
    }
   },
   "outputs": [
    {
     "data": {
      "text/html": [
       "'logical'"
      ],
      "text/latex": [
       "'logical'"
      ],
      "text/markdown": [
       "'logical'"
      ],
      "text/plain": [
       "[1] \"logical\""
      ]
     },
     "metadata": {},
     "output_type": "display_data"
    }
   ],
   "source": [
    "class(bol)"
   ]
  },
  {
   "cell_type": "markdown",
   "metadata": {},
   "source": [
    "also, try is.*() function to check whether the input variable is certain type of data"
   ]
  },
  {
   "cell_type": "code",
   "execution_count": 159,
   "metadata": {
    "vscode": {
     "languageId": "r"
    }
   },
   "outputs": [
    {
     "data": {
      "text/html": [
       "TRUE"
      ],
      "text/latex": [
       "TRUE"
      ],
      "text/markdown": [
       "TRUE"
      ],
      "text/plain": [
       "[1] TRUE"
      ]
     },
     "metadata": {},
     "output_type": "display_data"
    }
   ],
   "source": [
    "is.logical(bol) # Try \"TAB\" after \"is.\" to see how many functions you find"
   ]
  },
  {
   "cell_type": "markdown",
   "metadata": {},
   "source": [
    "You can also use as.*() function to do input data type conversion"
   ]
  },
  {
   "cell_type": "code",
   "execution_count": 161,
   "metadata": {
    "vscode": {
     "languageId": "r"
    }
   },
   "outputs": [
    {
     "data": {
      "text/html": [
       "'numeric'"
      ],
      "text/latex": [
       "'numeric'"
      ],
      "text/markdown": [
       "'numeric'"
      ],
      "text/plain": [
       "[1] \"numeric\""
      ]
     },
     "metadata": {},
     "output_type": "display_data"
    }
   ],
   "source": [
    "class(3.1)"
   ]
  },
  {
   "cell_type": "code",
   "execution_count": 163,
   "metadata": {
    "vscode": {
     "languageId": "r"
    }
   },
   "outputs": [
    {
     "data": {
      "text/html": [
       "3"
      ],
      "text/latex": [
       "3"
      ],
      "text/markdown": [
       "3"
      ],
      "text/plain": [
       "[1] 3"
      ]
     },
     "metadata": {},
     "output_type": "display_data"
    }
   ],
   "source": [
    "as.integer(3.1)"
   ]
  },
  {
   "cell_type": "code",
   "execution_count": 164,
   "metadata": {
    "vscode": {
     "languageId": "r"
    }
   },
   "outputs": [
    {
     "data": {
      "text/html": [
       "'integer'"
      ],
      "text/latex": [
       "'integer'"
      ],
      "text/markdown": [
       "'integer'"
      ],
      "text/plain": [
       "[1] \"integer\""
      ]
     },
     "metadata": {},
     "output_type": "display_data"
    }
   ],
   "source": [
    "class(as.integer(3.1))"
   ]
  },
  {
   "cell_type": "markdown",
   "metadata": {},
   "source": [
    "Data type coversion should be used with caution. This procedure is typically not advised for beginners due to the potential for unclear or imprecise conversions."
   ]
  },
  {
   "cell_type": "code",
   "execution_count": 168,
   "metadata": {
    "vscode": {
     "languageId": "r"
    }
   },
   "outputs": [
    {
     "data": {
      "text/html": [
       "FALSE"
      ],
      "text/latex": [
       "FALSE"
      ],
      "text/markdown": [
       "FALSE"
      ],
      "text/plain": [
       "[1] FALSE"
      ]
     },
     "metadata": {},
     "output_type": "display_data"
    }
   ],
   "source": [
    "as.logical(0)"
   ]
  },
  {
   "cell_type": "code",
   "execution_count": 170,
   "metadata": {
    "vscode": {
     "languageId": "r"
    }
   },
   "outputs": [
    {
     "data": {
      "text/html": [
       "TRUE"
      ],
      "text/latex": [
       "TRUE"
      ],
      "text/markdown": [
       "TRUE"
      ],
      "text/plain": [
       "[1] TRUE"
      ]
     },
     "metadata": {},
     "output_type": "display_data"
    }
   ],
   "source": [
    "as.logical(3)"
   ]
  },
  {
   "cell_type": "markdown",
   "metadata": {
    "vscode": {
     "languageId": "r"
    }
   },
   "source": [
    "*What just happened?!* R maps all values other than `0` to logical `True`, and `0` to `False`. This can be useful in some cases, for example, when you want to convert all your data to Presence-Absence only."
   ]
  },
  {
   "cell_type": "markdown",
   "metadata": {},
   "source": [
    "## 2.2 R Vector, Matrix, Dataframe, Lists"
   ]
  },
  {
   "cell_type": "markdown",
   "metadata": {},
   "source": [
    "Up to now, the variables we have defined contains only one number. This is not very useful for big data analysis. R has different built-in structures (objects) for data manipulation and more advanced computation. "
   ]
  },
  {
   "cell_type": "markdown",
   "metadata": {
    "vscode": {
     "languageId": "r"
    }
   },
   "source": [
    "### 2.2.1 Vectors\n",
    "\n",
    "The Vector is a fundamental data object / structure in R. *A vector is like a single column or row in a spreadsheet.*"
   ]
  },
  {
   "cell_type": "markdown",
   "metadata": {},
   "source": [
    "Build a vector with `c` (stands for \"`c`oncatenate\"): "
   ]
  },
  {
   "cell_type": "code",
   "execution_count": 148,
   "metadata": {
    "vscode": {
     "languageId": "r"
    }
   },
   "outputs": [],
   "source": [
    "v <- c(1, 2, 4, 8, 16)"
   ]
  },
  {
   "cell_type": "code",
   "execution_count": 149,
   "metadata": {
    "vscode": {
     "languageId": "r"
    }
   },
   "outputs": [
    {
     "data": {
      "text/html": [
       "<style>\n",
       ".list-inline {list-style: none; margin:0; padding: 0}\n",
       ".list-inline>li {display: inline-block}\n",
       ".list-inline>li:not(:last-child)::after {content: \"\\00b7\"; padding: 0 .5ex}\n",
       "</style>\n",
       "<ol class=list-inline><li>1</li><li>2</li><li>4</li><li>8</li><li>16</li></ol>\n"
      ],
      "text/latex": [
       "\\begin{enumerate*}\n",
       "\\item 1\n",
       "\\item 2\n",
       "\\item 4\n",
       "\\item 8\n",
       "\\item 16\n",
       "\\end{enumerate*}\n"
      ],
      "text/markdown": [
       "1. 1\n",
       "2. 2\n",
       "3. 4\n",
       "4. 8\n",
       "5. 16\n",
       "\n",
       "\n"
      ],
      "text/plain": [
       "[1]  1  2  4  8 16"
      ]
     },
     "metadata": {},
     "output_type": "display_data"
    }
   ],
   "source": [
    "v # Display the vector you have just created"
   ]
  },
  {
   "cell_type": "markdown",
   "metadata": {},
   "source": [
    "Similarly, use is.* to check the data types."
   ]
  },
  {
   "cell_type": "code",
   "execution_count": 150,
   "metadata": {
    "vscode": {
     "languageId": "r"
    }
   },
   "outputs": [
    {
     "data": {
      "text/html": [
       "TRUE"
      ],
      "text/latex": [
       "TRUE"
      ],
      "text/markdown": [
       "TRUE"
      ],
      "text/plain": [
       "[1] TRUE"
      ]
     },
     "metadata": {},
     "output_type": "display_data"
    }
   ],
   "source": [
    "is.vector(v) # check if v's a vector"
   ]
  },
  {
   "cell_type": "markdown",
   "metadata": {},
   "source": [
    "You can do operations on vector as well"
   ]
  },
  {
   "cell_type": "code",
   "execution_count": 151,
   "metadata": {
    "vscode": {
     "languageId": "r"
    }
   },
   "outputs": [
    {
     "data": {
      "text/html": [
       "<style>\n",
       ".list-inline {list-style: none; margin:0; padding: 0}\n",
       ".list-inline>li {display: inline-block}\n",
       ".list-inline>li:not(:last-child)::after {content: \"\\00b7\"; padding: 0 .5ex}\n",
       "</style>\n",
       "<ol class=list-inline><li>0</li><li>1</li><li>2</li><li>3</li><li>4</li></ol>\n"
      ],
      "text/latex": [
       "\\begin{enumerate*}\n",
       "\\item 0\n",
       "\\item 1\n",
       "\\item 2\n",
       "\\item 3\n",
       "\\item 4\n",
       "\\end{enumerate*}\n"
      ],
      "text/markdown": [
       "1. 0\n",
       "2. 1\n",
       "3. 2\n",
       "4. 3\n",
       "5. 4\n",
       "\n",
       "\n"
      ],
      "text/plain": [
       "[1] 0 1 2 3 4"
      ]
     },
     "metadata": {},
     "output_type": "display_data"
    }
   ],
   "source": [
    "log(v, base = 2)"
   ]
  },
  {
   "cell_type": "code",
   "execution_count": 152,
   "metadata": {
    "vscode": {
     "languageId": "r"
    }
   },
   "outputs": [
    {
     "data": {
      "text/html": [
       "6.2"
      ],
      "text/latex": [
       "6.2"
      ],
      "text/markdown": [
       "6.2"
      ],
      "text/plain": [
       "[1] 6.2"
      ]
     },
     "metadata": {},
     "output_type": "display_data"
    }
   ],
   "source": [
    "mean(v) # mean"
   ]
  },
  {
   "cell_type": "code",
   "execution_count": 153,
   "metadata": {
    "vscode": {
     "languageId": "r"
    }
   },
   "outputs": [
    {
     "data": {
      "text/html": [
       "5"
      ],
      "text/latex": [
       "5"
      ],
      "text/markdown": [
       "5"
      ],
      "text/plain": [
       "[1] 5"
      ]
     },
     "metadata": {},
     "output_type": "display_data"
    }
   ],
   "source": [
    "length(v) # how many elements"
   ]
  },
  {
   "cell_type": "markdown",
   "metadata": {},
   "source": [
    "Numeric indexing"
   ]
  },
  {
   "cell_type": "code",
   "execution_count": null,
   "metadata": {
    "vscode": {
     "languageId": "r"
    }
   },
   "outputs": [],
   "source": [
    "v[1]   # select the first element"
   ]
  },
  {
   "cell_type": "code",
   "execution_count": 4,
   "metadata": {
    "vscode": {
     "languageId": "r"
    }
   },
   "outputs": [
    {
     "data": {
      "text/html": [
       "<style>\n",
       ".list-inline {list-style: none; margin:0; padding: 0}\n",
       ".list-inline>li {display: inline-block}\n",
       ".list-inline>li:not(:last-child)::after {content: \"\\00b7\"; padding: 0 .5ex}\n",
       "</style>\n",
       "<ol class=list-inline><li>0.02</li><li>1</li><li>1</li></ol>\n"
      ],
      "text/latex": [
       "\\begin{enumerate*}\n",
       "\\item 0.02\n",
       "\\item 1\n",
       "\\item 1\n",
       "\\end{enumerate*}\n"
      ],
      "text/markdown": [
       "1. 0.02\n",
       "2. 1\n",
       "3. 1\n",
       "\n",
       "\n"
      ],
      "text/plain": [
       "[1] 0.02 1.00 1.00"
      ]
     },
     "metadata": {},
     "output_type": "display_data"
    }
   ],
   "source": [
    "v1 <- c(0.02, TRUE, 1)\n",
    "v1"
   ]
  },
  {
   "cell_type": "markdown",
   "metadata": {},
   "source": [
    "TRUE get converted to 1, why?"
   ]
  },
  {
   "cell_type": "markdown",
   "metadata": {},
   "source": [
    "```{note}\n",
    "R vectors (and matrix, array) can only store data of a single type (e.g., all numeric or all character). Attempting to merge different data types will prompt R to standardize everything to a single data type. This phenomenon is also called as *Coercion*. \n",
    "```"
   ]
  },
  {
   "cell_type": "code",
   "execution_count": 5,
   "metadata": {
    "vscode": {
     "languageId": "r"
    }
   },
   "outputs": [],
   "source": [
    "names(v1) <- c(\"myfirstelement\",\"2\",\"3\") # You can give name to each elements, through names() function"
   ]
  },
  {
   "cell_type": "code",
   "execution_count": 6,
   "metadata": {
    "vscode": {
     "languageId": "r"
    }
   },
   "outputs": [
    {
     "data": {
      "text/html": [
       "<style>\n",
       ".dl-inline {width: auto; margin:0; padding: 0}\n",
       ".dl-inline>dt, .dl-inline>dd {float: none; width: auto; display: inline-block}\n",
       ".dl-inline>dt::after {content: \":\\0020\"; padding-right: .5ex}\n",
       ".dl-inline>dt:not(:first-of-type) {padding-left: .5ex}\n",
       "</style><dl class=dl-inline><dt>myfirstelement</dt><dd>0.02</dd><dt>2</dt><dd>1</dd><dt>3</dt><dd>1</dd></dl>\n"
      ],
      "text/latex": [
       "\\begin{description*}\n",
       "\\item[myfirstelement] 0.02\n",
       "\\item[2] 1\n",
       "\\item[3] 1\n",
       "\\end{description*}\n"
      ],
      "text/markdown": [
       "myfirstelement\n",
       ":   0.022\n",
       ":   13\n",
       ":   1\n",
       "\n"
      ],
      "text/plain": [
       "myfirstelement              2              3 \n",
       "          0.02           1.00           1.00 "
      ]
     },
     "metadata": {},
     "output_type": "display_data"
    }
   ],
   "source": [
    "v1 #display"
   ]
  },
  {
   "cell_type": "markdown",
   "metadata": {},
   "source": [
    "Or you can directly create a named vector by doing:"
   ]
  },
  {
   "cell_type": "code",
   "execution_count": 1,
   "metadata": {
    "vscode": {
     "languageId": "r"
    }
   },
   "outputs": [],
   "source": [
    "v2 <- c(\"MyName\" = \"Ned\", \"MyAge\" = \"Unknown\", \"MyJob\" = \"Student\")"
   ]
  },
  {
   "cell_type": "markdown",
   "metadata": {},
   "source": [
    "After giving name to the vector, you can do name indexing rather than numeric indexing"
   ]
  },
  {
   "cell_type": "code",
   "execution_count": 2,
   "metadata": {
    "vscode": {
     "languageId": "r"
    }
   },
   "outputs": [
    {
     "data": {
      "text/html": [
       "<strong>MyName:</strong> 'Ned'"
      ],
      "text/latex": [
       "\\textbf{MyName:} 'Ned'"
      ],
      "text/markdown": [
       "**MyName:** 'Ned'"
      ],
      "text/plain": [
       "MyName \n",
       " \"Ned\" "
      ]
     },
     "metadata": {},
     "output_type": "display_data"
    }
   ],
   "source": [
    "v2[\"MyAge\"]"
   ]
  },
  {
   "cell_type": "code",
   "execution_count": 7,
   "metadata": {
    "vscode": {
     "languageId": "r"
    }
   },
   "outputs": [
    {
     "data": {
      "text/html": [
       "<style>\n",
       ".dl-inline {width: auto; margin:0; padding: 0}\n",
       ".dl-inline>dt, .dl-inline>dd {float: none; width: auto; display: inline-block}\n",
       ".dl-inline>dt::after {content: \":\\0020\"; padding-right: .5ex}\n",
       ".dl-inline>dt:not(:first-of-type) {padding-left: .5ex}\n",
       "</style><dl class=dl-inline><dt>myfirstelement</dt><dd>0.02</dd><dt>2</dt><dd>1</dd><dt>3</dt><dd>1</dd></dl>\n"
      ],
      "text/latex": [
       "\\begin{description*}\n",
       "\\item[myfirstelement] 0.02\n",
       "\\item[2] 1\n",
       "\\item[3] 1\n",
       "\\end{description*}\n"
      ],
      "text/markdown": [
       "myfirstelement\n",
       ":   0.022\n",
       ":   13\n",
       ":   1\n",
       "\n"
      ],
      "text/plain": [
       "myfirstelement              2              3 \n",
       "          0.02           1.00           1.00 "
      ]
     },
     "metadata": {},
     "output_type": "display_data"
    }
   ],
   "source": [
    "v1[\"myfirstelement\"] # display"
   ]
  },
  {
   "cell_type": "markdown",
   "metadata": {},
   "source": [
    "In empirical cases, you will normally have a vector with unsorted order, like this:"
   ]
  },
  {
   "cell_type": "code",
   "execution_count": 34,
   "metadata": {
    "vscode": {
     "languageId": "r"
    }
   },
   "outputs": [],
   "source": [
    "v3 <- c(2020,2012,2030,2024)"
   ]
  },
  {
   "cell_type": "markdown",
   "metadata": {},
   "source": [
    "How to order it from low to high? (clue: ?sort(), ?order())"
   ]
  },
  {
   "cell_type": "code",
   "execution_count": 35,
   "metadata": {
    "vscode": {
     "languageId": "r"
    }
   },
   "outputs": [
    {
     "data": {
      "text/html": [
       "<style>\n",
       ".list-inline {list-style: none; margin:0; padding: 0}\n",
       ".list-inline>li {display: inline-block}\n",
       ".list-inline>li:not(:last-child)::after {content: \"\\00b7\"; padding: 0 .5ex}\n",
       "</style>\n",
       "<ol class=list-inline><li>2012</li><li>2020</li><li>2024</li><li>2030</li></ol>\n"
      ],
      "text/latex": [
       "\\begin{enumerate*}\n",
       "\\item 2012\n",
       "\\item 2020\n",
       "\\item 2024\n",
       "\\item 2030\n",
       "\\end{enumerate*}\n"
      ],
      "text/markdown": [
       "1. 2012\n",
       "2. 2020\n",
       "3. 2024\n",
       "4. 2030\n",
       "\n",
       "\n"
      ],
      "text/plain": [
       "[1] 2012 2020 2024 2030"
      ]
     },
     "metadata": {},
     "output_type": "display_data"
    }
   ],
   "source": [
    "sort(v3) # you can complete by sort()"
   ]
  },
  {
   "cell_type": "code",
   "execution_count": 36,
   "metadata": {
    "vscode": {
     "languageId": "r"
    }
   },
   "outputs": [
    {
     "data": {
      "text/html": [
       "<style>\n",
       ".list-inline {list-style: none; margin:0; padding: 0}\n",
       ".list-inline>li {display: inline-block}\n",
       ".list-inline>li:not(:last-child)::after {content: \"\\00b7\"; padding: 0 .5ex}\n",
       "</style>\n",
       "<ol class=list-inline><li>2012</li><li>2020</li><li>2024</li><li>2030</li></ol>\n"
      ],
      "text/latex": [
       "\\begin{enumerate*}\n",
       "\\item 2012\n",
       "\\item 2020\n",
       "\\item 2024\n",
       "\\item 2030\n",
       "\\end{enumerate*}\n"
      ],
      "text/markdown": [
       "1. 2012\n",
       "2. 2020\n",
       "3. 2024\n",
       "4. 2030\n",
       "\n",
       "\n"
      ],
      "text/plain": [
       "[1] 2012 2020 2024 2030"
      ]
     },
     "metadata": {},
     "output_type": "display_data"
    }
   ],
   "source": [
    "v3[order(v3)] # order return the ordered index like the numerical indexing mentioned previously "
   ]
  },
  {
   "cell_type": "code",
   "execution_count": 37,
   "metadata": {
    "vscode": {
     "languageId": "r"
    }
   },
   "outputs": [
    {
     "data": {
      "text/html": [
       "<style>\n",
       ".list-inline {list-style: none; margin:0; padding: 0}\n",
       ".list-inline>li {display: inline-block}\n",
       ".list-inline>li:not(:last-child)::after {content: \"\\00b7\"; padding: 0 .5ex}\n",
       "</style>\n",
       "<ol class=list-inline><li>2</li><li>1</li><li>4</li><li>3</li></ol>\n"
      ],
      "text/latex": [
       "\\begin{enumerate*}\n",
       "\\item 2\n",
       "\\item 1\n",
       "\\item 4\n",
       "\\item 3\n",
       "\\end{enumerate*}\n"
      ],
      "text/markdown": [
       "1. 2\n",
       "2. 1\n",
       "3. 4\n",
       "4. 3\n",
       "\n",
       "\n"
      ],
      "text/plain": [
       "[1] 2 1 4 3"
      ]
     },
     "metadata": {},
     "output_type": "display_data"
    }
   ],
   "source": [
    "order(v3) # for example, according to the order() function the smallest number should be the second place of the vector, let's try"
   ]
  },
  {
   "cell_type": "code",
   "execution_count": 38,
   "metadata": {
    "vscode": {
     "languageId": "r"
    }
   },
   "outputs": [
    {
     "data": {
      "text/html": [
       "2012"
      ],
      "text/latex": [
       "2012"
      ],
      "text/markdown": [
       "2012"
      ],
      "text/plain": [
       "[1] 2012"
      ]
     },
     "metadata": {},
     "output_type": "display_data"
    }
   ],
   "source": [
    "v3[2] # Is it?"
   ]
  },
  {
   "cell_type": "markdown",
   "metadata": {},
   "source": [
    "You can also do subsetting (indexing) by the logical value, for example, we want to only retain the year <= 2024:"
   ]
  },
  {
   "cell_type": "code",
   "execution_count": 39,
   "metadata": {
    "vscode": {
     "languageId": "r"
    }
   },
   "outputs": [],
   "source": [
    "logical_vector = c(TRUE,TRUE,FALSE,TRUE)"
   ]
  },
  {
   "cell_type": "code",
   "execution_count": 40,
   "metadata": {
    "vscode": {
     "languageId": "r"
    }
   },
   "outputs": [
    {
     "data": {
      "text/html": [
       "<style>\n",
       ".list-inline {list-style: none; margin:0; padding: 0}\n",
       ".list-inline>li {display: inline-block}\n",
       ".list-inline>li:not(:last-child)::after {content: \"\\00b7\"; padding: 0 .5ex}\n",
       "</style>\n",
       "<ol class=list-inline><li>2020</li><li>2012</li><li>2024</li></ol>\n"
      ],
      "text/latex": [
       "\\begin{enumerate*}\n",
       "\\item 2020\n",
       "\\item 2012\n",
       "\\item 2024\n",
       "\\end{enumerate*}\n"
      ],
      "text/markdown": [
       "1. 2020\n",
       "2. 2012\n",
       "3. 2024\n",
       "\n",
       "\n"
      ],
      "text/plain": [
       "[1] 2020 2012 2024"
      ]
     },
     "metadata": {},
     "output_type": "display_data"
    }
   ],
   "source": [
    "v3[logical_vector] # You see, the FALSE in the third position leads to removal of 2023"
   ]
  },
  {
   "cell_type": "code",
   "execution_count": 41,
   "metadata": {
    "vscode": {
     "languageId": "r"
    }
   },
   "outputs": [
    {
     "data": {
      "text/html": [
       "<style>\n",
       ".list-inline {list-style: none; margin:0; padding: 0}\n",
       ".list-inline>li {display: inline-block}\n",
       ".list-inline>li:not(:last-child)::after {content: \"\\00b7\"; padding: 0 .5ex}\n",
       "</style>\n",
       "<ol class=list-inline><li>2020</li><li>2012</li><li>2024</li></ol>\n"
      ],
      "text/latex": [
       "\\begin{enumerate*}\n",
       "\\item 2020\n",
       "\\item 2012\n",
       "\\item 2024\n",
       "\\end{enumerate*}\n"
      ],
      "text/markdown": [
       "1. 2020\n",
       "2. 2012\n",
       "3. 2024\n",
       "\n",
       "\n"
      ],
      "text/plain": [
       "[1] 2020 2012 2024"
      ]
     },
     "metadata": {},
     "output_type": "display_data"
    }
   ],
   "source": [
    "v3[ v3<= 2024] # You can finish this task in a more intuitive way"
   ]
  },
  {
   "cell_type": "markdown",
   "metadata": {},
   "source": [
    "Operators like `<=` can only work with number, what if we have chracters? try: `%in%`. "
   ]
  },
  {
   "cell_type": "code",
   "execution_count": 43,
   "metadata": {
    "vscode": {
     "languageId": "r"
    }
   },
   "outputs": [
    {
     "data": {
      "text/html": [
       "<style>\n",
       ".dl-inline {width: auto; margin:0; padding: 0}\n",
       ".dl-inline>dt, .dl-inline>dd {float: none; width: auto; display: inline-block}\n",
       ".dl-inline>dt::after {content: \":\\0020\"; padding-right: .5ex}\n",
       ".dl-inline>dt:not(:first-of-type) {padding-left: .5ex}\n",
       "</style><dl class=dl-inline><dt>MyName</dt><dd>'Ned'</dd><dt>MyAge</dt><dd>'Unknown'</dd></dl>\n"
      ],
      "text/latex": [
       "\\begin{description*}\n",
       "\\item[MyName] 'Ned'\n",
       "\\item[MyAge] 'Unknown'\n",
       "\\end{description*}\n"
      ],
      "text/markdown": [
       "MyName\n",
       ":   'Ned'MyAge\n",
       ":   'Unknown'\n",
       "\n"
      ],
      "text/plain": [
       "   MyName     MyAge \n",
       "    \"Ned\" \"Unknown\" "
      ]
     },
     "metadata": {},
     "output_type": "display_data"
    }
   ],
   "source": [
    "v2[ v2 %in% c(\"Ned\",\"Unknown\") ]  # So this will only display the v2 with value have 'Ned', \"Unknown\""
   ]
  },
  {
   "cell_type": "markdown",
   "metadata": {},
   "source": [
    "\n",
    "### 2.2.2 Matrices and arrays\n",
    "\n",
    "A R \"matrix\" is a 2 dimensional vector (has both rows and columns). On the other word, the matrix is built on the top of vector.\n",
    "\n",
    "Try this:"
   ]
  },
  {
   "cell_type": "code",
   "execution_count": 8,
   "metadata": {
    "vscode": {
     "languageId": "r"
    }
   },
   "outputs": [
    {
     "data": {
      "text/html": [
       "<style>\n",
       ".list-inline {list-style: none; margin:0; padding: 0}\n",
       ".list-inline>li {display: inline-block}\n",
       ".list-inline>li:not(:last-child)::after {content: \"\\00b7\"; padding: 0 .5ex}\n",
       "</style>\n",
       "<ol class=list-inline><li>1</li><li>2</li><li>3</li><li>4</li><li>5</li><li>6</li><li>7</li><li>8</li><li>9</li><li>10</li><li>11</li><li>12</li><li>13</li><li>14</li><li>15</li><li>16</li><li>17</li><li>18</li><li>19</li><li>20</li><li>21</li><li>22</li><li>23</li><li>24</li><li>25</li><li>26</li><li>27</li><li>28</li><li>29</li><li>30</li><li>31</li><li>32</li><li>33</li><li>34</li><li>35</li><li>36</li></ol>\n"
      ],
      "text/latex": [
       "\\begin{enumerate*}\n",
       "\\item 1\n",
       "\\item 2\n",
       "\\item 3\n",
       "\\item 4\n",
       "\\item 5\n",
       "\\item 6\n",
       "\\item 7\n",
       "\\item 8\n",
       "\\item 9\n",
       "\\item 10\n",
       "\\item 11\n",
       "\\item 12\n",
       "\\item 13\n",
       "\\item 14\n",
       "\\item 15\n",
       "\\item 16\n",
       "\\item 17\n",
       "\\item 18\n",
       "\\item 19\n",
       "\\item 20\n",
       "\\item 21\n",
       "\\item 22\n",
       "\\item 23\n",
       "\\item 24\n",
       "\\item 25\n",
       "\\item 26\n",
       "\\item 27\n",
       "\\item 28\n",
       "\\item 29\n",
       "\\item 30\n",
       "\\item 31\n",
       "\\item 32\n",
       "\\item 33\n",
       "\\item 34\n",
       "\\item 35\n",
       "\\item 36\n",
       "\\end{enumerate*}\n"
      ],
      "text/markdown": [
       "1. 1\n",
       "2. 2\n",
       "3. 3\n",
       "4. 4\n",
       "5. 5\n",
       "6. 6\n",
       "7. 7\n",
       "8. 8\n",
       "9. 9\n",
       "10. 10\n",
       "11. 11\n",
       "12. 12\n",
       "13. 13\n",
       "14. 14\n",
       "15. 15\n",
       "16. 16\n",
       "17. 17\n",
       "18. 18\n",
       "19. 19\n",
       "20. 20\n",
       "21. 21\n",
       "22. 22\n",
       "23. 23\n",
       "24. 24\n",
       "25. 25\n",
       "26. 26\n",
       "27. 27\n",
       "28. 28\n",
       "29. 29\n",
       "30. 30\n",
       "31. 31\n",
       "32. 32\n",
       "33. 33\n",
       "34. 34\n",
       "35. 35\n",
       "36. 36\n",
       "\n",
       "\n"
      ],
      "text/plain": [
       " [1]  1  2  3  4  5  6  7  8  9 10 11 12 13 14 15 16 17 18 19 20 21 22 23 24 25\n",
       "[26] 26 27 28 29 30 31 32 33 34 35 36"
      ]
     },
     "metadata": {},
     "output_type": "display_data"
    }
   ],
   "source": [
    "1:36 # you can generate a series of number by \"start:end\""
   ]
  },
  {
   "cell_type": "code",
   "execution_count": 9,
   "metadata": {
    "vscode": {
     "languageId": "r"
    }
   },
   "outputs": [
    {
     "data": {
      "text/html": [
       "<style>\n",
       ".list-inline {list-style: none; margin:0; padding: 0}\n",
       ".list-inline>li {display: inline-block}\n",
       ".list-inline>li:not(:last-child)::after {content: \"\\00b7\"; padding: 0 .5ex}\n",
       "</style>\n",
       "<ol class=list-inline><li>1</li><li>3.82857142857143</li><li>6.65714285714286</li><li>9.48571428571429</li><li>12.3142857142857</li><li>15.1428571428571</li><li>17.9714285714286</li><li>20.8</li><li>23.6285714285714</li><li>26.4571428571429</li><li>29.2857142857143</li><li>32.1142857142857</li><li>34.9428571428571</li><li>37.7714285714286</li><li>40.6</li><li>43.4285714285714</li><li>46.2571428571429</li><li>49.0857142857143</li><li>51.9142857142857</li><li>54.7428571428571</li><li>57.5714285714286</li><li>60.4</li><li>63.2285714285714</li><li>66.0571428571429</li><li>68.8857142857143</li><li>71.7142857142857</li><li>74.5428571428571</li><li>77.3714285714286</li><li>80.2</li><li>83.0285714285714</li><li>85.8571428571429</li><li>88.6857142857143</li><li>91.5142857142857</li><li>94.3428571428571</li><li>97.1714285714286</li><li>100</li></ol>\n"
      ],
      "text/latex": [
       "\\begin{enumerate*}\n",
       "\\item 1\n",
       "\\item 3.82857142857143\n",
       "\\item 6.65714285714286\n",
       "\\item 9.48571428571429\n",
       "\\item 12.3142857142857\n",
       "\\item 15.1428571428571\n",
       "\\item 17.9714285714286\n",
       "\\item 20.8\n",
       "\\item 23.6285714285714\n",
       "\\item 26.4571428571429\n",
       "\\item 29.2857142857143\n",
       "\\item 32.1142857142857\n",
       "\\item 34.9428571428571\n",
       "\\item 37.7714285714286\n",
       "\\item 40.6\n",
       "\\item 43.4285714285714\n",
       "\\item 46.2571428571429\n",
       "\\item 49.0857142857143\n",
       "\\item 51.9142857142857\n",
       "\\item 54.7428571428571\n",
       "\\item 57.5714285714286\n",
       "\\item 60.4\n",
       "\\item 63.2285714285714\n",
       "\\item 66.0571428571429\n",
       "\\item 68.8857142857143\n",
       "\\item 71.7142857142857\n",
       "\\item 74.5428571428571\n",
       "\\item 77.3714285714286\n",
       "\\item 80.2\n",
       "\\item 83.0285714285714\n",
       "\\item 85.8571428571429\n",
       "\\item 88.6857142857143\n",
       "\\item 91.5142857142857\n",
       "\\item 94.3428571428571\n",
       "\\item 97.1714285714286\n",
       "\\item 100\n",
       "\\end{enumerate*}\n"
      ],
      "text/markdown": [
       "1. 1\n",
       "2. 3.82857142857143\n",
       "3. 6.65714285714286\n",
       "4. 9.48571428571429\n",
       "5. 12.3142857142857\n",
       "6. 15.1428571428571\n",
       "7. 17.9714285714286\n",
       "8. 20.8\n",
       "9. 23.6285714285714\n",
       "10. 26.4571428571429\n",
       "11. 29.2857142857143\n",
       "12. 32.1142857142857\n",
       "13. 34.9428571428571\n",
       "14. 37.7714285714286\n",
       "15. 40.6\n",
       "16. 43.4285714285714\n",
       "17. 46.2571428571429\n",
       "18. 49.0857142857143\n",
       "19. 51.9142857142857\n",
       "20. 54.7428571428571\n",
       "21. 57.5714285714286\n",
       "22. 60.4\n",
       "23. 63.2285714285714\n",
       "24. 66.0571428571429\n",
       "25. 68.8857142857143\n",
       "26. 71.7142857142857\n",
       "27. 74.5428571428571\n",
       "28. 77.3714285714286\n",
       "29. 80.2\n",
       "30. 83.0285714285714\n",
       "31. 85.8571428571429\n",
       "32. 88.6857142857143\n",
       "33. 91.5142857142857\n",
       "34. 94.3428571428571\n",
       "35. 97.1714285714286\n",
       "36. 100\n",
       "\n",
       "\n"
      ],
      "text/plain": [
       " [1]   1.000000   3.828571   6.657143   9.485714  12.314286  15.142857\n",
       " [7]  17.971429  20.800000  23.628571  26.457143  29.285714  32.114286\n",
       "[13]  34.942857  37.771429  40.600000  43.428571  46.257143  49.085714\n",
       "[19]  51.914286  54.742857  57.571429  60.400000  63.228571  66.057143\n",
       "[25]  68.885714  71.714286  74.542857  77.371429  80.200000  83.028571\n",
       "[31]  85.857143  88.685714  91.514286  94.342857  97.171429 100.000000"
      ]
     },
     "metadata": {},
     "output_type": "display_data"
    }
   ],
   "source": [
    "seq(from = 1,to = 100,length.out = 36) # or you can generate a more complicated series sequence by using seq()function, try ?seq()"
   ]
  },
  {
   "cell_type": "code",
   "execution_count": 10,
   "metadata": {
    "vscode": {
     "languageId": "r"
    }
   },
   "outputs": [
    {
     "data": {
      "text/html": [
       "<table class=\"dataframe\">\n",
       "<caption>A matrix: 6 × 6 of type dbl</caption>\n",
       "<tbody>\n",
       "\t<tr><td> 1.000000</td><td>17.97143</td><td>34.94286</td><td>51.91429</td><td>68.88571</td><td> 85.85714</td></tr>\n",
       "\t<tr><td> 3.828571</td><td>20.80000</td><td>37.77143</td><td>54.74286</td><td>71.71429</td><td> 88.68571</td></tr>\n",
       "\t<tr><td> 6.657143</td><td>23.62857</td><td>40.60000</td><td>57.57143</td><td>74.54286</td><td> 91.51429</td></tr>\n",
       "\t<tr><td> 9.485714</td><td>26.45714</td><td>43.42857</td><td>60.40000</td><td>77.37143</td><td> 94.34286</td></tr>\n",
       "\t<tr><td>12.314286</td><td>29.28571</td><td>46.25714</td><td>63.22857</td><td>80.20000</td><td> 97.17143</td></tr>\n",
       "\t<tr><td>15.142857</td><td>32.11429</td><td>49.08571</td><td>66.05714</td><td>83.02857</td><td>100.00000</td></tr>\n",
       "</tbody>\n",
       "</table>\n"
      ],
      "text/latex": [
       "A matrix: 6 × 6 of type dbl\n",
       "\\begin{tabular}{llllll}\n",
       "\t  1.000000 & 17.97143 & 34.94286 & 51.91429 & 68.88571 &  85.85714\\\\\n",
       "\t  3.828571 & 20.80000 & 37.77143 & 54.74286 & 71.71429 &  88.68571\\\\\n",
       "\t  6.657143 & 23.62857 & 40.60000 & 57.57143 & 74.54286 &  91.51429\\\\\n",
       "\t  9.485714 & 26.45714 & 43.42857 & 60.40000 & 77.37143 &  94.34286\\\\\n",
       "\t 12.314286 & 29.28571 & 46.25714 & 63.22857 & 80.20000 &  97.17143\\\\\n",
       "\t 15.142857 & 32.11429 & 49.08571 & 66.05714 & 83.02857 & 100.00000\\\\\n",
       "\\end{tabular}\n"
      ],
      "text/markdown": [
       "\n",
       "A matrix: 6 × 6 of type dbl\n",
       "\n",
       "|  1.000000 | 17.97143 | 34.94286 | 51.91429 | 68.88571 |  85.85714 |\n",
       "|  3.828571 | 20.80000 | 37.77143 | 54.74286 | 71.71429 |  88.68571 |\n",
       "|  6.657143 | 23.62857 | 40.60000 | 57.57143 | 74.54286 |  91.51429 |\n",
       "|  9.485714 | 26.45714 | 43.42857 | 60.40000 | 77.37143 |  94.34286 |\n",
       "| 12.314286 | 29.28571 | 46.25714 | 63.22857 | 80.20000 |  97.17143 |\n",
       "| 15.142857 | 32.11429 | 49.08571 | 66.05714 | 83.02857 | 100.00000 |\n",
       "\n"
      ],
      "text/plain": [
       "     [,1]      [,2]     [,3]     [,4]     [,5]     [,6]     \n",
       "[1,]  1.000000 17.97143 34.94286 51.91429 68.88571  85.85714\n",
       "[2,]  3.828571 20.80000 37.77143 54.74286 71.71429  88.68571\n",
       "[3,]  6.657143 23.62857 40.60000 57.57143 74.54286  91.51429\n",
       "[4,]  9.485714 26.45714 43.42857 60.40000 77.37143  94.34286\n",
       "[5,] 12.314286 29.28571 46.25714 63.22857 80.20000  97.17143\n",
       "[6,] 15.142857 32.11429 49.08571 66.05714 83.02857 100.00000"
      ]
     },
     "metadata": {},
     "output_type": "display_data"
    }
   ],
   "source": [
    "my.mat1 <- matrix(seq(from = 1,to = 100,length.out = 36), 6, 6) # place the vector by\n",
    "my.mat1"
   ]
  },
  {
   "cell_type": "markdown",
   "metadata": {},
   "source": [
    "you can order the elements of a matrix by row instead of column (default)."
   ]
  },
  {
   "cell_type": "code",
   "execution_count": 18,
   "metadata": {
    "vscode": {
     "languageId": "r"
    }
   },
   "outputs": [
    {
     "data": {
      "text/html": [
       "<table class=\"dataframe\">\n",
       "<caption>A matrix: 6 × 6 of type dbl</caption>\n",
       "<tbody>\n",
       "\t<tr><td> 1.00000</td><td> 3.828571</td><td> 6.657143</td><td> 9.485714</td><td>12.31429</td><td> 15.14286</td></tr>\n",
       "\t<tr><td>17.97143</td><td>20.800000</td><td>23.628571</td><td>26.457143</td><td>29.28571</td><td> 32.11429</td></tr>\n",
       "\t<tr><td>34.94286</td><td>37.771429</td><td>40.600000</td><td>43.428571</td><td>46.25714</td><td> 49.08571</td></tr>\n",
       "\t<tr><td>51.91429</td><td>54.742857</td><td>57.571429</td><td>60.400000</td><td>63.22857</td><td> 66.05714</td></tr>\n",
       "\t<tr><td>68.88571</td><td>71.714286</td><td>74.542857</td><td>77.371429</td><td>80.20000</td><td> 83.02857</td></tr>\n",
       "\t<tr><td>85.85714</td><td>88.685714</td><td>91.514286</td><td>94.342857</td><td>97.17143</td><td>100.00000</td></tr>\n",
       "</tbody>\n",
       "</table>\n"
      ],
      "text/latex": [
       "A matrix: 6 × 6 of type dbl\n",
       "\\begin{tabular}{llllll}\n",
       "\t  1.00000 &  3.828571 &  6.657143 &  9.485714 & 12.31429 &  15.14286\\\\\n",
       "\t 17.97143 & 20.800000 & 23.628571 & 26.457143 & 29.28571 &  32.11429\\\\\n",
       "\t 34.94286 & 37.771429 & 40.600000 & 43.428571 & 46.25714 &  49.08571\\\\\n",
       "\t 51.91429 & 54.742857 & 57.571429 & 60.400000 & 63.22857 &  66.05714\\\\\n",
       "\t 68.88571 & 71.714286 & 74.542857 & 77.371429 & 80.20000 &  83.02857\\\\\n",
       "\t 85.85714 & 88.685714 & 91.514286 & 94.342857 & 97.17143 & 100.00000\\\\\n",
       "\\end{tabular}\n"
      ],
      "text/markdown": [
       "\n",
       "A matrix: 6 × 6 of type dbl\n",
       "\n",
       "|  1.00000 |  3.828571 |  6.657143 |  9.485714 | 12.31429 |  15.14286 |\n",
       "| 17.97143 | 20.800000 | 23.628571 | 26.457143 | 29.28571 |  32.11429 |\n",
       "| 34.94286 | 37.771429 | 40.600000 | 43.428571 | 46.25714 |  49.08571 |\n",
       "| 51.91429 | 54.742857 | 57.571429 | 60.400000 | 63.22857 |  66.05714 |\n",
       "| 68.88571 | 71.714286 | 74.542857 | 77.371429 | 80.20000 |  83.02857 |\n",
       "| 85.85714 | 88.685714 | 91.514286 | 94.342857 | 97.17143 | 100.00000 |\n",
       "\n"
      ],
      "text/plain": [
       "     [,1]     [,2]      [,3]      [,4]      [,5]     [,6]     \n",
       "[1,]  1.00000  3.828571  6.657143  9.485714 12.31429  15.14286\n",
       "[2,] 17.97143 20.800000 23.628571 26.457143 29.28571  32.11429\n",
       "[3,] 34.94286 37.771429 40.600000 43.428571 46.25714  49.08571\n",
       "[4,] 51.91429 54.742857 57.571429 60.400000 63.22857  66.05714\n",
       "[5,] 68.88571 71.714286 74.542857 77.371429 80.20000  83.02857\n",
       "[6,] 85.85714 88.685714 91.514286 94.342857 97.17143 100.00000"
      ]
     },
     "metadata": {},
     "output_type": "display_data"
    }
   ],
   "source": [
    "my.mat1 <- matrix(seq(from = 1,to = 100,length.out = 36), 6, 6, byrow=TRUE) # have a close look at the element order within the matrix above and below.\n",
    "my.mat1"
   ]
  },
  {
   "cell_type": "code",
   "execution_count": 12,
   "metadata": {
    "vscode": {
     "languageId": "r"
    }
   },
   "outputs": [
    {
     "data": {
      "text/html": [
       "<style>\n",
       ".list-inline {list-style: none; margin:0; padding: 0}\n",
       ".list-inline>li {display: inline-block}\n",
       ".list-inline>li:not(:last-child)::after {content: \"\\00b7\"; padding: 0 .5ex}\n",
       "</style>\n",
       "<ol class=list-inline><li>6</li><li>6</li></ol>\n"
      ],
      "text/latex": [
       "\\begin{enumerate*}\n",
       "\\item 6\n",
       "\\item 6\n",
       "\\end{enumerate*}\n"
      ],
      "text/markdown": [
       "1. 6\n",
       "2. 6\n",
       "\n",
       "\n"
      ],
      "text/plain": [
       "[1] 6 6"
      ]
     },
     "metadata": {},
     "output_type": "display_data"
    }
   ],
   "source": [
    "dim(my.mat1) #get the size of the matrix"
   ]
  },
  {
   "cell_type": "code",
   "execution_count": 13,
   "metadata": {
    "vscode": {
     "languageId": "r"
    }
   },
   "outputs": [
    {
     "data": {
      "text/html": [
       "<style>\n",
       ".list-inline {list-style: none; margin:0; padding: 0}\n",
       ".list-inline>li {display: inline-block}\n",
       ".list-inline>li:not(:last-child)::after {content: \"\\00b7\"; padding: 0 .5ex}\n",
       "</style>\n",
       "<ol class=list-inline><li>43.4285714285714</li><li>46.2571428571429</li><li>49.0857142857143</li><li>51.9142857142857</li><li>54.7428571428571</li><li>57.5714285714286</li></ol>\n"
      ],
      "text/latex": [
       "\\begin{enumerate*}\n",
       "\\item 43.4285714285714\n",
       "\\item 46.2571428571429\n",
       "\\item 49.0857142857143\n",
       "\\item 51.9142857142857\n",
       "\\item 54.7428571428571\n",
       "\\item 57.5714285714286\n",
       "\\end{enumerate*}\n"
      ],
      "text/markdown": [
       "1. 43.4285714285714\n",
       "2. 46.2571428571429\n",
       "3. 49.0857142857143\n",
       "4. 51.9142857142857\n",
       "5. 54.7428571428571\n",
       "6. 57.5714285714286\n",
       "\n",
       "\n"
      ],
      "text/plain": [
       "[1] 43.42857 46.25714 49.08571 51.91429 54.74286 57.57143"
      ]
     },
     "metadata": {},
     "output_type": "display_data"
    }
   ],
   "source": [
    "colMeans(my.mat1) # get the means for each column, similarly try rowMeans()"
   ]
  },
  {
   "cell_type": "code",
   "execution_count": 14,
   "metadata": {
    "vscode": {
     "languageId": "r"
    }
   },
   "outputs": [
    {
     "data": {
      "text/html": [
       "<table class=\"dataframe\">\n",
       "<caption>A matrix: 6 × 6 of type dbl</caption>\n",
       "<tbody>\n",
       "\t<tr><td>0.000000</td><td>1.342492</td><td>1.895690</td><td>2.249787</td><td>2.510760</td><td>2.717529</td></tr>\n",
       "\t<tr><td>2.888783</td><td>3.034953</td><td>3.162457</td><td>3.275526</td><td>3.377100</td><td>3.469301</td></tr>\n",
       "\t<tr><td>3.553714</td><td>3.631553</td><td>3.703768</td><td>3.771118</td><td>3.834216</td><td>3.893568</td></tr>\n",
       "\t<tr><td>3.949594</td><td>4.002647</td><td>4.053026</td><td>4.100989</td><td>4.146756</td><td>4.190520</td></tr>\n",
       "\t<tr><td>4.232449</td><td>4.272690</td><td>4.311374</td><td>4.348618</td><td>4.384524</td><td>4.419185</td></tr>\n",
       "\t<tr><td>4.452685</td><td>4.485099</td><td>4.516495</td><td>4.546936</td><td>4.576477</td><td>4.605170</td></tr>\n",
       "</tbody>\n",
       "</table>\n"
      ],
      "text/latex": [
       "A matrix: 6 × 6 of type dbl\n",
       "\\begin{tabular}{llllll}\n",
       "\t 0.000000 & 1.342492 & 1.895690 & 2.249787 & 2.510760 & 2.717529\\\\\n",
       "\t 2.888783 & 3.034953 & 3.162457 & 3.275526 & 3.377100 & 3.469301\\\\\n",
       "\t 3.553714 & 3.631553 & 3.703768 & 3.771118 & 3.834216 & 3.893568\\\\\n",
       "\t 3.949594 & 4.002647 & 4.053026 & 4.100989 & 4.146756 & 4.190520\\\\\n",
       "\t 4.232449 & 4.272690 & 4.311374 & 4.348618 & 4.384524 & 4.419185\\\\\n",
       "\t 4.452685 & 4.485099 & 4.516495 & 4.546936 & 4.576477 & 4.605170\\\\\n",
       "\\end{tabular}\n"
      ],
      "text/markdown": [
       "\n",
       "A matrix: 6 × 6 of type dbl\n",
       "\n",
       "| 0.000000 | 1.342492 | 1.895690 | 2.249787 | 2.510760 | 2.717529 |\n",
       "| 2.888783 | 3.034953 | 3.162457 | 3.275526 | 3.377100 | 3.469301 |\n",
       "| 3.553714 | 3.631553 | 3.703768 | 3.771118 | 3.834216 | 3.893568 |\n",
       "| 3.949594 | 4.002647 | 4.053026 | 4.100989 | 4.146756 | 4.190520 |\n",
       "| 4.232449 | 4.272690 | 4.311374 | 4.348618 | 4.384524 | 4.419185 |\n",
       "| 4.452685 | 4.485099 | 4.516495 | 4.546936 | 4.576477 | 4.605170 |\n",
       "\n"
      ],
      "text/plain": [
       "     [,1]     [,2]     [,3]     [,4]     [,5]     [,6]    \n",
       "[1,] 0.000000 1.342492 1.895690 2.249787 2.510760 2.717529\n",
       "[2,] 2.888783 3.034953 3.162457 3.275526 3.377100 3.469301\n",
       "[3,] 3.553714 3.631553 3.703768 3.771118 3.834216 3.893568\n",
       "[4,] 3.949594 4.002647 4.053026 4.100989 4.146756 4.190520\n",
       "[5,] 4.232449 4.272690 4.311374 4.348618 4.384524 4.419185\n",
       "[6,] 4.452685 4.485099 4.516495 4.546936 4.576477 4.605170"
      ]
     },
     "metadata": {},
     "output_type": "display_data"
    }
   ],
   "source": [
    "log(my.mat1)  # log() can also work in Matrix"
   ]
  },
  {
   "cell_type": "markdown",
   "metadata": {},
   "source": [
    "like R vectors, R will do the same sort of type homogenization as R vectors. \n",
    "\n",
    "Try inserting a text value in `my.mat1`and see what happens: "
   ]
  },
  {
   "cell_type": "code",
   "execution_count": 19,
   "metadata": {
    "vscode": {
     "languageId": "r"
    }
   },
   "outputs": [
    {
     "name": "stdout",
     "output_type": "stream",
     "text": [
      " num [1:6, 1:6] 1 18 34.9 51.9 68.9 ...\n"
     ]
    }
   ],
   "source": [
    "str(my.mat1) # str() function can be used to display the data types within the matrix"
   ]
  },
  {
   "cell_type": "code",
   "execution_count": 20,
   "metadata": {
    "vscode": {
     "languageId": "r"
    }
   },
   "outputs": [
    {
     "data": {
      "text/html": [
       "<table class=\"dataframe\">\n",
       "<caption>A matrix: 6 × 6 of type chr</caption>\n",
       "<tbody>\n",
       "\t<tr><td>one             </td><td>3.82857142857143</td><td>6.65714285714286</td><td>9.48571428571429</td><td>12.3142857142857</td><td>15.1428571428571</td></tr>\n",
       "\t<tr><td>17.9714285714286</td><td>20.8            </td><td>23.6285714285714</td><td>26.4571428571429</td><td>29.2857142857143</td><td>32.1142857142857</td></tr>\n",
       "\t<tr><td>34.9428571428571</td><td>37.7714285714286</td><td>40.6            </td><td>43.4285714285714</td><td>46.2571428571429</td><td>49.0857142857143</td></tr>\n",
       "\t<tr><td>51.9142857142857</td><td>54.7428571428571</td><td>57.5714285714286</td><td>60.4            </td><td>63.2285714285714</td><td>66.0571428571429</td></tr>\n",
       "\t<tr><td>68.8857142857143</td><td>71.7142857142857</td><td>74.5428571428571</td><td>77.3714285714286</td><td>80.2            </td><td>83.0285714285714</td></tr>\n",
       "\t<tr><td>85.8571428571429</td><td>88.6857142857143</td><td>91.5142857142857</td><td>94.3428571428571</td><td>97.1714285714286</td><td>100             </td></tr>\n",
       "</tbody>\n",
       "</table>\n"
      ],
      "text/latex": [
       "A matrix: 6 × 6 of type chr\n",
       "\\begin{tabular}{llllll}\n",
       "\t one              & 3.82857142857143 & 6.65714285714286 & 9.48571428571429 & 12.3142857142857 & 15.1428571428571\\\\\n",
       "\t 17.9714285714286 & 20.8             & 23.6285714285714 & 26.4571428571429 & 29.2857142857143 & 32.1142857142857\\\\\n",
       "\t 34.9428571428571 & 37.7714285714286 & 40.6             & 43.4285714285714 & 46.2571428571429 & 49.0857142857143\\\\\n",
       "\t 51.9142857142857 & 54.7428571428571 & 57.5714285714286 & 60.4             & 63.2285714285714 & 66.0571428571429\\\\\n",
       "\t 68.8857142857143 & 71.7142857142857 & 74.5428571428571 & 77.3714285714286 & 80.2             & 83.0285714285714\\\\\n",
       "\t 85.8571428571429 & 88.6857142857143 & 91.5142857142857 & 94.3428571428571 & 97.1714285714286 & 100             \\\\\n",
       "\\end{tabular}\n"
      ],
      "text/markdown": [
       "\n",
       "A matrix: 6 × 6 of type chr\n",
       "\n",
       "| one              | 3.82857142857143 | 6.65714285714286 | 9.48571428571429 | 12.3142857142857 | 15.1428571428571 |\n",
       "| 17.9714285714286 | 20.8             | 23.6285714285714 | 26.4571428571429 | 29.2857142857143 | 32.1142857142857 |\n",
       "| 34.9428571428571 | 37.7714285714286 | 40.6             | 43.4285714285714 | 46.2571428571429 | 49.0857142857143 |\n",
       "| 51.9142857142857 | 54.7428571428571 | 57.5714285714286 | 60.4             | 63.2285714285714 | 66.0571428571429 |\n",
       "| 68.8857142857143 | 71.7142857142857 | 74.5428571428571 | 77.3714285714286 | 80.2             | 83.0285714285714 |\n",
       "| 85.8571428571429 | 88.6857142857143 | 91.5142857142857 | 94.3428571428571 | 97.1714285714286 | 100              |\n",
       "\n"
      ],
      "text/plain": [
       "     [,1]             [,2]             [,3]             [,4]            \n",
       "[1,] one              3.82857142857143 6.65714285714286 9.48571428571429\n",
       "[2,] 17.9714285714286 20.8             23.6285714285714 26.4571428571429\n",
       "[3,] 34.9428571428571 37.7714285714286 40.6             43.4285714285714\n",
       "[4,] 51.9142857142857 54.7428571428571 57.5714285714286 60.4            \n",
       "[5,] 68.8857142857143 71.7142857142857 74.5428571428571 77.3714285714286\n",
       "[6,] 85.8571428571429 88.6857142857143 91.5142857142857 94.3428571428571\n",
       "     [,5]             [,6]            \n",
       "[1,] 12.3142857142857 15.1428571428571\n",
       "[2,] 29.2857142857143 32.1142857142857\n",
       "[3,] 46.2571428571429 49.0857142857143\n",
       "[4,] 63.2285714285714 66.0571428571429\n",
       "[5,] 80.2             83.0285714285714\n",
       "[6,] 97.1714285714286 100             "
      ]
     },
     "metadata": {},
     "output_type": "display_data"
    }
   ],
   "source": [
    "my.mat1[1,1] <- \"one\"\n",
    "my.mat1"
   ]
  },
  {
   "cell_type": "code",
   "execution_count": 21,
   "metadata": {
    "vscode": {
     "languageId": "r"
    }
   },
   "outputs": [
    {
     "name": "stdout",
     "output_type": "stream",
     "text": [
      " chr [1:6, 1:6] \"one\" \"17.9714285714286\" \"34.9428571428571\" ...\n"
     ]
    }
   ],
   "source": [
    "str(my.mat1) # str() function can be used to display the data types within the matrix"
   ]
  },
  {
   "cell_type": "markdown",
   "metadata": {},
   "source": [
    "inserting a string in one location converted all the elements of the matrix to the `chr` (string) data type."
   ]
  },
  {
   "cell_type": "markdown",
   "metadata": {},
   "source": [
    "Wait a minute! What if I want to add a new column to the matrix? Let's try"
   ]
  },
  {
   "cell_type": "code",
   "execution_count": 27,
   "metadata": {
    "vscode": {
     "languageId": "r"
    }
   },
   "outputs": [],
   "source": [
    "column_to_add = c(\"A\",\"B\",\"C\",\"D\",\"E\",\"F\")"
   ]
  },
  {
   "cell_type": "code",
   "execution_count": 28,
   "metadata": {
    "vscode": {
     "languageId": "r"
    }
   },
   "outputs": [],
   "source": [
    "my.mat1 <- matrix(seq(from = 1,to = 100,length.out = 36), 6, 6, byrow=TRUE) # Create a matrix\n"
   ]
  },
  {
   "cell_type": "code",
   "execution_count": 29,
   "metadata": {
    "vscode": {
     "languageId": "r"
    }
   },
   "outputs": [
    {
     "name": "stdout",
     "output_type": "stream",
     "text": [
      " num [1:6, 1:6] 1 18 34.9 51.9 68.9 ...\n"
     ]
    }
   ],
   "source": [
    "str(my.mat1)"
   ]
  },
  {
   "cell_type": "code",
   "execution_count": 30,
   "metadata": {
    "vscode": {
     "languageId": "r"
    }
   },
   "outputs": [],
   "source": [
    "my.mat2 = cbind(my.mat1, column_to_add) # cbind means Take a sequence of vector, matrix or data-frame arguments and combine by columns. Try rbind() for combine by rows."
   ]
  },
  {
   "cell_type": "code",
   "execution_count": 31,
   "metadata": {
    "vscode": {
     "languageId": "r"
    }
   },
   "outputs": [
    {
     "name": "stdout",
     "output_type": "stream",
     "text": [
      " chr [1:6, 1:7] \"1\" \"17.9714285714286\" \"34.9428571428571\" ...\n",
      " - attr(*, \"dimnames\")=List of 2\n",
      "  ..$ : NULL\n",
      "  ..$ : chr [1:7] \"\" \"\" \"\" \"\" ...\n"
     ]
    }
   ],
   "source": [
    "str(my.mat2) # look at the first line"
   ]
  },
  {
   "cell_type": "code",
   "execution_count": 32,
   "metadata": {
    "vscode": {
     "languageId": "r"
    }
   },
   "outputs": [
    {
     "data": {
      "text/html": [
       "<table class=\"dataframe\">\n",
       "<caption>A matrix: 6 × 7 of type chr</caption>\n",
       "<thead>\n",
       "\t<tr><th scope=col></th><th scope=col></th><th scope=col></th><th scope=col></th><th scope=col></th><th scope=col></th><th scope=col>column_to_add</th></tr>\n",
       "</thead>\n",
       "<tbody>\n",
       "\t<tr><td>1               </td><td>3.82857142857143</td><td>6.65714285714286</td><td>9.48571428571429</td><td>12.3142857142857</td><td>15.1428571428571</td><td>A</td></tr>\n",
       "\t<tr><td>17.9714285714286</td><td>20.8            </td><td>23.6285714285714</td><td>26.4571428571429</td><td>29.2857142857143</td><td>32.1142857142857</td><td>B</td></tr>\n",
       "\t<tr><td>34.9428571428571</td><td>37.7714285714286</td><td>40.6            </td><td>43.4285714285714</td><td>46.2571428571429</td><td>49.0857142857143</td><td>C</td></tr>\n",
       "\t<tr><td>51.9142857142857</td><td>54.7428571428571</td><td>57.5714285714286</td><td>60.4            </td><td>63.2285714285714</td><td>66.0571428571429</td><td>D</td></tr>\n",
       "\t<tr><td>68.8857142857143</td><td>71.7142857142857</td><td>74.5428571428571</td><td>77.3714285714286</td><td>80.2            </td><td>83.0285714285714</td><td>E</td></tr>\n",
       "\t<tr><td>85.8571428571429</td><td>88.6857142857143</td><td>91.5142857142857</td><td>94.3428571428571</td><td>97.1714285714286</td><td>100             </td><td>F</td></tr>\n",
       "</tbody>\n",
       "</table>\n"
      ],
      "text/latex": [
       "A matrix: 6 × 7 of type chr\n",
       "\\begin{tabular}{lllllll}\n",
       "  &  &  &  &  &  & column\\_to\\_add\\\\\n",
       "\\hline\n",
       "\t 1                & 3.82857142857143 & 6.65714285714286 & 9.48571428571429 & 12.3142857142857 & 15.1428571428571 & A\\\\\n",
       "\t 17.9714285714286 & 20.8             & 23.6285714285714 & 26.4571428571429 & 29.2857142857143 & 32.1142857142857 & B\\\\\n",
       "\t 34.9428571428571 & 37.7714285714286 & 40.6             & 43.4285714285714 & 46.2571428571429 & 49.0857142857143 & C\\\\\n",
       "\t 51.9142857142857 & 54.7428571428571 & 57.5714285714286 & 60.4             & 63.2285714285714 & 66.0571428571429 & D\\\\\n",
       "\t 68.8857142857143 & 71.7142857142857 & 74.5428571428571 & 77.3714285714286 & 80.2             & 83.0285714285714 & E\\\\\n",
       "\t 85.8571428571429 & 88.6857142857143 & 91.5142857142857 & 94.3428571428571 & 97.1714285714286 & 100              & F\\\\\n",
       "\\end{tabular}\n"
      ],
      "text/markdown": [
       "\n",
       "A matrix: 6 × 7 of type chr\n",
       "\n",
       "| <!----> | <!----> | <!----> | <!----> | <!----> | <!----> | column_to_add |\n",
       "|---|---|---|---|---|---|---|\n",
       "| 1                | 3.82857142857143 | 6.65714285714286 | 9.48571428571429 | 12.3142857142857 | 15.1428571428571 | A |\n",
       "| 17.9714285714286 | 20.8             | 23.6285714285714 | 26.4571428571429 | 29.2857142857143 | 32.1142857142857 | B |\n",
       "| 34.9428571428571 | 37.7714285714286 | 40.6             | 43.4285714285714 | 46.2571428571429 | 49.0857142857143 | C |\n",
       "| 51.9142857142857 | 54.7428571428571 | 57.5714285714286 | 60.4             | 63.2285714285714 | 66.0571428571429 | D |\n",
       "| 68.8857142857143 | 71.7142857142857 | 74.5428571428571 | 77.3714285714286 | 80.2             | 83.0285714285714 | E |\n",
       "| 85.8571428571429 | 88.6857142857143 | 91.5142857142857 | 94.3428571428571 | 97.1714285714286 | 100              | F |\n",
       "\n"
      ],
      "text/plain": [
       "                                                                        \n",
       "[1,] 1                3.82857142857143 6.65714285714286 9.48571428571429\n",
       "[2,] 17.9714285714286 20.8             23.6285714285714 26.4571428571429\n",
       "[3,] 34.9428571428571 37.7714285714286 40.6             43.4285714285714\n",
       "[4,] 51.9142857142857 54.7428571428571 57.5714285714286 60.4            \n",
       "[5,] 68.8857142857143 71.7142857142857 74.5428571428571 77.3714285714286\n",
       "[6,] 85.8571428571429 88.6857142857143 91.5142857142857 94.3428571428571\n",
       "                                       column_to_add\n",
       "[1,] 12.3142857142857 15.1428571428571 A            \n",
       "[2,] 29.2857142857143 32.1142857142857 B            \n",
       "[3,] 46.2571428571429 49.0857142857143 C            \n",
       "[4,] 63.2285714285714 66.0571428571429 D            \n",
       "[5,] 80.2             83.0285714285714 E            \n",
       "[6,] 97.1714285714286 100              F            "
      ]
     },
     "metadata": {},
     "output_type": "display_data"
    }
   ],
   "source": [
    "my.mat2"
   ]
  },
  {
   "cell_type": "code",
   "execution_count": 33,
   "metadata": {
    "vscode": {
     "languageId": "r"
    }
   },
   "outputs": [
    {
     "ename": "ERROR",
     "evalue": "Error in log(my.mat2[1, 1]): non-numeric argument to mathematical function\n",
     "output_type": "error",
     "traceback": [
      "Error in log(my.mat2[1, 1]): non-numeric argument to mathematical function\nTraceback:\n"
     ]
    }
   ],
   "source": [
    "# log(my.mat2[1,1]) # try use this code to test whether you can do calculation on this character matrix"
   ]
  },
  {
   "cell_type": "markdown",
   "metadata": {},
   "source": [
    "Ok, our matrix `my.mat2` all transfered from numeric into character (string) at this moment. As character can not be used for calculation, what if we want to retain this `column_to_add` in the data without changing the other numeric data type? This will be solved in the next sections 2.2.3."
   ]
  },
  {
   "cell_type": "markdown",
   "metadata": {},
   "source": [
    "### 2.2.3 Data frames\n",
    "\n",
    "Data frames are a fundamental and versatile data structure in R, offering a crucial advantage over matrices and vectors. Unlike matrices and vectors, R data frames can accommodate heterogeneous data types in each column, such as numeric values, strings, and boolean values, or even a mix of these data types, resembling the structure of a typical spreadsheet. As a result, data frames have become a cornerstone in R programming, widely utilized by statistical analysis and plotting functions as well as various packages within the R ecosystem. \n",
    "\n",
    "Let's build and manipulate a dataframe. First create three vectors:"
   ]
  },
  {
   "cell_type": "code",
   "execution_count": 166,
   "metadata": {
    "vscode": {
     "languageId": "r"
    }
   },
   "outputs": [
    {
     "data": {
      "text/html": [
       "<style>\n",
       ".list-inline {list-style: none; margin:0; padding: 0}\n",
       ".list-inline>li {display: inline-block}\n",
       ".list-inline>li:not(:last-child)::after {content: \"\\00b7\"; padding: 0 .5ex}\n",
       "</style>\n",
       "<ol class=list-inline><li>1</li><li>2</li><li>3</li><li>4</li><li>5</li><li>6</li><li>7</li><li>8</li><li>9</li><li>10</li></ol>\n"
      ],
      "text/latex": [
       "\\begin{enumerate*}\n",
       "\\item 1\n",
       "\\item 2\n",
       "\\item 3\n",
       "\\item 4\n",
       "\\item 5\n",
       "\\item 6\n",
       "\\item 7\n",
       "\\item 8\n",
       "\\item 9\n",
       "\\item 10\n",
       "\\end{enumerate*}\n"
      ],
      "text/markdown": [
       "1. 1\n",
       "2. 2\n",
       "3. 3\n",
       "4. 4\n",
       "5. 5\n",
       "6. 6\n",
       "7. 7\n",
       "8. 8\n",
       "9. 9\n",
       "10. 10\n",
       "\n",
       "\n"
      ],
      "text/plain": [
       " [1]  1  2  3  4  5  6  7  8  9 10"
      ]
     },
     "metadata": {},
     "output_type": "display_data"
    }
   ],
   "source": [
    "column1 <- seq(from = 1,to = 10, by = 1)\n",
    "column1"
   ]
  },
  {
   "cell_type": "code",
   "execution_count": 167,
   "metadata": {
    "vscode": {
     "languageId": "r"
    }
   },
   "outputs": [
    {
     "data": {
      "text/html": [
       "<style>\n",
       ".list-inline {list-style: none; margin:0; padding: 0}\n",
       ".list-inline>li {display: inline-block}\n",
       ".list-inline>li:not(:last-child)::after {content: \"\\00b7\"; padding: 0 .5ex}\n",
       "</style>\n",
       "<ol class=list-inline><li>'A'</li><li>'A'</li><li>'A'</li><li>'A'</li><li>'A'</li><li>'C'</li><li>'C'</li><li>'C'</li><li>'C'</li><li>'C'</li></ol>\n"
      ],
      "text/latex": [
       "\\begin{enumerate*}\n",
       "\\item 'A'\n",
       "\\item 'A'\n",
       "\\item 'A'\n",
       "\\item 'A'\n",
       "\\item 'A'\n",
       "\\item 'C'\n",
       "\\item 'C'\n",
       "\\item 'C'\n",
       "\\item 'C'\n",
       "\\item 'C'\n",
       "\\end{enumerate*}\n"
      ],
      "text/markdown": [
       "1. 'A'\n",
       "2. 'A'\n",
       "3. 'A'\n",
       "4. 'A'\n",
       "5. 'A'\n",
       "6. 'C'\n",
       "7. 'C'\n",
       "8. 'C'\n",
       "9. 'C'\n",
       "10. 'C'\n",
       "\n",
       "\n"
      ],
      "text/plain": [
       " [1] \"A\" \"A\" \"A\" \"A\" \"A\" \"C\" \"C\" \"C\" \"C\" \"C\""
      ]
     },
     "metadata": {},
     "output_type": "display_data"
    }
   ],
   "source": [
    "column2 <- c( rep(\"A\", 5), rep(\"C\", 5) )   # function rep() can be used to repeat an input for several times. try ?rep()\n",
    "column2"
   ]
  },
  {
   "cell_type": "code",
   "execution_count": 264,
   "metadata": {
    "vscode": {
     "languageId": "r"
    }
   },
   "outputs": [
    {
     "data": {
      "text/html": [
       "<style>\n",
       ".list-inline {list-style: none; margin:0; padding: 0}\n",
       ".list-inline>li {display: inline-block}\n",
       ".list-inline>li:not(:last-child)::after {content: \"\\00b7\"; padding: 0 .5ex}\n",
       "</style>\n",
       "<ol class=list-inline><li>4.27295411702566</li><li>3.50307256005413</li><li>2.63804300167533</li><li>2.48068274654319</li><li>4.53714768255899</li><li>3.29235484543788</li><li>2.53464714613231</li><li>1.87296528079572</li><li>0.775124585530932</li><li>0.878648697839709</li></ol>\n"
      ],
      "text/latex": [
       "\\begin{enumerate*}\n",
       "\\item 4.27295411702566\n",
       "\\item 3.50307256005413\n",
       "\\item 2.63804300167533\n",
       "\\item 2.48068274654319\n",
       "\\item 4.53714768255899\n",
       "\\item 3.29235484543788\n",
       "\\item 2.53464714613231\n",
       "\\item 1.87296528079572\n",
       "\\item 0.775124585530932\n",
       "\\item 0.878648697839709\n",
       "\\end{enumerate*}\n"
      ],
      "text/markdown": [
       "1. 4.27295411702566\n",
       "2. 3.50307256005413\n",
       "3. 2.63804300167533\n",
       "4. 2.48068274654319\n",
       "5. 4.53714768255899\n",
       "6. 3.29235484543788\n",
       "7. 2.53464714613231\n",
       "8. 1.87296528079572\n",
       "9. 0.775124585530932\n",
       "10. 0.878648697839709\n",
       "\n",
       "\n"
      ],
      "text/plain": [
       " [1] 4.2729541 3.5030726 2.6380430 2.4806827 4.5371477 3.2923548 2.5346471\n",
       " [8] 1.8729653 0.7751246 0.8786487"
      ]
     },
     "metadata": {},
     "output_type": "display_data"
    }
   ],
   "source": [
    "set.seed(2024) # seed for random numbers\n",
    "column3 <- c( rnorm(n = 5,mean = 2.8,sd = 1.5), rnorm(n = 5,mean = 2,sd = 1) ) # 10 random numbers from two different normal distribution\n",
    "column3"
   ]
  },
  {
   "cell_type": "markdown",
   "metadata": {},
   "source": [
    "Now combine them into a dataframe:"
   ]
  },
  {
   "cell_type": "code",
   "execution_count": 265,
   "metadata": {
    "scrolled": true,
    "vscode": {
     "languageId": "r"
    }
   },
   "outputs": [
    {
     "data": {
      "text/html": [
       "<table class=\"dataframe\">\n",
       "<caption>A data.frame: 10 × 3</caption>\n",
       "<thead>\n",
       "\t<tr><th scope=col>column1</th><th scope=col>column2</th><th scope=col>column3</th></tr>\n",
       "\t<tr><th scope=col>&lt;dbl&gt;</th><th scope=col>&lt;chr&gt;</th><th scope=col>&lt;dbl&gt;</th></tr>\n",
       "</thead>\n",
       "<tbody>\n",
       "\t<tr><td> 1</td><td>A</td><td>4.2729541</td></tr>\n",
       "\t<tr><td> 2</td><td>A</td><td>3.5030726</td></tr>\n",
       "\t<tr><td> 3</td><td>A</td><td>2.6380430</td></tr>\n",
       "\t<tr><td> 4</td><td>A</td><td>2.4806827</td></tr>\n",
       "\t<tr><td> 5</td><td>A</td><td>4.5371477</td></tr>\n",
       "\t<tr><td> 6</td><td>C</td><td>3.2923548</td></tr>\n",
       "\t<tr><td> 7</td><td>C</td><td>2.5346471</td></tr>\n",
       "\t<tr><td> 8</td><td>C</td><td>1.8729653</td></tr>\n",
       "\t<tr><td> 9</td><td>C</td><td>0.7751246</td></tr>\n",
       "\t<tr><td>10</td><td>C</td><td>0.8786487</td></tr>\n",
       "</tbody>\n",
       "</table>\n"
      ],
      "text/latex": [
       "A data.frame: 10 × 3\n",
       "\\begin{tabular}{lll}\n",
       " column1 & column2 & column3\\\\\n",
       " <dbl> & <chr> & <dbl>\\\\\n",
       "\\hline\n",
       "\t  1 & A & 4.2729541\\\\\n",
       "\t  2 & A & 3.5030726\\\\\n",
       "\t  3 & A & 2.6380430\\\\\n",
       "\t  4 & A & 2.4806827\\\\\n",
       "\t  5 & A & 4.5371477\\\\\n",
       "\t  6 & C & 3.2923548\\\\\n",
       "\t  7 & C & 2.5346471\\\\\n",
       "\t  8 & C & 1.8729653\\\\\n",
       "\t  9 & C & 0.7751246\\\\\n",
       "\t 10 & C & 0.8786487\\\\\n",
       "\\end{tabular}\n"
      ],
      "text/markdown": [
       "\n",
       "A data.frame: 10 × 3\n",
       "\n",
       "| column1 &lt;dbl&gt; | column2 &lt;chr&gt; | column3 &lt;dbl&gt; |\n",
       "|---|---|---|\n",
       "|  1 | A | 4.2729541 |\n",
       "|  2 | A | 3.5030726 |\n",
       "|  3 | A | 2.6380430 |\n",
       "|  4 | A | 2.4806827 |\n",
       "|  5 | A | 4.5371477 |\n",
       "|  6 | C | 3.2923548 |\n",
       "|  7 | C | 2.5346471 |\n",
       "|  8 | C | 1.8729653 |\n",
       "|  9 | C | 0.7751246 |\n",
       "| 10 | C | 0.8786487 |\n",
       "\n"
      ],
      "text/plain": [
       "   column1 column2 column3  \n",
       "1   1      A       4.2729541\n",
       "2   2      A       3.5030726\n",
       "3   3      A       2.6380430\n",
       "4   4      A       2.4806827\n",
       "5   5      A       4.5371477\n",
       "6   6      C       3.2923548\n",
       "7   7      C       2.5346471\n",
       "8   8      C       1.8729653\n",
       "9   9      C       0.7751246\n",
       "10 10      C       0.8786487"
      ]
     },
     "metadata": {},
     "output_type": "display_data"
    }
   ],
   "source": [
    "my.df <- data.frame(column1, column2, column3)\n",
    "my.df"
   ]
  },
  {
   "cell_type": "markdown",
   "metadata": {},
   "source": [
    "You can easily assign names to the columns of dataframes:"
   ]
  },
  {
   "cell_type": "code",
   "execution_count": 266,
   "metadata": {
    "vscode": {
     "languageId": "r"
    }
   },
   "outputs": [
    {
     "data": {
      "text/html": [
       "<table class=\"dataframe\">\n",
       "<caption>A data.frame: 10 × 3</caption>\n",
       "<thead>\n",
       "\t<tr><th scope=col>MyFirstColumn</th><th scope=col>My Second Column</th><th scope=col>My.Third.Column</th></tr>\n",
       "\t<tr><th scope=col>&lt;dbl&gt;</th><th scope=col>&lt;chr&gt;</th><th scope=col>&lt;dbl&gt;</th></tr>\n",
       "</thead>\n",
       "<tbody>\n",
       "\t<tr><td> 1</td><td>A</td><td>4.2729541</td></tr>\n",
       "\t<tr><td> 2</td><td>A</td><td>3.5030726</td></tr>\n",
       "\t<tr><td> 3</td><td>A</td><td>2.6380430</td></tr>\n",
       "\t<tr><td> 4</td><td>A</td><td>2.4806827</td></tr>\n",
       "\t<tr><td> 5</td><td>A</td><td>4.5371477</td></tr>\n",
       "\t<tr><td> 6</td><td>C</td><td>3.2923548</td></tr>\n",
       "\t<tr><td> 7</td><td>C</td><td>2.5346471</td></tr>\n",
       "\t<tr><td> 8</td><td>C</td><td>1.8729653</td></tr>\n",
       "\t<tr><td> 9</td><td>C</td><td>0.7751246</td></tr>\n",
       "\t<tr><td>10</td><td>C</td><td>0.8786487</td></tr>\n",
       "</tbody>\n",
       "</table>\n"
      ],
      "text/latex": [
       "A data.frame: 10 × 3\n",
       "\\begin{tabular}{lll}\n",
       " MyFirstColumn & My Second Column & My.Third.Column\\\\\n",
       " <dbl> & <chr> & <dbl>\\\\\n",
       "\\hline\n",
       "\t  1 & A & 4.2729541\\\\\n",
       "\t  2 & A & 3.5030726\\\\\n",
       "\t  3 & A & 2.6380430\\\\\n",
       "\t  4 & A & 2.4806827\\\\\n",
       "\t  5 & A & 4.5371477\\\\\n",
       "\t  6 & C & 3.2923548\\\\\n",
       "\t  7 & C & 2.5346471\\\\\n",
       "\t  8 & C & 1.8729653\\\\\n",
       "\t  9 & C & 0.7751246\\\\\n",
       "\t 10 & C & 0.8786487\\\\\n",
       "\\end{tabular}\n"
      ],
      "text/markdown": [
       "\n",
       "A data.frame: 10 × 3\n",
       "\n",
       "| MyFirstColumn &lt;dbl&gt; | My Second Column &lt;chr&gt; | My.Third.Column &lt;dbl&gt; |\n",
       "|---|---|---|\n",
       "|  1 | A | 4.2729541 |\n",
       "|  2 | A | 3.5030726 |\n",
       "|  3 | A | 2.6380430 |\n",
       "|  4 | A | 2.4806827 |\n",
       "|  5 | A | 4.5371477 |\n",
       "|  6 | C | 3.2923548 |\n",
       "|  7 | C | 2.5346471 |\n",
       "|  8 | C | 1.8729653 |\n",
       "|  9 | C | 0.7751246 |\n",
       "| 10 | C | 0.8786487 |\n",
       "\n"
      ],
      "text/plain": [
       "   MyFirstColumn My Second Column My.Third.Column\n",
       "1   1            A                4.2729541      \n",
       "2   2            A                3.5030726      \n",
       "3   3            A                2.6380430      \n",
       "4   4            A                2.4806827      \n",
       "5   5            A                4.5371477      \n",
       "6   6            C                3.2923548      \n",
       "7   7            C                2.5346471      \n",
       "8   8            C                1.8729653      \n",
       "9   9            C                0.7751246      \n",
       "10 10            C                0.8786487      "
      ]
     },
     "metadata": {},
     "output_type": "display_data"
    }
   ],
   "source": [
    "names(my.df) <- c(\"MyFirstColumn\", \"My Second Column\", \"My.Third.Column\")\n",
    "my.df"
   ]
  },
  {
   "cell_type": "markdown",
   "metadata": {},
   "source": [
    "And unlike matrices, you can access the contents of data frames by naming the columns directly using a $ sign:"
   ]
  },
  {
   "cell_type": "code",
   "execution_count": 267,
   "metadata": {
    "vscode": {
     "languageId": "r"
    }
   },
   "outputs": [
    {
     "data": {
      "text/html": [
       "<style>\n",
       ".list-inline {list-style: none; margin:0; padding: 0}\n",
       ".list-inline>li {display: inline-block}\n",
       ".list-inline>li:not(:last-child)::after {content: \"\\00b7\"; padding: 0 .5ex}\n",
       "</style>\n",
       "<ol class=list-inline><li>1</li><li>2</li><li>3</li><li>4</li><li>5</li><li>6</li><li>7</li><li>8</li><li>9</li><li>10</li></ol>\n"
      ],
      "text/latex": [
       "\\begin{enumerate*}\n",
       "\\item 1\n",
       "\\item 2\n",
       "\\item 3\n",
       "\\item 4\n",
       "\\item 5\n",
       "\\item 6\n",
       "\\item 7\n",
       "\\item 8\n",
       "\\item 9\n",
       "\\item 10\n",
       "\\end{enumerate*}\n"
      ],
      "text/markdown": [
       "1. 1\n",
       "2. 2\n",
       "3. 3\n",
       "4. 4\n",
       "5. 5\n",
       "6. 6\n",
       "7. 7\n",
       "8. 8\n",
       "9. 9\n",
       "10. 10\n",
       "\n",
       "\n"
      ],
      "text/plain": [
       " [1]  1  2  3  4  5  6  7  8  9 10"
      ]
     },
     "metadata": {},
     "output_type": "display_data"
    }
   ],
   "source": [
    "my.df$MyFirstColumn # try `TAB` to complete the column name as well"
   ]
  },
  {
   "cell_type": "markdown",
   "metadata": {},
   "source": [
    "\n",
    "\n",
    "And also, you can replace that column name using the `colnames` function:"
   ]
  },
  {
   "cell_type": "code",
   "execution_count": 268,
   "metadata": {
    "scrolled": true,
    "vscode": {
     "languageId": "r"
    }
   },
   "outputs": [
    {
     "data": {
      "text/html": [
       "<style>\n",
       ".list-inline {list-style: none; margin:0; padding: 0}\n",
       ".list-inline>li {display: inline-block}\n",
       ".list-inline>li:not(:last-child)::after {content: \"\\00b7\"; padding: 0 .5ex}\n",
       "</style>\n",
       "<ol class=list-inline><li>'MyFirstColumn'</li><li>'My Second Column'</li><li>'My.Third.Column'</li></ol>\n"
      ],
      "text/latex": [
       "\\begin{enumerate*}\n",
       "\\item 'MyFirstColumn'\n",
       "\\item 'My Second Column'\n",
       "\\item 'My.Third.Column'\n",
       "\\end{enumerate*}\n"
      ],
      "text/markdown": [
       "1. 'MyFirstColumn'\n",
       "2. 'My Second Column'\n",
       "3. 'My.Third.Column'\n",
       "\n",
       "\n"
      ],
      "text/plain": [
       "[1] \"MyFirstColumn\"    \"My Second Column\" \"My.Third.Column\" "
      ]
     },
     "metadata": {},
     "output_type": "display_data"
    }
   ],
   "source": [
    "colnames(my.df)"
   ]
  },
  {
   "cell_type": "code",
   "execution_count": 269,
   "metadata": {
    "vscode": {
     "languageId": "r"
    }
   },
   "outputs": [
    {
     "data": {
      "text/html": [
       "<table class=\"dataframe\">\n",
       "<caption>A data.frame: 10 × 3</caption>\n",
       "<thead>\n",
       "\t<tr><th scope=col>Sample_ID</th><th scope=col>Group</th><th scope=col>Value</th></tr>\n",
       "\t<tr><th scope=col>&lt;dbl&gt;</th><th scope=col>&lt;chr&gt;</th><th scope=col>&lt;dbl&gt;</th></tr>\n",
       "</thead>\n",
       "<tbody>\n",
       "\t<tr><td> 1</td><td>A</td><td>4.2729541</td></tr>\n",
       "\t<tr><td> 2</td><td>A</td><td>3.5030726</td></tr>\n",
       "\t<tr><td> 3</td><td>A</td><td>2.6380430</td></tr>\n",
       "\t<tr><td> 4</td><td>A</td><td>2.4806827</td></tr>\n",
       "\t<tr><td> 5</td><td>A</td><td>4.5371477</td></tr>\n",
       "\t<tr><td> 6</td><td>C</td><td>3.2923548</td></tr>\n",
       "\t<tr><td> 7</td><td>C</td><td>2.5346471</td></tr>\n",
       "\t<tr><td> 8</td><td>C</td><td>1.8729653</td></tr>\n",
       "\t<tr><td> 9</td><td>C</td><td>0.7751246</td></tr>\n",
       "\t<tr><td>10</td><td>C</td><td>0.8786487</td></tr>\n",
       "</tbody>\n",
       "</table>\n"
      ],
      "text/latex": [
       "A data.frame: 10 × 3\n",
       "\\begin{tabular}{lll}\n",
       " Sample\\_ID & Group & Value\\\\\n",
       " <dbl> & <chr> & <dbl>\\\\\n",
       "\\hline\n",
       "\t  1 & A & 4.2729541\\\\\n",
       "\t  2 & A & 3.5030726\\\\\n",
       "\t  3 & A & 2.6380430\\\\\n",
       "\t  4 & A & 2.4806827\\\\\n",
       "\t  5 & A & 4.5371477\\\\\n",
       "\t  6 & C & 3.2923548\\\\\n",
       "\t  7 & C & 2.5346471\\\\\n",
       "\t  8 & C & 1.8729653\\\\\n",
       "\t  9 & C & 0.7751246\\\\\n",
       "\t 10 & C & 0.8786487\\\\\n",
       "\\end{tabular}\n"
      ],
      "text/markdown": [
       "\n",
       "A data.frame: 10 × 3\n",
       "\n",
       "| Sample_ID &lt;dbl&gt; | Group &lt;chr&gt; | Value &lt;dbl&gt; |\n",
       "|---|---|---|\n",
       "|  1 | A | 4.2729541 |\n",
       "|  2 | A | 3.5030726 |\n",
       "|  3 | A | 2.6380430 |\n",
       "|  4 | A | 2.4806827 |\n",
       "|  5 | A | 4.5371477 |\n",
       "|  6 | C | 3.2923548 |\n",
       "|  7 | C | 2.5346471 |\n",
       "|  8 | C | 1.8729653 |\n",
       "|  9 | C | 0.7751246 |\n",
       "| 10 | C | 0.8786487 |\n",
       "\n"
      ],
      "text/plain": [
       "   Sample_ID Group Value    \n",
       "1   1        A     4.2729541\n",
       "2   2        A     3.5030726\n",
       "3   3        A     2.6380430\n",
       "4   4        A     2.4806827\n",
       "5   5        A     4.5371477\n",
       "6   6        C     3.2923548\n",
       "7   7        C     2.5346471\n",
       "8   8        C     1.8729653\n",
       "9   9        C     0.7751246\n",
       "10 10        C     0.8786487"
      ]
     },
     "metadata": {},
     "output_type": "display_data"
    }
   ],
   "source": [
    "colnames(my.df)[1] <- \"Sample_ID\"\n",
    "colnames(my.df)[2] <- \"Group\"\n",
    "colnames(my.df)[3] <- \"Value\"\n",
    "my.df"
   ]
  },
  {
   "cell_type": "markdown",
   "metadata": {},
   "source": [
    "You can also access elements by using numerical indexing:  That is, you asked R to return values of `my.df` in all Rows (therefore, nothing before the comma), and the first column (`1` after the comma). "
   ]
  },
  {
   "cell_type": "code",
   "execution_count": 189,
   "metadata": {
    "vscode": {
     "languageId": "r"
    }
   },
   "outputs": [
    {
     "data": {
      "text/html": [
       "<style>\n",
       ".list-inline {list-style: none; margin:0; padding: 0}\n",
       ".list-inline>li {display: inline-block}\n",
       ".list-inline>li:not(:last-child)::after {content: \"\\00b7\"; padding: 0 .5ex}\n",
       "</style>\n",
       "<ol class=list-inline><li>1</li><li>2</li><li>3</li><li>4</li><li>5</li><li>6</li><li>7</li><li>8</li><li>9</li><li>10</li></ol>\n"
      ],
      "text/latex": [
       "\\begin{enumerate*}\n",
       "\\item 1\n",
       "\\item 2\n",
       "\\item 3\n",
       "\\item 4\n",
       "\\item 5\n",
       "\\item 6\n",
       "\\item 7\n",
       "\\item 8\n",
       "\\item 9\n",
       "\\item 10\n",
       "\\end{enumerate*}\n"
      ],
      "text/markdown": [
       "1. 1\n",
       "2. 2\n",
       "3. 3\n",
       "4. 4\n",
       "5. 5\n",
       "6. 6\n",
       "7. 7\n",
       "8. 8\n",
       "9. 9\n",
       "10. 10\n",
       "\n",
       "\n"
      ],
      "text/plain": [
       " [1]  1  2  3  4  5  6  7  8  9 10"
      ]
     },
     "metadata": {},
     "output_type": "display_data"
    }
   ],
   "source": [
    "my.df[,1]"
   ]
  },
  {
   "cell_type": "markdown",
   "metadata": {},
   "source": [
    "You can also add numeric index (1, as the first row) to get the first row, first column element."
   ]
  },
  {
   "cell_type": "code",
   "execution_count": 190,
   "metadata": {
    "vscode": {
     "languageId": "r"
    }
   },
   "outputs": [
    {
     "data": {
      "text/html": [
       "1"
      ],
      "text/latex": [
       "1"
      ],
      "text/markdown": [
       "1"
      ],
      "text/plain": [
       "[1] 1"
      ]
     },
     "metadata": {},
     "output_type": "display_data"
    }
   ],
   "source": [
    "my.df[1,1]"
   ]
  },
  {
   "cell_type": "markdown",
   "metadata": {},
   "source": [
    "Instead of the numeric index, you could also use the name as the index."
   ]
  },
  {
   "cell_type": "code",
   "execution_count": 176,
   "metadata": {
    "vscode": {
     "languageId": "r"
    }
   },
   "outputs": [
    {
     "data": {
      "text/html": [
       "<table class=\"dataframe\">\n",
       "<caption>A data.frame: 10 × 2</caption>\n",
       "<thead>\n",
       "\t<tr><th scope=col>Group</th><th scope=col>Value</th></tr>\n",
       "\t<tr><th scope=col>&lt;chr&gt;</th><th scope=col>&lt;dbl&gt;</th></tr>\n",
       "</thead>\n",
       "<tbody>\n",
       "\t<tr><td>A</td><td>4.9819694</td></tr>\n",
       "\t<tr><td>A</td><td>4.4687150</td></tr>\n",
       "\t<tr><td>A</td><td>3.8920287</td></tr>\n",
       "\t<tr><td>A</td><td>3.7871218</td></tr>\n",
       "\t<tr><td>A</td><td>5.1580985</td></tr>\n",
       "\t<tr><td>C</td><td>3.2923548</td></tr>\n",
       "\t<tr><td>C</td><td>2.5346471</td></tr>\n",
       "\t<tr><td>C</td><td>1.8729653</td></tr>\n",
       "\t<tr><td>C</td><td>0.7751246</td></tr>\n",
       "\t<tr><td>C</td><td>0.8786487</td></tr>\n",
       "</tbody>\n",
       "</table>\n"
      ],
      "text/latex": [
       "A data.frame: 10 × 2\n",
       "\\begin{tabular}{ll}\n",
       " Group & Value\\\\\n",
       " <chr> & <dbl>\\\\\n",
       "\\hline\n",
       "\t A & 4.9819694\\\\\n",
       "\t A & 4.4687150\\\\\n",
       "\t A & 3.8920287\\\\\n",
       "\t A & 3.7871218\\\\\n",
       "\t A & 5.1580985\\\\\n",
       "\t C & 3.2923548\\\\\n",
       "\t C & 2.5346471\\\\\n",
       "\t C & 1.8729653\\\\\n",
       "\t C & 0.7751246\\\\\n",
       "\t C & 0.8786487\\\\\n",
       "\\end{tabular}\n"
      ],
      "text/markdown": [
       "\n",
       "A data.frame: 10 × 2\n",
       "\n",
       "| Group &lt;chr&gt; | Value &lt;dbl&gt; |\n",
       "|---|---|\n",
       "| A | 4.9819694 |\n",
       "| A | 4.4687150 |\n",
       "| A | 3.8920287 |\n",
       "| A | 3.7871218 |\n",
       "| A | 5.1580985 |\n",
       "| C | 3.2923548 |\n",
       "| C | 2.5346471 |\n",
       "| C | 1.8729653 |\n",
       "| C | 0.7751246 |\n",
       "| C | 0.8786487 |\n",
       "\n"
      ],
      "text/plain": [
       "   Group Value    \n",
       "1  A     4.9819694\n",
       "2  A     4.4687150\n",
       "3  A     3.8920287\n",
       "4  A     3.7871218\n",
       "5  A     5.1580985\n",
       "6  C     3.2923548\n",
       "7  C     2.5346471\n",
       "8  C     1.8729653\n",
       "9  C     0.7751246\n",
       "10 C     0.8786487"
      ]
     },
     "metadata": {},
     "output_type": "display_data"
    }
   ],
   "source": [
    "my.df[,c(\"Group\",\"Value\")] # show two specific columns only"
   ]
  },
  {
   "cell_type": "markdown",
   "metadata": {},
   "source": [
    "You can check whether a particular object is a dataframe data structure with:"
   ]
  },
  {
   "cell_type": "code",
   "execution_count": 177,
   "metadata": {
    "scrolled": true,
    "vscode": {
     "languageId": "r"
    }
   },
   "outputs": [
    {
     "data": {
      "text/html": [
       "'data.frame'"
      ],
      "text/latex": [
       "'data.frame'"
      ],
      "text/markdown": [
       "'data.frame'"
      ],
      "text/plain": [
       "[1] \"data.frame\""
      ]
     },
     "metadata": {},
     "output_type": "display_data"
    }
   ],
   "source": [
    "class(my.df)"
   ]
  },
  {
   "cell_type": "markdown",
   "metadata": {},
   "source": [
    "You can check the structure of a dataframe with `str()`:"
   ]
  },
  {
   "cell_type": "code",
   "execution_count": 178,
   "metadata": {
    "vscode": {
     "languageId": "r"
    }
   },
   "outputs": [
    {
     "name": "stdout",
     "output_type": "stream",
     "text": [
      "'data.frame':\t10 obs. of  3 variables:\n",
      " $ Sample_ID: num  1 2 3 4 5 6 7 8 9 10\n",
      " $ Group    : chr  \"A\" \"A\" \"A\" \"A\" ...\n",
      " $ Value    : num  4.98 4.47 3.89 3.79 5.16 ...\n"
     ]
    }
   ],
   "source": [
    "str(my.df)"
   ]
  },
  {
   "cell_type": "markdown",
   "metadata": {},
   "source": [
    "You can print the column names and top few rows with `head()`:"
   ]
  },
  {
   "cell_type": "code",
   "execution_count": 179,
   "metadata": {
    "vscode": {
     "languageId": "r"
    }
   },
   "outputs": [
    {
     "data": {
      "text/html": [
       "<table class=\"dataframe\">\n",
       "<caption>A data.frame: 6 × 3</caption>\n",
       "<thead>\n",
       "\t<tr><th></th><th scope=col>Sample_ID</th><th scope=col>Group</th><th scope=col>Value</th></tr>\n",
       "\t<tr><th></th><th scope=col>&lt;dbl&gt;</th><th scope=col>&lt;chr&gt;</th><th scope=col>&lt;dbl&gt;</th></tr>\n",
       "</thead>\n",
       "<tbody>\n",
       "\t<tr><th scope=row>1</th><td>1</td><td>A</td><td>4.981969</td></tr>\n",
       "\t<tr><th scope=row>2</th><td>2</td><td>A</td><td>4.468715</td></tr>\n",
       "\t<tr><th scope=row>3</th><td>3</td><td>A</td><td>3.892029</td></tr>\n",
       "\t<tr><th scope=row>4</th><td>4</td><td>A</td><td>3.787122</td></tr>\n",
       "\t<tr><th scope=row>5</th><td>5</td><td>A</td><td>5.158098</td></tr>\n",
       "\t<tr><th scope=row>6</th><td>6</td><td>C</td><td>3.292355</td></tr>\n",
       "</tbody>\n",
       "</table>\n"
      ],
      "text/latex": [
       "A data.frame: 6 × 3\n",
       "\\begin{tabular}{r|lll}\n",
       "  & Sample\\_ID & Group & Value\\\\\n",
       "  & <dbl> & <chr> & <dbl>\\\\\n",
       "\\hline\n",
       "\t1 & 1 & A & 4.981969\\\\\n",
       "\t2 & 2 & A & 4.468715\\\\\n",
       "\t3 & 3 & A & 3.892029\\\\\n",
       "\t4 & 4 & A & 3.787122\\\\\n",
       "\t5 & 5 & A & 5.158098\\\\\n",
       "\t6 & 6 & C & 3.292355\\\\\n",
       "\\end{tabular}\n"
      ],
      "text/markdown": [
       "\n",
       "A data.frame: 6 × 3\n",
       "\n",
       "| <!--/--> | Sample_ID &lt;dbl&gt; | Group &lt;chr&gt; | Value &lt;dbl&gt; |\n",
       "|---|---|---|---|\n",
       "| 1 | 1 | A | 4.981969 |\n",
       "| 2 | 2 | A | 4.468715 |\n",
       "| 3 | 3 | A | 3.892029 |\n",
       "| 4 | 4 | A | 3.787122 |\n",
       "| 5 | 5 | A | 5.158098 |\n",
       "| 6 | 6 | C | 3.292355 |\n",
       "\n"
      ],
      "text/plain": [
       "  Sample_ID Group Value   \n",
       "1 1         A     4.981969\n",
       "2 2         A     4.468715\n",
       "3 3         A     3.892029\n",
       "4 4         A     3.787122\n",
       "5 5         A     5.158098\n",
       "6 6         C     3.292355"
      ]
     },
     "metadata": {},
     "output_type": "display_data"
    }
   ],
   "source": [
    "head(my.df) # try get the bottom few rows with `tail()`:"
   ]
  },
  {
   "cell_type": "markdown",
   "metadata": {},
   "source": [
    "#### Formula used in R\n",
    "\n",
    "In R, a formula is a symbolic representation of a statistical model or a relationship between variables\n",
    "\n",
    "A typical formula looks like:\n",
    "*response_variable ~ predictor_variable1 + predictor_variable2 + ...*\n",
    "\n",
    "Here, the `~` symbol separates the response variable (dependent variable) from the predictor variables (independent variables). The `+` symbol is used to specify multiple predictor variables in the formula.\n"
   ]
  },
  {
   "cell_type": "markdown",
   "metadata": {},
   "source": [
    "If we consider each row in our `my.df` dataframe as a sample observation, with the Group column denoting the type of treatment received and the Value column representing the final measurement of the response variable, how can we determine the significance of the treatment effect?"
   ]
  },
  {
   "cell_type": "code",
   "execution_count": 270,
   "metadata": {
    "vscode": {
     "languageId": "r"
    }
   },
   "outputs": [
    {
     "data": {
      "text/plain": [
       "\n",
       "\tWilcoxon rank sum exact test\n",
       "\n",
       "data:  Value by Group\n",
       "W = 22, p-value = 0.05556\n",
       "alternative hypothesis: true location shift is not equal to 0\n"
      ]
     },
     "metadata": {},
     "output_type": "display_data"
    }
   ],
   "source": [
    "wilcox.test(formula = Value ~  Group, data = my.df) # When we set alpha = 0.05, you find no significant difference between Group A, Group C"
   ]
  },
  {
   "cell_type": "code",
   "execution_count": 271,
   "metadata": {
    "vscode": {
     "languageId": "r"
    }
   },
   "outputs": [
    {
     "data": {
      "image/png": "[encoded data removed]",
      "text/plain": [
       "plot without title"
      ]
     },
     "metadata": {
      "image/png": {
       "height": 360,
       "width": 360
      }
     },
     "output_type": "display_data"
    }
   ],
   "source": [
    "boxplot(formula = Value ~  Group, data = my.df)"
   ]
  },
  {
   "cell_type": "markdown",
   "metadata": {},
   "source": [
    "#### Case Exercise 2. The first statistics\n",
    "\n",
    "After careful review, your superviser recommanded you to do a parametric test (student's t test) rather than a rank-based non-parametric test (wilcox's test). Why it is reasonable? How to do it in R?  (clue: ?t.test() ?shapiro.test())"
   ]
  },
  {
   "cell_type": "markdown",
   "metadata": {},
   "source": [
    "### 2.2.4 Lists\n",
    "\n",
    "List is another important data structure widely used in R. Essentially, a list functions as a structured assembly of objects, allowing for the inclusion of different types of variables and data entities  (e.g., you can put dataframe and vector together) in a specific *order*.\n",
    "\n",
    "Try this:"
   ]
  },
  {
   "cell_type": "code",
   "execution_count": 135,
   "metadata": {
    "vscode": {
     "languageId": "r"
    }
   },
   "outputs": [
    {
     "data": {
      "text/html": [
       "<dl>\n",
       "\t<dt>$genus</dt>\n",
       "\t\t<dd><style>\n",
       ".list-inline {list-style: none; margin:0; padding: 0}\n",
       ".list-inline>li {display: inline-block}\n",
       ".list-inline>li:not(:last-child)::after {content: \"\\00b7\"; padding: 0 .5ex}\n",
       "</style>\n",
       "<ol class=list-inline><li>'Bifidobacterium'</li><li>'Akkermansia'</li></ol>\n",
       "</dd>\n",
       "\t<dt>$rel_abundance</dt>\n",
       "\t\t<dd><style>\n",
       ".list-inline {list-style: none; margin:0; padding: 0}\n",
       ".list-inline>li {display: inline-block}\n",
       ".list-inline>li:not(:last-child)::after {content: \"\\00b7\"; padding: 0 .5ex}\n",
       "</style>\n",
       "<ol class=list-inline><li>20</li><li>10</li></ol>\n",
       "</dd>\n",
       "</dl>\n"
      ],
      "text/latex": [
       "\\begin{description}\n",
       "\\item[\\$genus] \\begin{enumerate*}\n",
       "\\item 'Bifidobacterium'\n",
       "\\item 'Akkermansia'\n",
       "\\end{enumerate*}\n",
       "\n",
       "\\item[\\$rel\\_abundance] \\begin{enumerate*}\n",
       "\\item 20\n",
       "\\item 10\n",
       "\\end{enumerate*}\n",
       "\n",
       "\\end{description}\n"
      ],
      "text/markdown": [
       "$genus\n",
       ":   1. 'Bifidobacterium'\n",
       "2. 'Akkermansia'\n",
       "\n",
       "\n",
       "\n",
       "$rel_abundance\n",
       ":   1. 20\n",
       "2. 10\n",
       "\n",
       "\n",
       "\n",
       "\n",
       "\n"
      ],
      "text/plain": [
       "$genus\n",
       "[1] \"Bifidobacterium\" \"Akkermansia\"    \n",
       "\n",
       "$rel_abundance\n",
       "[1] 20 10\n"
      ]
     },
     "metadata": {},
     "output_type": "display_data"
    }
   ],
   "source": [
    "my.list <- list(genus=c(\"Bifidobacterium\",\"Akkermansia\"), rel_abundance=c(20 , 10))\n",
    "my.list"
   ]
  },
  {
   "cell_type": "code",
   "execution_count": 140,
   "metadata": {
    "vscode": {
     "languageId": "r"
    }
   },
   "outputs": [
    {
     "data": {
      "text/html": [
       "<style>\n",
       ".list-inline {list-style: none; margin:0; padding: 0}\n",
       ".list-inline>li {display: inline-block}\n",
       ".list-inline>li:not(:last-child)::after {content: \"\\00b7\"; padding: 0 .5ex}\n",
       "</style>\n",
       "<ol class=list-inline><li>'Bifidobacterium'</li><li>'Akkermansia'</li></ol>\n"
      ],
      "text/latex": [
       "\\begin{enumerate*}\n",
       "\\item 'Bifidobacterium'\n",
       "\\item 'Akkermansia'\n",
       "\\end{enumerate*}\n"
      ],
      "text/markdown": [
       "1. 'Bifidobacterium'\n",
       "2. 'Akkermansia'\n",
       "\n",
       "\n"
      ],
      "text/plain": [
       "[1] \"Bifidobacterium\" \"Akkermansia\"    "
      ]
     },
     "metadata": {},
     "output_type": "display_data"
    }
   ],
   "source": [
    "my.list[[\"genus\"]] # Get the list item by using nested square brackets "
   ]
  },
  {
   "cell_type": "code",
   "execution_count": null,
   "metadata": {
    "vscode": {
     "languageId": "r"
    }
   },
   "outputs": [],
   "source": [
    "my.list$genus # or do it this way. Quite similar to those in dataframe, right?"
   ]
  },
  {
   "cell_type": "markdown",
   "metadata": {},
   "source": [
    "Or, you can access contents of a list item using the list order index:"
   ]
  },
  {
   "cell_type": "code",
   "execution_count": 136,
   "metadata": {
    "scrolled": true,
    "vscode": {
     "languageId": "r"
    }
   },
   "outputs": [
    {
     "data": {
      "text/html": [
       "<style>\n",
       ".list-inline {list-style: none; margin:0; padding: 0}\n",
       ".list-inline>li {display: inline-block}\n",
       ".list-inline>li:not(:last-child)::after {content: \"\\00b7\"; padding: 0 .5ex}\n",
       "</style>\n",
       "<ol class=list-inline><li>'Bifidobacterium'</li><li>'Akkermansia'</li></ol>\n"
      ],
      "text/latex": [
       "\\begin{enumerate*}\n",
       "\\item 'Bifidobacterium'\n",
       "\\item 'Akkermansia'\n",
       "\\end{enumerate*}\n"
      ],
      "text/markdown": [
       "1. 'Bifidobacterium'\n",
       "2. 'Akkermansia'\n",
       "\n",
       "\n"
      ],
      "text/plain": [
       "[1] \"Bifidobacterium\" \"Akkermansia\"    "
      ]
     },
     "metadata": {},
     "output_type": "display_data"
    }
   ],
   "source": [
    "my.list[[1]]"
   ]
  },
  {
   "cell_type": "code",
   "execution_count": 137,
   "metadata": {
    "vscode": {
     "languageId": "r"
    }
   },
   "outputs": [
    {
     "data": {
      "text/html": [
       "'Bifidobacterium'"
      ],
      "text/latex": [
       "'Bifidobacterium'"
      ],
      "text/markdown": [
       "'Bifidobacterium'"
      ],
      "text/plain": [
       "[1] \"Bifidobacterium\""
      ]
     },
     "metadata": {},
     "output_type": "display_data"
    }
   ],
   "source": [
    "my.list[[1]][1] # remeber, each elements of my.list is vector, therefore, we can apply the rule of vector to it"
   ]
  },
  {
   "cell_type": "markdown",
   "metadata": {},
   "source": [
    "Maybe, you will have a guess now that dataframe object is actually a data structure built upon list object\n",
    "\n",
    "### 2.2.5 Matrix vs Dataframe\n",
    "\n",
    "While data frames offer considerable flexibility and convenience for statistical analyses, plotting, and data output in R, there are instances where utilizing R matrices becomes necessary due to performance considerations. Data frames may exhibit decreased efficiency when large-scale mathematical computations or operations, such as matrix-vector multiplications or other linear algebra tasks, need to be executed. In such scenarios, converting a data frame to a matrix can significantly enhance computational speed and efficiency.\n",
    "\n",
    "To see the difference in memory usage of matrices vs dataframes, try this:"
   ]
  },
  {
   "cell_type": "code",
   "execution_count": 44,
   "metadata": {
    "scrolled": true,
    "vscode": {
     "languageId": "r"
    }
   },
   "outputs": [
    {
     "data": {
      "text/html": [
       "<table class=\"dataframe\">\n",
       "<caption>A matrix: 6 × 6 of type dbl</caption>\n",
       "<tbody>\n",
       "\t<tr><td> 1.00000</td><td> 3.828571</td><td> 6.657143</td><td> 9.485714</td><td>12.31429</td><td> 15.14286</td></tr>\n",
       "\t<tr><td>17.97143</td><td>20.800000</td><td>23.628571</td><td>26.457143</td><td>29.28571</td><td> 32.11429</td></tr>\n",
       "\t<tr><td>34.94286</td><td>37.771429</td><td>40.600000</td><td>43.428571</td><td>46.25714</td><td> 49.08571</td></tr>\n",
       "\t<tr><td>51.91429</td><td>54.742857</td><td>57.571429</td><td>60.400000</td><td>63.22857</td><td> 66.05714</td></tr>\n",
       "\t<tr><td>68.88571</td><td>71.714286</td><td>74.542857</td><td>77.371429</td><td>80.20000</td><td> 83.02857</td></tr>\n",
       "\t<tr><td>85.85714</td><td>88.685714</td><td>91.514286</td><td>94.342857</td><td>97.17143</td><td>100.00000</td></tr>\n",
       "</tbody>\n",
       "</table>\n"
      ],
      "text/latex": [
       "A matrix: 6 × 6 of type dbl\n",
       "\\begin{tabular}{llllll}\n",
       "\t  1.00000 &  3.828571 &  6.657143 &  9.485714 & 12.31429 &  15.14286\\\\\n",
       "\t 17.97143 & 20.800000 & 23.628571 & 26.457143 & 29.28571 &  32.11429\\\\\n",
       "\t 34.94286 & 37.771429 & 40.600000 & 43.428571 & 46.25714 &  49.08571\\\\\n",
       "\t 51.91429 & 54.742857 & 57.571429 & 60.400000 & 63.22857 &  66.05714\\\\\n",
       "\t 68.88571 & 71.714286 & 74.542857 & 77.371429 & 80.20000 &  83.02857\\\\\n",
       "\t 85.85714 & 88.685714 & 91.514286 & 94.342857 & 97.17143 & 100.00000\\\\\n",
       "\\end{tabular}\n"
      ],
      "text/markdown": [
       "\n",
       "A matrix: 6 × 6 of type dbl\n",
       "\n",
       "|  1.00000 |  3.828571 |  6.657143 |  9.485714 | 12.31429 |  15.14286 |\n",
       "| 17.97143 | 20.800000 | 23.628571 | 26.457143 | 29.28571 |  32.11429 |\n",
       "| 34.94286 | 37.771429 | 40.600000 | 43.428571 | 46.25714 |  49.08571 |\n",
       "| 51.91429 | 54.742857 | 57.571429 | 60.400000 | 63.22857 |  66.05714 |\n",
       "| 68.88571 | 71.714286 | 74.542857 | 77.371429 | 80.20000 |  83.02857 |\n",
       "| 85.85714 | 88.685714 | 91.514286 | 94.342857 | 97.17143 | 100.00000 |\n",
       "\n"
      ],
      "text/plain": [
       "     [,1]     [,2]      [,3]      [,4]      [,5]     [,6]     \n",
       "[1,]  1.00000  3.828571  6.657143  9.485714 12.31429  15.14286\n",
       "[2,] 17.97143 20.800000 23.628571 26.457143 29.28571  32.11429\n",
       "[3,] 34.94286 37.771429 40.600000 43.428571 46.25714  49.08571\n",
       "[4,] 51.91429 54.742857 57.571429 60.400000 63.22857  66.05714\n",
       "[5,] 68.88571 71.714286 74.542857 77.371429 80.20000  83.02857\n",
       "[6,] 85.85714 88.685714 91.514286 94.342857 97.17143 100.00000"
      ]
     },
     "metadata": {},
     "output_type": "display_data"
    }
   ],
   "source": [
    "my.mat1 <- matrix(seq(from = 1,to = 100,length.out = 36), 6, 6, byrow=TRUE)\n",
    "my.mat1 # Again, create one matrix"
   ]
  },
  {
   "cell_type": "code",
   "execution_count": 45,
   "metadata": {
    "vscode": {
     "languageId": "r"
    }
   },
   "outputs": [
    {
     "data": {
      "text/html": [
       "<table class=\"dataframe\">\n",
       "<caption>A data.frame: 6 × 6</caption>\n",
       "<thead>\n",
       "\t<tr><th scope=col>V1</th><th scope=col>V2</th><th scope=col>V3</th><th scope=col>V4</th><th scope=col>V5</th><th scope=col>V6</th></tr>\n",
       "\t<tr><th scope=col>&lt;dbl&gt;</th><th scope=col>&lt;dbl&gt;</th><th scope=col>&lt;dbl&gt;</th><th scope=col>&lt;dbl&gt;</th><th scope=col>&lt;dbl&gt;</th><th scope=col>&lt;dbl&gt;</th></tr>\n",
       "</thead>\n",
       "<tbody>\n",
       "\t<tr><td> 1.00000</td><td> 3.828571</td><td> 6.657143</td><td> 9.485714</td><td>12.31429</td><td> 15.14286</td></tr>\n",
       "\t<tr><td>17.97143</td><td>20.800000</td><td>23.628571</td><td>26.457143</td><td>29.28571</td><td> 32.11429</td></tr>\n",
       "\t<tr><td>34.94286</td><td>37.771429</td><td>40.600000</td><td>43.428571</td><td>46.25714</td><td> 49.08571</td></tr>\n",
       "\t<tr><td>51.91429</td><td>54.742857</td><td>57.571429</td><td>60.400000</td><td>63.22857</td><td> 66.05714</td></tr>\n",
       "\t<tr><td>68.88571</td><td>71.714286</td><td>74.542857</td><td>77.371429</td><td>80.20000</td><td> 83.02857</td></tr>\n",
       "\t<tr><td>85.85714</td><td>88.685714</td><td>91.514286</td><td>94.342857</td><td>97.17143</td><td>100.00000</td></tr>\n",
       "</tbody>\n",
       "</table>\n"
      ],
      "text/latex": [
       "A data.frame: 6 × 6\n",
       "\\begin{tabular}{llllll}\n",
       " V1 & V2 & V3 & V4 & V5 & V6\\\\\n",
       " <dbl> & <dbl> & <dbl> & <dbl> & <dbl> & <dbl>\\\\\n",
       "\\hline\n",
       "\t  1.00000 &  3.828571 &  6.657143 &  9.485714 & 12.31429 &  15.14286\\\\\n",
       "\t 17.97143 & 20.800000 & 23.628571 & 26.457143 & 29.28571 &  32.11429\\\\\n",
       "\t 34.94286 & 37.771429 & 40.600000 & 43.428571 & 46.25714 &  49.08571\\\\\n",
       "\t 51.91429 & 54.742857 & 57.571429 & 60.400000 & 63.22857 &  66.05714\\\\\n",
       "\t 68.88571 & 71.714286 & 74.542857 & 77.371429 & 80.20000 &  83.02857\\\\\n",
       "\t 85.85714 & 88.685714 & 91.514286 & 94.342857 & 97.17143 & 100.00000\\\\\n",
       "\\end{tabular}\n"
      ],
      "text/markdown": [
       "\n",
       "A data.frame: 6 × 6\n",
       "\n",
       "| V1 &lt;dbl&gt; | V2 &lt;dbl&gt; | V3 &lt;dbl&gt; | V4 &lt;dbl&gt; | V5 &lt;dbl&gt; | V6 &lt;dbl&gt; |\n",
       "|---|---|---|---|---|---|\n",
       "|  1.00000 |  3.828571 |  6.657143 |  9.485714 | 12.31429 |  15.14286 |\n",
       "| 17.97143 | 20.800000 | 23.628571 | 26.457143 | 29.28571 |  32.11429 |\n",
       "| 34.94286 | 37.771429 | 40.600000 | 43.428571 | 46.25714 |  49.08571 |\n",
       "| 51.91429 | 54.742857 | 57.571429 | 60.400000 | 63.22857 |  66.05714 |\n",
       "| 68.88571 | 71.714286 | 74.542857 | 77.371429 | 80.20000 |  83.02857 |\n",
       "| 85.85714 | 88.685714 | 91.514286 | 94.342857 | 97.17143 | 100.00000 |\n",
       "\n"
      ],
      "text/plain": [
       "  V1       V2        V3        V4        V5       V6       \n",
       "1  1.00000  3.828571  6.657143  9.485714 12.31429  15.14286\n",
       "2 17.97143 20.800000 23.628571 26.457143 29.28571  32.11429\n",
       "3 34.94286 37.771429 40.600000 43.428571 46.25714  49.08571\n",
       "4 51.91429 54.742857 57.571429 60.400000 63.22857  66.05714\n",
       "5 68.88571 71.714286 74.542857 77.371429 80.20000  83.02857\n",
       "6 85.85714 88.685714 91.514286 94.342857 97.17143 100.00000"
      ]
     },
     "metadata": {},
     "output_type": "display_data"
    }
   ],
   "source": [
    "my.mat12df = as.data.frame(my.mat1)\n",
    "my.mat12df"
   ]
  },
  {
   "cell_type": "code",
   "execution_count": 46,
   "metadata": {
    "vscode": {
     "languageId": "r"
    }
   },
   "outputs": [
    {
     "data": {
      "text/plain": [
       "504 bytes"
      ]
     },
     "metadata": {},
     "output_type": "display_data"
    }
   ],
   "source": [
    "object.size(my.mat1) # returns size of an R object (variable) in bytes"
   ]
  },
  {
   "cell_type": "code",
   "execution_count": 47,
   "metadata": {
    "scrolled": true,
    "vscode": {
     "languageId": "r"
    }
   },
   "outputs": [
    {
     "data": {
      "text/plain": [
       "1616 bytes"
      ]
     },
     "metadata": {},
     "output_type": "display_data"
    }
   ],
   "source": [
    "object.size(my.mat12df)"
   ]
  },
  {
   "cell_type": "markdown",
   "metadata": {},
   "source": [
    "Quite a big difference!"
   ]
  },
  {
   "cell_type": "markdown",
   "metadata": {},
   "source": [
    "## 2.3 Further reading "
   ]
  },
  {
   "cell_type": "markdown",
   "metadata": {},
   "source": [
    "\n",
    "Search online for \"R tutorial\".\n",
    "\n",
    "Explore more functionality by using different R packages designed for different purpose! *Remember, all R packages come with pdf guides/documentation!* \n",
    "\n",
    "### Some useful R packages\n",
    "\n",
    "|Packages|Description|\n",
    "|:-|:-|\n",
    "|tidyr   | Used in data wrangling, provides functions like gather, spread, and separate, which facilitate the transformation of data between wide and long formats. |\n",
    "|dplyr |The dplyr package provides a concise and intuitive syntax for data manipulation tasks. Its functions, such as filter, select, mutate, and summarize, allow you to efficiently subset, transform, and summarize data frames. |\n",
    "|ggplot2 | nice package for data visualization |\n",
    "|stringr | string manipulation and text mining |\n",
    "\n",
    "\n",
    "### Some useful online tutorial\n",
    "\n",
    "|Source|Description|\n",
    "|:-|:-|\n",
    "| https://r4ds.had.co.nz/   | R for Data Science |\n",
    "\n"
   ]
  }
 ],
 "metadata": {
  "kernelspec": {
   "display_name": "R",
   "language": "R",
   "name": "ir"
  },
  "language_info": {
   "codemirror_mode": "r",
   "file_extension": ".r",
   "mimetype": "text/x-r-source",
   "name": "R",
   "pygments_lexer": "r",
   "version": "4.4.1"
  },
  "latex_envs": {
   "LaTeX_envs_menu_present": true,
   "autoclose": false,
   "autocomplete": false,
   "bibliofile": "biblio.bib",
   "cite_by": "apalike",
   "current_citInitial": 1,
   "eqLabelWithNumbers": true,
   "eqNumInitial": 1,
   "hotkeys": {
    "equation": "Ctrl-E",
    "itemize": "Ctrl-I"
   },
   "labels_anchors": false,
   "latex_user_defs": false,
   "report_style_numbering": false,
   "user_envs_cfg": false
  },
  "toc": {
   "base_numbering": 1,
   "nav_menu": {},
   "number_sections": true,
   "sideBar": true,
   "skip_h1_title": false,
   "title_cell": "Contents",
   "title_sidebar": "Contents",
   "toc_cell": false,
   "toc_position": {
    "height": "447.67px",
    "left": "33.6667px",
    "top": "422px",
    "width": "310.288px"
   },
   "toc_section_display": true,
   "toc_window_display": true
  },
  "toc-autonumbering": true
 },
 "nbformat": 4,
 "nbformat_minor": 4
}
