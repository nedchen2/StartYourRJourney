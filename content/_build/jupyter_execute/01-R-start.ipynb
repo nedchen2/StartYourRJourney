{
 "cells": [
  {
   "cell_type": "code",
   "execution_count": 1,
   "metadata": {
    "tags": [
     "remove-cell"
    ],
    "vscode": {
     "languageId": "r"
    }
   },
   "outputs": [
    {
     "ename": "SyntaxError",
     "evalue": "expression cannot contain assignment, perhaps you meant \"==\"? (3078155729.py, line 1)",
     "output_type": "error",
     "traceback": [
      "\u001b[0;36m  Cell \u001b[0;32mIn[1], line 1\u001b[0;36m\u001b[0m\n\u001b[0;31m    library(repr) ; options(repr.plot.width=6, repr.plot.height= 6) # Change plot sizes (in cm)\u001b[0m\n\u001b[0m                            ^\u001b[0m\n\u001b[0;31mSyntaxError\u001b[0m\u001b[0;31m:\u001b[0m expression cannot contain assignment, perhaps you meant \"==\"?\n"
     ]
    }
   ],
   "source": [
    "library(repr) ; options(repr.plot.width=6, repr.plot.height= 6) # Change plot sizes (in cm)"
   ]
  },
  {
   "cell_type": "markdown",
   "metadata": {},
   "source": [
    "# Chapter 1. R: The Beginning of Your Data Journey"
   ]
  },
  {
   "cell_type": "markdown",
   "metadata": {},
   "source": [
    "\n",
    "## 1.1 Basic Introduction\n",
    "\n",
    "This chapter aims to lay down the foundations of your data journey to use R. By the end of the chapter, you will know:\n",
    "* How to install the R and R studio in your computer\n",
    "* Small tips when using the R studio\n",
    "* The basic syntax and programming conventions for biological computing\n",
    "\n",
    "### 1.1.1 What is R ?\n",
    "\n",
    "R is a freely available programming language and software environment for statistical computing and graphics. Based on the commercial statistical software `S`, the first stable version appeared in 2000. It is now widely used among professional scientists and data scientists for data analysis, visualization, and machine learning. \n",
    "\n",
    "<img src=\"./graphics/development_of_R.jpg\" alt=\"development_of_R\" width=\"500px\">\n",
    "\n",
    "**Timeline of R history with selected milestones. [(Giorgi FM, 2022)](https://www.ncbi.nlm.nih.gov/pmc/articles/PMC9148156/)** \n",
    "\n",
    "\n",
    "### 1.1.2 Why R?\n",
    "\n",
    "There are commercial software packages (GraphPad, SPSS, etc) available that offer advanced statistical tests, customizable graphs, and easy-to-use interfaces that allow users to easily navigate through the software. Why not just use them? Here are some thoughts:\n",
    "\n",
    "* 1. Personalized analysis: You can tailor your analysis rather than trying to use the more limited options in the commerical software.\n",
    "* 2. Rich package ecosystem: You can use the pre-built and tested packages shared by the R community for analysis and other purpose.\n",
    "* 3. Great reproducibility: You can build a perfectly repeatable record and scripts of your analysis, which is not always possible with commercial tools. Run your complex analysis with one click (in the future) !\n",
    "* 4. Easy scaling: You can work with large datasets with a fast and memory-efficient way in R.\n",
    "* 5. Freely available: Help yourself in [CRAN website](https://cran.r-project.org)\n",
    "\n",
    "### 1.1.3 Installing R and RStudio\n",
    "\n",
    "RStudio is an interactive integrated development environment (IDE) for R, which enables programmers to code efficiently.\n",
    "\n",
    "Also, note that it is not necessary to have RStudio in order to use R, but RStudio is highly recommended. \n",
    "\n",
    "The installation varies depending on the operating system you use.\n",
    "\n",
    "#### R in Windows\n",
    "\n",
    "The current version of R can be obtained from the [Comprehensive R Archive Network Windows download page](https://cran.rstudio.com/bin/windows/base/). Then click on the latest release link (Something like `Download R 4.4.1 for Windows`). Run the installer and accept all of the default options.\n",
    "\n",
    "#### R in Mac\n",
    "\n",
    "The current version of R can be obtained from the [Comprehensive R Archive Network Mac download page](https://cran.r-project.org/bin/macosx/). Then click on the latest release link (it will be called something like `R-4.4.1-arm64.pkg`). Run the installer and accept all of the default options.\n",
    "\n",
    "#### R in other OS\n",
    "\n",
    "Help yourself in [CRAN website](https://cran.r-project.org).\n",
    "\n",
    "#### RStudio\n",
    "\n",
    "RStudio can be installed from the [RStudio install page](https://rstudio.com/products/rstudio/download/#download). Select the link depending on your OS, run the installer and accept the default options.\n",
    "\n",
    "<img src=\"./graphics/RStudio_install.png\" alt=\"RStudio_install\" width=\"500px\">\n",
    "\n",
    "## 1.2 Getting familiar with RStudio and R\n",
    "\n",
    "First, launch your RStudio.\n",
    "\n",
    "RStudio includes \n",
    "* 1. a text editor, (You can write and record your code here. To starting a new code, you can click on `File`, then `New File`, then `R Script`. Explore other features by yourself),\n",
    "* 2. a console to execute your code, \n",
    "* 3. a panel shows the current variables, function and history in your current R work space (RStudio will launch a new work space when you launch the rstudio, unless you save the current working space in a file).\n",
    "* 4. Other panes including `Plots` (Show Figures you produced), `Files` (Show the current working directory), `Packages` (Show the packages that the R had), `Help` (Show the help document regarding specific packages or functions)\n",
    "\n",
    "You can click on each tab to move across the different features.\n",
    "\n",
    "<img src=\"./graphics/RStudio_first_glance.jpg\" alt=\"RStudio_install\" width=\"500px\">\n",
    "\n",
    "You must now getting confused about some of the terms (like \"function\") used. No worries, let's go ahead!\n",
    "\n",
    "### 1.2.1 Brief Introduction to the terms\n",
    "\n",
    "|Term| Explanation |\n",
    "|:-|:-|\n",
    "| Session   | A period of time during which R is running and objects are created, modified, and analyzed. |\n",
    "| Directory | Where files are read from or written during R sessions.|\n",
    "| Code      | A series of instructions or commands written in the R language to perform specific tasks. |\n",
    "| Console   | The command line interface in R where code is entered, executed, and results are displayed. |\n",
    "| Variable  | Store values or data, can be modified or accessed for calculations or analysis. |\n",
    "| Datasets  | Collections of data stored in tables or matrices for analysis in R, can be imported from files or created within R. |\n",
    "| Function  | Reusable code that performs specific tasks, can be written or sourced from libraries. |\n",
    "| Packages  | Collections of functions, datasets, and documentation that extend the capabilities of base R for specific tasks |\n",
    "| Work Space| An environment where R objects (such as variables, functions, datasets, etc.) are stored during a session. |\n",
    "\n",
    "\n",
    "### 1.2.2 Useful R commands\n",
    "\n",
    "After you have a basic idea about the coding terms. We could have a first glance at the Command used in R.\n",
    "\n",
    "|Command| What it does|\n",
    "|:-|:-|\n",
    "| `ls()`| list all the variables in the work space |\n",
    "| `rm('a', 'b')`| remove variable(s) `a` and `b`|\n",
    "| `rm(list=ls())`| remove all variable(s)|\n",
    "| `getwd()`| get current working directory |\n",
    "| `setwd('Path')`| set working directory to `Path`|\n",
    "| `dir.create('Path')`| create directory to `Path` |\n",
    "| `dir.exist('Path')`| Whether the directory `Path` exists |\n",
    "| `list.dirs()` | list the directory under `Path` |\n",
    "| `q()`| quit R |\n",
    "| `sessionInfo()`| collect Information About the Current R Session |\n",
    "| `?Command`| show the documentation of `Command`|\n",
    "| `??Keyword`| search the all packages/functions with 'Keyword', \"fuzzy search\"|\n",
    "\n",
    "Try type in the `getwd()` in your R console, and `enter`.\n",
    "\n",
    "#### Relative and absolute directory\n",
    "\n",
    "A relative directory is a file path that is relative to the current working directory.\n",
    "\n",
    "if the current working directory is \"C:/Users/FinCourse/document\", a relative directory could be \"data/file.csv\", which would refer to the file \"file.csv\" located in the \"data\" folder within the current working directory.\n",
    "\n",
    "An absolute path describes the location from the root directory. \n",
    "\n",
    "<img src=\"./graphics/Rstudio-absolute-relative.jpg\" alt=\"RStudio_install\" width=\"500px\">\n",
    "\n",
    "[image source](https://networkencyclopedia.com/absolute-path/#google_vignette)\n",
    "\n",
    "#### Case Exercise 1. Directory puzzle\n",
    "You can find the \"puzzle\" in `case1` under the \"document\". Use the R command listed in 1.2.2, Change the current working directory to the directory called `exit`, then create a directory `win` there. Then come back to the previous working directory.\n",
    "\n",
    "### 1.2.3 Magic when using R\n",
    "\n",
    "Below we show examples for:\n",
    "\n",
    "1.Syntax highlighting and indentation,\n",
    "\n",
    "R can help you highlight different syntax (e.g. function, variable etc)\n",
    "\n",
    "Ensuring proper indentation is crucial for enhancing the readability of your code. RStudio can assist you in automatically formatting the indentation of your code. In R, adhering to correct syntax allows your code to execute successfully, even if you have not maintained consistent indentation practices. Conversely, in languages like `Python`, improper indentation can lead to code execution errors, making it essential to follow strict indentation rules for the code to run correctly.\n",
    "\n",
    "2.automatic code completion,\n",
    "\n",
    "Use `Tab` to finish function names, file paths, arguments and more\n",
    "\n",
    "3.Up and down arrow keys scroll through your command history. \n",
    "\n",
    "Use \"Up\" and \"down\" in your keyboard to scroll through the command you input to the R console."
   ]
  },
  {
   "cell_type": "code",
   "execution_count": 2,
   "metadata": {
    "vscode": {
     "languageId": "r"
    }
   },
   "outputs": [
    {
     "data": {
      "text/html": [
       "3"
      ],
      "text/latex": [
       "3"
      ],
      "text/markdown": [
       "3"
      ],
      "text/plain": [
       "[1] 3"
      ]
     },
     "metadata": {},
     "output_type": "display_data"
    }
   ],
   "source": [
    "# This is the function to calculate the sum of input parameter a and b\n",
    "sumAB <- function(a,b){ # try type this function in your code file,\n",
    "  a + b\n",
    "}\n",
    "\n",
    "sumAB(1,2) # Try type sumA and then `Tab`\n",
    "\n"
   ]
  },
  {
   "cell_type": "code",
   "execution_count": 3,
   "metadata": {
    "vscode": {
     "languageId": "r"
    }
   },
   "outputs": [
    {
     "data": {
      "text/html": [
       "TRUE"
      ],
      "text/latex": [
       "TRUE"
      ],
      "text/markdown": [
       "TRUE"
      ],
      "text/plain": [
       "[1] TRUE"
      ]
     },
     "metadata": {},
     "output_type": "display_data"
    }
   ],
   "source": [
    "dir.exists(\"../\")  # Try `Tab` after \"/\", see what you get from `Tab`"
   ]
  },
  {
   "cell_type": "code",
   "execution_count": 4,
   "metadata": {
    "vscode": {
     "languageId": "r"
    }
   },
   "outputs": [
    {
     "data": {
      "text/html": [
       "3"
      ],
      "text/latex": [
       "3"
      ],
      "text/markdown": [
       "3"
      ],
      "text/plain": [
       "[1] 3"
      ]
     },
     "metadata": {},
     "output_type": "display_data"
    }
   ],
   "source": [
    "sumAB(1,2) # Try scroll your history code to rerun the previous code"
   ]
  },
  {
   "cell_type": "markdown",
   "metadata": {},
   "source": [
    "#### Help your self with the built-in cheatsheet\n",
    "\n",
    "Find the keyboard shortcuts help in the `Help`. \n",
    "\n",
    "One of the most frequently used shortcut is \n",
    "`CTRL + ENTER` <---------> Run selected Line(s)\n",
    "\n",
    "<img src=\"./graphics/R_help.png\" alt=\"RStudio_install\" width=\"500px\">\n"
   ]
  },
  {
   "cell_type": "markdown",
   "metadata": {},
   "source": [
    "### 1.2.4 Install R packages\n",
    "\n",
    "The capabilities offered by a fresh installation of R represent just a fraction of the full range of possibilities available. The extra functionality comes from add-ons available from developers from all over the world, known as Packages. "
   ]
  },
  {
   "cell_type": "code",
   "execution_count": 5,
   "metadata": {
    "vscode": {
     "languageId": "r"
    }
   },
   "outputs": [
    {
     "name": "stderr",
     "output_type": "stream",
     "text": [
      "Updating HTML index of packages in '.Library'\n",
      "\n",
      "Making 'packages.html' ...\n",
      " done\n",
      "\n",
      "Loading required package: permute\n",
      "\n",
      "Warning message:\n",
      "“package ‘permute’ was built under R version 4.2.3”\n",
      "Loading required package: lattice\n",
      "\n",
      "Warning message:\n",
      "“package ‘lattice’ was built under R version 4.2.3”\n",
      "This is vegan 2.6-8\n",
      "\n"
     ]
    }
   ],
   "source": [
    "# Install vegan packages, which is widely used in microbiome study\n",
    "install.packages(\"vegan\")\n",
    "\n",
    "# load vegan\n",
    "library(vegan)"
   ]
  },
  {
   "cell_type": "markdown",
   "metadata": {},
   "source": [
    "There are other tools used to download and install packages, see devtools and BiocManager"
   ]
  }
 ],
 "metadata": {
  "kernelspec": {
   "display_name": "Python 3 (ipykernel)",
   "language": "python",
   "name": "python3"
  },
  "language_info": {
   "codemirror_mode": {
    "name": "ipython",
    "version": 3
   },
   "file_extension": ".py",
   "mimetype": "text/x-python",
   "name": "python",
   "nbconvert_exporter": "python",
   "pygments_lexer": "ipython3",
   "version": "3.12.6"
  },
  "latex_envs": {
   "LaTeX_envs_menu_present": true,
   "autoclose": false,
   "autocomplete": false,
   "bibliofile": "biblio.bib",
   "cite_by": "apalike",
   "current_citInitial": 1,
   "eqLabelWithNumbers": true,
   "eqNumInitial": 1,
   "hotkeys": {
    "equation": "Ctrl-E",
    "itemize": "Ctrl-I"
   },
   "labels_anchors": false,
   "latex_user_defs": false,
   "report_style_numbering": false,
   "user_envs_cfg": false
  },
  "toc": {
   "base_numbering": 1,
   "nav_menu": {},
   "number_sections": true,
   "sideBar": true,
   "skip_h1_title": false,
   "title_cell": "Contents",
   "title_sidebar": "Contents",
   "toc_cell": false,
   "toc_position": {
    "height": "447.67px",
    "left": "33.6667px",
    "top": "422px",
    "width": "310.288px"
   },
   "toc_section_display": true,
   "toc_window_display": true
  },
  "toc-autonumbering": true
 },
 "nbformat": 4,
 "nbformat_minor": 4
}