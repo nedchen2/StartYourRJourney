{
 "cells": [
  {
   "cell_type": "markdown",
   "metadata": {},
   "source": [
    "# Chapter 2. R basics"
   ]
  },
  {
   "cell_type": "markdown",
   "metadata": {},
   "source": [
    "## 2.1 Basic Introduction\n",
    "\n",
    "After reading the previous chapter, you should already have a basic understanding of how R and Rstudio operate. Lets get started with some R basics. \n",
    "\n",
    "### 2.1.1 R variables\n",
    "\n",
    "In a R session, you will need to utilize \"variables\" to store data. Every variable occupies \"real estate\" in your computer's memory [RAM](https://en.wikipedia.org/wiki/Random-access_memory)\n"
   ]
  },
  {
   "cell_type": "code",
   "execution_count": 1,
   "metadata": {
    "vscode": {
     "languageId": "r"
    }
   },
   "outputs": [],
   "source": [
    "a <- 2  # store 2 as variable a"
   ]
  },
  {
   "cell_type": "markdown",
   "metadata": {},
   "source": [
    "Note that any text after a \"#\" is ignored by R\n"
   ]
  },
  {
   "cell_type": "markdown",
   "metadata": {},
   "source": [
    "```{note}\n",
    "For everyone's sake, please use comments to annotate your code. Well-placed comments can help people (include you) to understand the functionality of the code\n",
    "```"
   ]
  },
  {
   "cell_type": "code",
   "execution_count": 2,
   "metadata": {
    "vscode": {
     "languageId": "r"
    }
   },
   "outputs": [
    {
     "data": {
      "text/html": [
       "2"
      ],
      "text/latex": [
       "2"
      ],
      "text/markdown": [
       "2"
      ],
      "text/plain": [
       "[1] 2"
      ]
     },
     "metadata": {},
     "output_type": "display_data"
    }
   ],
   "source": [
    "a # display it"
   ]
  },
  {
   "cell_type": "code",
   "execution_count": 3,
   "metadata": {
    "vscode": {
     "languageId": "r"
    }
   },
   "outputs": [
    {
     "data": {
      "text/html": [
       "4"
      ],
      "text/latex": [
       "4"
      ],
      "text/markdown": [
       "4"
      ],
      "text/plain": [
       "[1] 4"
      ]
     },
     "metadata": {},
     "output_type": "display_data"
    }
   ],
   "source": [
    "a * a "
   ]
  },
  {
   "cell_type": "markdown",
   "metadata": {},
   "source": [
    "Store a variable:"
   ]
  },
  {
   "cell_type": "code",
   "execution_count": 4,
   "metadata": {
    "vscode": {
     "languageId": "r"
    }
   },
   "outputs": [],
   "source": [
    "a_squared <- a * a "
   ]
  },
  {
   "cell_type": "markdown",
   "metadata": {},
   "source": [
    "```{note}\n",
    "Unlike Python or most other programming languages, R uses the `<-` [operator to assign variables](https://stat.ethz.ch/R-manual/R-devel/library/base/html/assignOps.html). You can use `=` as well, but it does not work everywhere, so better to stick with `<-`.\n",
    "```"
   ]
  },
  {
   "cell_type": "markdown",
   "metadata": {},
   "source": [
    "### 2.1.2 R name your variables\n",
    "\n",
    "In R, you can name variables in the following way to keep track of related variables:"
   ]
  },
  {
   "cell_type": "code",
   "execution_count": 5,
   "metadata": {
    "vscode": {
     "languageId": "r"
    }
   },
   "outputs": [],
   "source": [
    "my.var = 1"
   ]
  },
  {
   "cell_type": "code",
   "execution_count": 6,
   "metadata": {
    "vscode": {
     "languageId": "r"
    }
   },
   "outputs": [],
   "source": [
    "my_var = 1"
   ]
  },
  {
   "cell_type": "code",
   "execution_count": 7,
   "metadata": {
    "vscode": {
     "languageId": "r"
    }
   },
   "outputs": [],
   "source": [
    "# my var = 1 # This name is not valid, so do not use space in naming"
   ]
  },
  {
   "cell_type": "markdown",
   "metadata": {},
   "source": [
    "### 2.1.3 R functions\n",
    "\n",
    "R have some pre-built functions for different functionality. But you can also defined your own function."
   ]
  },
  {
   "cell_type": "code",
   "execution_count": 8,
   "metadata": {
    "vscode": {
     "languageId": "r"
    }
   },
   "outputs": [
    {
     "data": {
      "text/html": [
       "2"
      ],
      "text/latex": [
       "2"
      ],
      "text/markdown": [
       "2"
      ],
      "text/plain": [
       "[1] 2"
      ]
     },
     "metadata": {},
     "output_type": "display_data"
    }
   ],
   "source": [
    "sqrt(a_squared) # square root"
   ]
  },
  {
   "cell_type": "code",
   "execution_count": 9,
   "metadata": {
    "vscode": {
     "languageId": "r"
    }
   },
   "outputs": [
    {
     "data": {
      "text/html": [
       "2"
      ],
      "text/latex": [
       "2"
      ],
      "text/markdown": [
       "2"
      ],
      "text/plain": [
       "[1] 2"
      ]
     },
     "metadata": {},
     "output_type": "display_data"
    }
   ],
   "source": [
    "log( a_squared, base = 2) # log2 transformed"
   ]
  },
  {
   "cell_type": "code",
   "execution_count": 10,
   "metadata": {
    "vscode": {
     "languageId": "r"
    }
   },
   "outputs": [],
   "source": [
    "BMI_index <- function(weight_in_kg, height_in_m){\n",
    "   weight_in_kg/height_in_m^2 \n",
    "}"
   ]
  },
  {
   "cell_type": "code",
   "execution_count": 11,
   "metadata": {
    "vscode": {
     "languageId": "r"
    }
   },
   "outputs": [
    {
     "data": {
      "text/html": [
       "22.4913494809689"
      ],
      "text/latex": [
       "22.4913494809689"
      ],
      "text/markdown": [
       "22.4913494809689"
      ],
      "text/plain": [
       "[1] 22.49135"
      ]
     },
     "metadata": {},
     "output_type": "display_data"
    }
   ],
   "source": [
    "BMI_index(65, 1.7) # Have a try on your own data"
   ]
  },
  {
   "cell_type": "markdown",
   "metadata": {},
   "source": [
    "### 2.1.4 R Data types\n",
    "\n",
    "R have different types of variables including numeric numbers, character strings, and other more advanced types such as factor, Boolean (\"logical\"; `TRUE` or `FALSE`), and data frame. \n",
    "\n",
    "The function `class` helps us determine what type of object we have:"
   ]
  },
  {
   "cell_type": "code",
   "execution_count": 12,
   "metadata": {
    "vscode": {
     "languageId": "r"
    }
   },
   "outputs": [
    {
     "data": {
      "text/html": [
       "'numeric'"
      ],
      "text/latex": [
       "'numeric'"
      ],
      "text/markdown": [
       "'numeric'"
      ],
      "text/plain": [
       "[1] \"numeric\""
      ]
     },
     "metadata": {},
     "output_type": "display_data"
    }
   ],
   "source": [
    "class(a)"
   ]
  },
  {
   "cell_type": "code",
   "execution_count": 13,
   "metadata": {
    "vscode": {
     "languageId": "r"
    }
   },
   "outputs": [],
   "source": [
    "bol <- TRUE"
   ]
  },
  {
   "cell_type": "code",
   "execution_count": 14,
   "metadata": {
    "vscode": {
     "languageId": "r"
    }
   },
   "outputs": [
    {
     "data": {
      "text/html": [
       "'logical'"
      ],
      "text/latex": [
       "'logical'"
      ],
      "text/markdown": [
       "'logical'"
      ],
      "text/plain": [
       "[1] \"logical\""
      ]
     },
     "metadata": {},
     "output_type": "display_data"
    }
   ],
   "source": [
    "class(bol)"
   ]
  },
  {
   "cell_type": "markdown",
   "metadata": {},
   "source": [
    "also, try is.*() function to check whether the input variable is certain type of data"
   ]
  },
  {
   "cell_type": "code",
   "execution_count": 15,
   "metadata": {
    "vscode": {
     "languageId": "r"
    }
   },
   "outputs": [
    {
     "data": {
      "text/html": [
       "TRUE"
      ],
      "text/latex": [
       "TRUE"
      ],
      "text/markdown": [
       "TRUE"
      ],
      "text/plain": [
       "[1] TRUE"
      ]
     },
     "metadata": {},
     "output_type": "display_data"
    }
   ],
   "source": [
    "is.logical(bol) # Try \"TAB\" after \"is.\" to see how many functions you find"
   ]
  },
  {
   "cell_type": "markdown",
   "metadata": {},
   "source": [
    "You can also use as.*() function to do input data type conversion"
   ]
  },
  {
   "cell_type": "code",
   "execution_count": 16,
   "metadata": {
    "vscode": {
     "languageId": "r"
    }
   },
   "outputs": [
    {
     "data": {
      "text/html": [
       "'numeric'"
      ],
      "text/latex": [
       "'numeric'"
      ],
      "text/markdown": [
       "'numeric'"
      ],
      "text/plain": [
       "[1] \"numeric\""
      ]
     },
     "metadata": {},
     "output_type": "display_data"
    }
   ],
   "source": [
    "class(3.1)"
   ]
  },
  {
   "cell_type": "code",
   "execution_count": 17,
   "metadata": {
    "vscode": {
     "languageId": "r"
    }
   },
   "outputs": [
    {
     "data": {
      "text/html": [
       "3"
      ],
      "text/latex": [
       "3"
      ],
      "text/markdown": [
       "3"
      ],
      "text/plain": [
       "[1] 3"
      ]
     },
     "metadata": {},
     "output_type": "display_data"
    }
   ],
   "source": [
    "as.integer(3.1)"
   ]
  },
  {
   "cell_type": "code",
   "execution_count": 18,
   "metadata": {
    "vscode": {
     "languageId": "r"
    }
   },
   "outputs": [
    {
     "data": {
      "text/html": [
       "'integer'"
      ],
      "text/latex": [
       "'integer'"
      ],
      "text/markdown": [
       "'integer'"
      ],
      "text/plain": [
       "[1] \"integer\""
      ]
     },
     "metadata": {},
     "output_type": "display_data"
    }
   ],
   "source": [
    "class(as.integer(3.1))"
   ]
  },
  {
   "cell_type": "markdown",
   "metadata": {},
   "source": [
    "Data type coversion should be used with caution. This procedure is typically not advised for beginners due to the potential for unclear or imprecise conversions."
   ]
  },
  {
   "cell_type": "code",
   "execution_count": 19,
   "metadata": {
    "vscode": {
     "languageId": "r"
    }
   },
   "outputs": [
    {
     "data": {
      "text/html": [
       "FALSE"
      ],
      "text/latex": [
       "FALSE"
      ],
      "text/markdown": [
       "FALSE"
      ],
      "text/plain": [
       "[1] FALSE"
      ]
     },
     "metadata": {},
     "output_type": "display_data"
    }
   ],
   "source": [
    "as.logical(0)"
   ]
  },
  {
   "cell_type": "code",
   "execution_count": 20,
   "metadata": {
    "vscode": {
     "languageId": "r"
    }
   },
   "outputs": [
    {
     "data": {
      "text/html": [
       "TRUE"
      ],
      "text/latex": [
       "TRUE"
      ],
      "text/markdown": [
       "TRUE"
      ],
      "text/plain": [
       "[1] TRUE"
      ]
     },
     "metadata": {},
     "output_type": "display_data"
    }
   ],
   "source": [
    "as.logical(3)"
   ]
  },
  {
   "cell_type": "markdown",
   "metadata": {
    "vscode": {
     "languageId": "r"
    }
   },
   "source": [
    "*What just happened?!* R maps all values other than `0` to logical `True`, and `0` to `False`. This can be useful in some cases, for example, when you want to convert all your data to Presence-Absence only."
   ]
  },
  {
   "cell_type": "markdown",
   "metadata": {},
   "source": [
    "## 2.2 R Vector, Matrix, Dataframe, Lists"
   ]
  },
  {
   "cell_type": "markdown",
   "metadata": {},
   "source": [
    "Up to now, the variables we have defined contains only one number. This is not very useful for big data analysis. R has different built-in structures (objects) for data manipulation and more advanced computation. "
   ]
  },
  {
   "cell_type": "markdown",
   "metadata": {
    "vscode": {
     "languageId": "r"
    }
   },
   "source": [
    "### 2.2.1 Vectors\n",
    "\n",
    "The Vector is a fundamental data object / structure in R. *A vector is like a single column or row in a spreadsheet.*"
   ]
  },
  {
   "cell_type": "markdown",
   "metadata": {},
   "source": [
    "Build a vector with `c` (stands for \"`c`oncatenate\"): "
   ]
  },
  {
   "cell_type": "code",
   "execution_count": 21,
   "metadata": {
    "vscode": {
     "languageId": "r"
    }
   },
   "outputs": [],
   "source": [
    "v <- c(1, 2, 4, 8, 16)"
   ]
  },
  {
   "cell_type": "code",
   "execution_count": 22,
   "metadata": {
    "vscode": {
     "languageId": "r"
    }
   },
   "outputs": [
    {
     "data": {
      "text/html": [
       "<style>\n",
       ".list-inline {list-style: none; margin:0; padding: 0}\n",
       ".list-inline>li {display: inline-block}\n",
       ".list-inline>li:not(:last-child)::after {content: \"\\00b7\"; padding: 0 .5ex}\n",
       "</style>\n",
       "<ol class=list-inline><li>1</li><li>2</li><li>4</li><li>8</li><li>16</li></ol>\n"
      ],
      "text/latex": [
       "\\begin{enumerate*}\n",
       "\\item 1\n",
       "\\item 2\n",
       "\\item 4\n",
       "\\item 8\n",
       "\\item 16\n",
       "\\end{enumerate*}\n"
      ],
      "text/markdown": [
       "1. 1\n",
       "2. 2\n",
       "3. 4\n",
       "4. 8\n",
       "5. 16\n",
       "\n",
       "\n"
      ],
      "text/plain": [
       "[1]  1  2  4  8 16"
      ]
     },
     "metadata": {},
     "output_type": "display_data"
    }
   ],
   "source": [
    "v # Display the vector-valued variable you created"
   ]
  },
  {
   "cell_type": "code",
   "execution_count": 23,
   "metadata": {
    "vscode": {
     "languageId": "r"
    }
   },
   "outputs": [
    {
     "data": {
      "text/html": [
       "TRUE"
      ],
      "text/latex": [
       "TRUE"
      ],
      "text/markdown": [
       "TRUE"
      ],
      "text/plain": [
       "[1] TRUE"
      ]
     },
     "metadata": {},
     "output_type": "display_data"
    }
   ],
   "source": [
    "is.vector(v) # check if v's a vector"
   ]
  },
  {
   "cell_type": "markdown",
   "metadata": {},
   "source": [
    "You can do operations on vector as well"
   ]
  },
  {
   "cell_type": "code",
   "execution_count": 24,
   "metadata": {
    "vscode": {
     "languageId": "r"
    }
   },
   "outputs": [
    {
     "data": {
      "text/html": [
       "<style>\n",
       ".list-inline {list-style: none; margin:0; padding: 0}\n",
       ".list-inline>li {display: inline-block}\n",
       ".list-inline>li:not(:last-child)::after {content: \"\\00b7\"; padding: 0 .5ex}\n",
       "</style>\n",
       "<ol class=list-inline><li>0</li><li>1</li><li>2</li><li>3</li><li>4</li></ol>\n"
      ],
      "text/latex": [
       "\\begin{enumerate*}\n",
       "\\item 0\n",
       "\\item 1\n",
       "\\item 2\n",
       "\\item 3\n",
       "\\item 4\n",
       "\\end{enumerate*}\n"
      ],
      "text/markdown": [
       "1. 0\n",
       "2. 1\n",
       "3. 2\n",
       "4. 3\n",
       "5. 4\n",
       "\n",
       "\n"
      ],
      "text/plain": [
       "[1] 0 1 2 3 4"
      ]
     },
     "metadata": {},
     "output_type": "display_data"
    }
   ],
   "source": [
    "log(v, base = 2)"
   ]
  },
  {
   "cell_type": "code",
   "execution_count": 25,
   "metadata": {
    "vscode": {
     "languageId": "r"
    }
   },
   "outputs": [
    {
     "data": {
      "text/html": [
       "6.2"
      ],
      "text/latex": [
       "6.2"
      ],
      "text/markdown": [
       "6.2"
      ],
      "text/plain": [
       "[1] 6.2"
      ]
     },
     "metadata": {},
     "output_type": "display_data"
    }
   ],
   "source": [
    "mean(v) # mean"
   ]
  },
  {
   "cell_type": "code",
   "execution_count": 26,
   "metadata": {
    "vscode": {
     "languageId": "r"
    }
   },
   "outputs": [
    {
     "data": {
      "text/html": [
       "5"
      ],
      "text/latex": [
       "5"
      ],
      "text/markdown": [
       "5"
      ],
      "text/plain": [
       "[1] 5"
      ]
     },
     "metadata": {},
     "output_type": "display_data"
    }
   ],
   "source": [
    "length(v) # how many elements"
   ]
  },
  {
   "cell_type": "markdown",
   "metadata": {},
   "source": [
    "Numeric indexing"
   ]
  },
  {
   "cell_type": "code",
   "execution_count": 27,
   "metadata": {
    "vscode": {
     "languageId": "r"
    }
   },
   "outputs": [
    {
     "data": {
      "text/html": [
       "1"
      ],
      "text/latex": [
       "1"
      ],
      "text/markdown": [
       "1"
      ],
      "text/plain": [
       "[1] 1"
      ]
     },
     "metadata": {},
     "output_type": "display_data"
    }
   ],
   "source": [
    "v[1]   # select the first element"
   ]
  },
  {
   "cell_type": "code",
   "execution_count": 28,
   "metadata": {
    "vscode": {
     "languageId": "r"
    }
   },
   "outputs": [
    {
     "data": {
      "text/html": [
       "<style>\n",
       ".list-inline {list-style: none; margin:0; padding: 0}\n",
       ".list-inline>li {display: inline-block}\n",
       ".list-inline>li:not(:last-child)::after {content: \"\\00b7\"; padding: 0 .5ex}\n",
       "</style>\n",
       "<ol class=list-inline><li>0.02</li><li>1</li><li>1</li></ol>\n"
      ],
      "text/latex": [
       "\\begin{enumerate*}\n",
       "\\item 0.02\n",
       "\\item 1\n",
       "\\item 1\n",
       "\\end{enumerate*}\n"
      ],
      "text/markdown": [
       "1. 0.02\n",
       "2. 1\n",
       "3. 1\n",
       "\n",
       "\n"
      ],
      "text/plain": [
       "[1] 0.02 1.00 1.00"
      ]
     },
     "metadata": {},
     "output_type": "display_data"
    }
   ],
   "source": [
    "v1 <- c(0.02, TRUE, 1)\n",
    "v1"
   ]
  },
  {
   "cell_type": "markdown",
   "metadata": {},
   "source": [
    "TRUE get converted to 1, why?"
   ]
  },
  {
   "cell_type": "markdown",
   "metadata": {},
   "source": [
    "```{note}\n",
    "R vectors (and matrix, array) can only store data of a single type (e.g., all numeric or all character). Attempting to merge different data types will prompt R to standardize everything to a single data type. To observe this behavior, experiment with the following example:\n",
    "```"
   ]
  },
  {
   "cell_type": "code",
   "execution_count": 29,
   "metadata": {
    "vscode": {
     "languageId": "r"
    }
   },
   "outputs": [],
   "source": [
    "names(v1) <- c(\"myfirstelement\",\"2\",\"3\") # You can give name to each elements, through names() function"
   ]
  },
  {
   "cell_type": "code",
   "execution_count": 30,
   "metadata": {
    "vscode": {
     "languageId": "r"
    }
   },
   "outputs": [
    {
     "data": {
      "text/html": [
       "<style>\n",
       ".dl-inline {width: auto; margin:0; padding: 0}\n",
       ".dl-inline>dt, .dl-inline>dd {float: none; width: auto; display: inline-block}\n",
       ".dl-inline>dt::after {content: \":\\0020\"; padding-right: .5ex}\n",
       ".dl-inline>dt:not(:first-of-type) {padding-left: .5ex}\n",
       "</style><dl class=dl-inline><dt>myfirstelement</dt><dd>0.02</dd><dt>2</dt><dd>1</dd><dt>3</dt><dd>1</dd></dl>\n"
      ],
      "text/latex": [
       "\\begin{description*}\n",
       "\\item[myfirstelement] 0.02\n",
       "\\item[2] 1\n",
       "\\item[3] 1\n",
       "\\end{description*}\n"
      ],
      "text/markdown": [
       "myfirstelement\n",
       ":   0.022\n",
       ":   13\n",
       ":   1\n",
       "\n"
      ],
      "text/plain": [
       "myfirstelement              2              3 \n",
       "          0.02           1.00           1.00 "
      ]
     },
     "metadata": {},
     "output_type": "display_data"
    }
   ],
   "source": [
    "v1 # display"
   ]
  },
  {
   "cell_type": "markdown",
   "metadata": {},
   "source": [
    "\n",
    "### 2.2.2 Matrices and arrays\n",
    "\n",
    "A R \"matrix\" is a 2 dimensional vector (has both rows and columns).\n",
    "\n",
    "Try this:"
   ]
  },
  {
   "cell_type": "code",
   "execution_count": 31,
   "metadata": {
    "vscode": {
     "languageId": "r"
    }
   },
   "outputs": [
    {
     "data": {
      "text/html": [
       "<style>\n",
       ".list-inline {list-style: none; margin:0; padding: 0}\n",
       ".list-inline>li {display: inline-block}\n",
       ".list-inline>li:not(:last-child)::after {content: \"\\00b7\"; padding: 0 .5ex}\n",
       "</style>\n",
       "<ol class=list-inline><li>1</li><li>2</li><li>3</li><li>4</li><li>5</li><li>6</li><li>7</li><li>8</li><li>9</li><li>10</li><li>11</li><li>12</li><li>13</li><li>14</li><li>15</li><li>16</li><li>17</li><li>18</li><li>19</li><li>20</li><li>21</li><li>22</li><li>23</li><li>24</li><li>25</li></ol>\n"
      ],
      "text/latex": [
       "\\begin{enumerate*}\n",
       "\\item 1\n",
       "\\item 2\n",
       "\\item 3\n",
       "\\item 4\n",
       "\\item 5\n",
       "\\item 6\n",
       "\\item 7\n",
       "\\item 8\n",
       "\\item 9\n",
       "\\item 10\n",
       "\\item 11\n",
       "\\item 12\n",
       "\\item 13\n",
       "\\item 14\n",
       "\\item 15\n",
       "\\item 16\n",
       "\\item 17\n",
       "\\item 18\n",
       "\\item 19\n",
       "\\item 20\n",
       "\\item 21\n",
       "\\item 22\n",
       "\\item 23\n",
       "\\item 24\n",
       "\\item 25\n",
       "\\end{enumerate*}\n"
      ],
      "text/markdown": [
       "1. 1\n",
       "2. 2\n",
       "3. 3\n",
       "4. 4\n",
       "5. 5\n",
       "6. 6\n",
       "7. 7\n",
       "8. 8\n",
       "9. 9\n",
       "10. 10\n",
       "11. 11\n",
       "12. 12\n",
       "13. 13\n",
       "14. 14\n",
       "15. 15\n",
       "16. 16\n",
       "17. 17\n",
       "18. 18\n",
       "19. 19\n",
       "20. 20\n",
       "21. 21\n",
       "22. 22\n",
       "23. 23\n",
       "24. 24\n",
       "25. 25\n",
       "\n",
       "\n"
      ],
      "text/plain": [
       " [1]  1  2  3  4  5  6  7  8  9 10 11 12 13 14 15 16 17 18 19 20 21 22 23 24 25"
      ]
     },
     "metadata": {},
     "output_type": "display_data"
    }
   ],
   "source": [
    "1:25 # you can generate a series of number by \"start:end\""
   ]
  },
  {
   "cell_type": "code",
   "execution_count": 32,
   "metadata": {
    "vscode": {
     "languageId": "r"
    }
   },
   "outputs": [
    {
     "data": {
      "text/html": [
       "<style>\n",
       ".list-inline {list-style: none; margin:0; padding: 0}\n",
       ".list-inline>li {display: inline-block}\n",
       ".list-inline>li:not(:last-child)::after {content: \"\\00b7\"; padding: 0 .5ex}\n",
       "</style>\n",
       "<ol class=list-inline><li>1</li><li>5.125</li><li>9.25</li><li>13.375</li><li>17.5</li><li>21.625</li><li>25.75</li><li>29.875</li><li>34</li><li>38.125</li><li>42.25</li><li>46.375</li><li>50.5</li><li>54.625</li><li>58.75</li><li>62.875</li><li>67</li><li>71.125</li><li>75.25</li><li>79.375</li><li>83.5</li><li>87.625</li><li>91.75</li><li>95.875</li><li>100</li></ol>\n"
      ],
      "text/latex": [
       "\\begin{enumerate*}\n",
       "\\item 1\n",
       "\\item 5.125\n",
       "\\item 9.25\n",
       "\\item 13.375\n",
       "\\item 17.5\n",
       "\\item 21.625\n",
       "\\item 25.75\n",
       "\\item 29.875\n",
       "\\item 34\n",
       "\\item 38.125\n",
       "\\item 42.25\n",
       "\\item 46.375\n",
       "\\item 50.5\n",
       "\\item 54.625\n",
       "\\item 58.75\n",
       "\\item 62.875\n",
       "\\item 67\n",
       "\\item 71.125\n",
       "\\item 75.25\n",
       "\\item 79.375\n",
       "\\item 83.5\n",
       "\\item 87.625\n",
       "\\item 91.75\n",
       "\\item 95.875\n",
       "\\item 100\n",
       "\\end{enumerate*}\n"
      ],
      "text/markdown": [
       "1. 1\n",
       "2. 5.125\n",
       "3. 9.25\n",
       "4. 13.375\n",
       "5. 17.5\n",
       "6. 21.625\n",
       "7. 25.75\n",
       "8. 29.875\n",
       "9. 34\n",
       "10. 38.125\n",
       "11. 42.25\n",
       "12. 46.375\n",
       "13. 50.5\n",
       "14. 54.625\n",
       "15. 58.75\n",
       "16. 62.875\n",
       "17. 67\n",
       "18. 71.125\n",
       "19. 75.25\n",
       "20. 79.375\n",
       "21. 83.5\n",
       "22. 87.625\n",
       "23. 91.75\n",
       "24. 95.875\n",
       "25. 100\n",
       "\n",
       "\n"
      ],
      "text/plain": [
       " [1]   1.000   5.125   9.250  13.375  17.500  21.625  25.750  29.875  34.000\n",
       "[10]  38.125  42.250  46.375  50.500  54.625  58.750  62.875  67.000  71.125\n",
       "[19]  75.250  79.375  83.500  87.625  91.750  95.875 100.000"
      ]
     },
     "metadata": {},
     "output_type": "display_data"
    }
   ],
   "source": [
    "seq(from = 1,to = 100,length.out = 25) # or you can generate a more complicated series sequence by using seq()function, try ?seq()"
   ]
  },
  {
   "cell_type": "code",
   "execution_count": 33,
   "metadata": {
    "vscode": {
     "languageId": "r"
    }
   },
   "outputs": [
    {
     "data": {
      "text/html": [
       "<table class=\"dataframe\">\n",
       "<caption>A matrix: 5 × 5 of type dbl</caption>\n",
       "<tbody>\n",
       "\t<tr><td> 1.000</td><td>21.625</td><td>42.250</td><td>62.875</td><td> 83.500</td></tr>\n",
       "\t<tr><td> 5.125</td><td>25.750</td><td>46.375</td><td>67.000</td><td> 87.625</td></tr>\n",
       "\t<tr><td> 9.250</td><td>29.875</td><td>50.500</td><td>71.125</td><td> 91.750</td></tr>\n",
       "\t<tr><td>13.375</td><td>34.000</td><td>54.625</td><td>75.250</td><td> 95.875</td></tr>\n",
       "\t<tr><td>17.500</td><td>38.125</td><td>58.750</td><td>79.375</td><td>100.000</td></tr>\n",
       "</tbody>\n",
       "</table>\n"
      ],
      "text/latex": [
       "A matrix: 5 × 5 of type dbl\n",
       "\\begin{tabular}{lllll}\n",
       "\t  1.000 & 21.625 & 42.250 & 62.875 &  83.500\\\\\n",
       "\t  5.125 & 25.750 & 46.375 & 67.000 &  87.625\\\\\n",
       "\t  9.250 & 29.875 & 50.500 & 71.125 &  91.750\\\\\n",
       "\t 13.375 & 34.000 & 54.625 & 75.250 &  95.875\\\\\n",
       "\t 17.500 & 38.125 & 58.750 & 79.375 & 100.000\\\\\n",
       "\\end{tabular}\n"
      ],
      "text/markdown": [
       "\n",
       "A matrix: 5 × 5 of type dbl\n",
       "\n",
       "|  1.000 | 21.625 | 42.250 | 62.875 |  83.500 |\n",
       "|  5.125 | 25.750 | 46.375 | 67.000 |  87.625 |\n",
       "|  9.250 | 29.875 | 50.500 | 71.125 |  91.750 |\n",
       "| 13.375 | 34.000 | 54.625 | 75.250 |  95.875 |\n",
       "| 17.500 | 38.125 | 58.750 | 79.375 | 100.000 |\n",
       "\n"
      ],
      "text/plain": [
       "     [,1]   [,2]   [,3]   [,4]   [,5]   \n",
       "[1,]  1.000 21.625 42.250 62.875  83.500\n",
       "[2,]  5.125 25.750 46.375 67.000  87.625\n",
       "[3,]  9.250 29.875 50.500 71.125  91.750\n",
       "[4,] 13.375 34.000 54.625 75.250  95.875\n",
       "[5,] 17.500 38.125 58.750 79.375 100.000"
      ]
     },
     "metadata": {},
     "output_type": "display_data"
    }
   ],
   "source": [
    "my.mat1 <- matrix(seq(from = 1,to = 100,length.out = 25), 5, 5) # place the vector by\n",
    "my.mat1"
   ]
  },
  {
   "cell_type": "markdown",
   "metadata": {},
   "source": [
    "you can order the elements of a matrix by row instead of column (default)."
   ]
  },
  {
   "cell_type": "code",
   "execution_count": 34,
   "metadata": {
    "vscode": {
     "languageId": "r"
    }
   },
   "outputs": [
    {
     "data": {
      "text/html": [
       "<table class=\"dataframe\">\n",
       "<caption>A matrix: 5 × 5 of type dbl</caption>\n",
       "<tbody>\n",
       "\t<tr><td> 1.000</td><td> 5.125</td><td> 9.250</td><td>13.375</td><td> 17.500</td></tr>\n",
       "\t<tr><td>21.625</td><td>25.750</td><td>29.875</td><td>34.000</td><td> 38.125</td></tr>\n",
       "\t<tr><td>42.250</td><td>46.375</td><td>50.500</td><td>54.625</td><td> 58.750</td></tr>\n",
       "\t<tr><td>62.875</td><td>67.000</td><td>71.125</td><td>75.250</td><td> 79.375</td></tr>\n",
       "\t<tr><td>83.500</td><td>87.625</td><td>91.750</td><td>95.875</td><td>100.000</td></tr>\n",
       "</tbody>\n",
       "</table>\n"
      ],
      "text/latex": [
       "A matrix: 5 × 5 of type dbl\n",
       "\\begin{tabular}{lllll}\n",
       "\t  1.000 &  5.125 &  9.250 & 13.375 &  17.500\\\\\n",
       "\t 21.625 & 25.750 & 29.875 & 34.000 &  38.125\\\\\n",
       "\t 42.250 & 46.375 & 50.500 & 54.625 &  58.750\\\\\n",
       "\t 62.875 & 67.000 & 71.125 & 75.250 &  79.375\\\\\n",
       "\t 83.500 & 87.625 & 91.750 & 95.875 & 100.000\\\\\n",
       "\\end{tabular}\n"
      ],
      "text/markdown": [
       "\n",
       "A matrix: 5 × 5 of type dbl\n",
       "\n",
       "|  1.000 |  5.125 |  9.250 | 13.375 |  17.500 |\n",
       "| 21.625 | 25.750 | 29.875 | 34.000 |  38.125 |\n",
       "| 42.250 | 46.375 | 50.500 | 54.625 |  58.750 |\n",
       "| 62.875 | 67.000 | 71.125 | 75.250 |  79.375 |\n",
       "| 83.500 | 87.625 | 91.750 | 95.875 | 100.000 |\n",
       "\n"
      ],
      "text/plain": [
       "     [,1]   [,2]   [,3]   [,4]   [,5]   \n",
       "[1,]  1.000  5.125  9.250 13.375  17.500\n",
       "[2,] 21.625 25.750 29.875 34.000  38.125\n",
       "[3,] 42.250 46.375 50.500 54.625  58.750\n",
       "[4,] 62.875 67.000 71.125 75.250  79.375\n",
       "[5,] 83.500 87.625 91.750 95.875 100.000"
      ]
     },
     "metadata": {},
     "output_type": "display_data"
    }
   ],
   "source": [
    "my.mat1 <- matrix(seq(from = 1,to = 100,length.out = 25), 5, 5, byrow=TRUE)\n",
    "my.mat1"
   ]
  },
  {
   "cell_type": "code",
   "execution_count": 35,
   "metadata": {
    "vscode": {
     "languageId": "r"
    }
   },
   "outputs": [
    {
     "data": {
      "text/html": [
       "<style>\n",
       ".list-inline {list-style: none; margin:0; padding: 0}\n",
       ".list-inline>li {display: inline-block}\n",
       ".list-inline>li:not(:last-child)::after {content: \"\\00b7\"; padding: 0 .5ex}\n",
       "</style>\n",
       "<ol class=list-inline><li>5</li><li>5</li></ol>\n"
      ],
      "text/latex": [
       "\\begin{enumerate*}\n",
       "\\item 5\n",
       "\\item 5\n",
       "\\end{enumerate*}\n"
      ],
      "text/markdown": [
       "1. 5\n",
       "2. 5\n",
       "\n",
       "\n"
      ],
      "text/plain": [
       "[1] 5 5"
      ]
     },
     "metadata": {},
     "output_type": "display_data"
    }
   ],
   "source": [
    "dim(my.mat1) #get the size of the matrix"
   ]
  },
  {
   "cell_type": "code",
   "execution_count": 36,
   "metadata": {
    "vscode": {
     "languageId": "r"
    }
   },
   "outputs": [
    {
     "data": {
      "text/html": [
       "<style>\n",
       ".list-inline {list-style: none; margin:0; padding: 0}\n",
       ".list-inline>li {display: inline-block}\n",
       ".list-inline>li:not(:last-child)::after {content: \"\\00b7\"; padding: 0 .5ex}\n",
       "</style>\n",
       "<ol class=list-inline><li>42.25</li><li>46.375</li><li>50.5</li><li>54.625</li><li>58.75</li></ol>\n"
      ],
      "text/latex": [
       "\\begin{enumerate*}\n",
       "\\item 42.25\n",
       "\\item 46.375\n",
       "\\item 50.5\n",
       "\\item 54.625\n",
       "\\item 58.75\n",
       "\\end{enumerate*}\n"
      ],
      "text/markdown": [
       "1. 42.25\n",
       "2. 46.375\n",
       "3. 50.5\n",
       "4. 54.625\n",
       "5. 58.75\n",
       "\n",
       "\n"
      ],
      "text/plain": [
       "[1] 42.250 46.375 50.500 54.625 58.750"
      ]
     },
     "metadata": {},
     "output_type": "display_data"
    }
   ],
   "source": [
    "colMeans(my.mat1) # get the means for each column, similarly try rowMeans()"
   ]
  },
  {
   "cell_type": "code",
   "execution_count": 37,
   "metadata": {
    "vscode": {
     "languageId": "r"
    }
   },
   "outputs": [
    {
     "data": {
      "text/html": [
       "<table class=\"dataframe\">\n",
       "<caption>A matrix: 5 × 5 of type dbl</caption>\n",
       "<tbody>\n",
       "\t<tr><td>0.000000</td><td>1.634131</td><td>2.224624</td><td>2.593387</td><td>2.862201</td></tr>\n",
       "\t<tr><td>3.073850</td><td>3.248435</td><td>3.397022</td><td>3.526361</td><td>3.640870</td></tr>\n",
       "\t<tr><td>3.743604</td><td>3.836761</td><td>3.921973</td><td>4.000492</td><td>4.073291</td></tr>\n",
       "\t<tr><td>4.141149</td><td>4.204693</td><td>4.264439</td><td>4.320816</td><td>4.374183</td></tr>\n",
       "\t<tr><td>4.424847</td><td>4.473066</td><td>4.519067</td><td>4.563045</td><td>4.605170</td></tr>\n",
       "</tbody>\n",
       "</table>\n"
      ],
      "text/latex": [
       "A matrix: 5 × 5 of type dbl\n",
       "\\begin{tabular}{lllll}\n",
       "\t 0.000000 & 1.634131 & 2.224624 & 2.593387 & 2.862201\\\\\n",
       "\t 3.073850 & 3.248435 & 3.397022 & 3.526361 & 3.640870\\\\\n",
       "\t 3.743604 & 3.836761 & 3.921973 & 4.000492 & 4.073291\\\\\n",
       "\t 4.141149 & 4.204693 & 4.264439 & 4.320816 & 4.374183\\\\\n",
       "\t 4.424847 & 4.473066 & 4.519067 & 4.563045 & 4.605170\\\\\n",
       "\\end{tabular}\n"
      ],
      "text/markdown": [
       "\n",
       "A matrix: 5 × 5 of type dbl\n",
       "\n",
       "| 0.000000 | 1.634131 | 2.224624 | 2.593387 | 2.862201 |\n",
       "| 3.073850 | 3.248435 | 3.397022 | 3.526361 | 3.640870 |\n",
       "| 3.743604 | 3.836761 | 3.921973 | 4.000492 | 4.073291 |\n",
       "| 4.141149 | 4.204693 | 4.264439 | 4.320816 | 4.374183 |\n",
       "| 4.424847 | 4.473066 | 4.519067 | 4.563045 | 4.605170 |\n",
       "\n"
      ],
      "text/plain": [
       "     [,1]     [,2]     [,3]     [,4]     [,5]    \n",
       "[1,] 0.000000 1.634131 2.224624 2.593387 2.862201\n",
       "[2,] 3.073850 3.248435 3.397022 3.526361 3.640870\n",
       "[3,] 3.743604 3.836761 3.921973 4.000492 4.073291\n",
       "[4,] 4.141149 4.204693 4.264439 4.320816 4.374183\n",
       "[5,] 4.424847 4.473066 4.519067 4.563045 4.605170"
      ]
     },
     "metadata": {},
     "output_type": "display_data"
    }
   ],
   "source": [
    "log(my.mat1)  # log() can also work in Matrix"
   ]
  },
  {
   "cell_type": "markdown",
   "metadata": {},
   "source": [
    "like R vectors, R will do the same sort of type homogenization as R vectors. \n",
    "\n",
    "Try inserting a text value in `my.mat1`and see what happens: "
   ]
  },
  {
   "cell_type": "code",
   "execution_count": 38,
   "metadata": {
    "vscode": {
     "languageId": "r"
    }
   },
   "outputs": [
    {
     "data": {
      "text/html": [
       "<table class=\"dataframe\">\n",
       "<caption>A matrix: 5 × 5 of type chr</caption>\n",
       "<tbody>\n",
       "\t<tr><td>one   </td><td>5.125 </td><td>9.25  </td><td>13.375</td><td>17.5  </td></tr>\n",
       "\t<tr><td>21.625</td><td>25.75 </td><td>29.875</td><td>34    </td><td>38.125</td></tr>\n",
       "\t<tr><td>42.25 </td><td>46.375</td><td>50.5  </td><td>54.625</td><td>58.75 </td></tr>\n",
       "\t<tr><td>62.875</td><td>67    </td><td>71.125</td><td>75.25 </td><td>79.375</td></tr>\n",
       "\t<tr><td>83.5  </td><td>87.625</td><td>91.75 </td><td>95.875</td><td>100   </td></tr>\n",
       "</tbody>\n",
       "</table>\n"
      ],
      "text/latex": [
       "A matrix: 5 × 5 of type chr\n",
       "\\begin{tabular}{lllll}\n",
       "\t one    & 5.125  & 9.25   & 13.375 & 17.5  \\\\\n",
       "\t 21.625 & 25.75  & 29.875 & 34     & 38.125\\\\\n",
       "\t 42.25  & 46.375 & 50.5   & 54.625 & 58.75 \\\\\n",
       "\t 62.875 & 67     & 71.125 & 75.25  & 79.375\\\\\n",
       "\t 83.5   & 87.625 & 91.75  & 95.875 & 100   \\\\\n",
       "\\end{tabular}\n"
      ],
      "text/markdown": [
       "\n",
       "A matrix: 5 × 5 of type chr\n",
       "\n",
       "| one    | 5.125  | 9.25   | 13.375 | 17.5   |\n",
       "| 21.625 | 25.75  | 29.875 | 34     | 38.125 |\n",
       "| 42.25  | 46.375 | 50.5   | 54.625 | 58.75  |\n",
       "| 62.875 | 67     | 71.125 | 75.25  | 79.375 |\n",
       "| 83.5   | 87.625 | 91.75  | 95.875 | 100    |\n",
       "\n"
      ],
      "text/plain": [
       "     [,1]   [,2]   [,3]   [,4]   [,5]  \n",
       "[1,] one    5.125  9.25   13.375 17.5  \n",
       "[2,] 21.625 25.75  29.875 34     38.125\n",
       "[3,] 42.25  46.375 50.5   54.625 58.75 \n",
       "[4,] 62.875 67     71.125 75.25  79.375\n",
       "[5,] 83.5   87.625 91.75  95.875 100   "
      ]
     },
     "metadata": {},
     "output_type": "display_data"
    }
   ],
   "source": [
    "my.mat1[1,1] <- \"one\"\n",
    "my.mat1"
   ]
  },
  {
   "cell_type": "markdown",
   "metadata": {},
   "source": [
    "`my.mat1` changed from `A matrix: 5 × 5 of type dbl` to `A matrix: 5 × 5 of type chr`. \n",
    "That is, inserting a string in one location converted all the elements of the matrix to the `chr` (string) data type."
   ]
  },
  {
   "cell_type": "markdown",
   "metadata": {},
   "source": [
    "### 2.2.3 Data frames\n",
    "\n",
    "Data frames are a fundamental and versatile data structure in R, offering a crucial advantage over matrices and vectors. Unlike matrices and vectors, R data frames can accommodate heterogeneous data types in each column, such as numeric values, strings, and boolean values, or even a mix of these data types, resembling the structure of a typical spreadsheet. As a result, data frames have become a cornerstone in R programming, widely utilized by statistical analysis and plotting functions as well as various packages within the R ecosystem. \n",
    "\n",
    "Let's build and manipulate a dataframe. First create three vectors:"
   ]
  },
  {
   "cell_type": "code",
   "execution_count": 39,
   "metadata": {
    "vscode": {
     "languageId": "r"
    }
   },
   "outputs": [
    {
     "data": {
      "text/html": [
       "<style>\n",
       ".list-inline {list-style: none; margin:0; padding: 0}\n",
       ".list-inline>li {display: inline-block}\n",
       ".list-inline>li:not(:last-child)::after {content: \"\\00b7\"; padding: 0 .5ex}\n",
       "</style>\n",
       "<ol class=list-inline><li>1</li><li>2</li><li>3</li><li>4</li><li>5</li><li>6</li><li>7</li><li>8</li><li>9</li><li>10</li></ol>\n"
      ],
      "text/latex": [
       "\\begin{enumerate*}\n",
       "\\item 1\n",
       "\\item 2\n",
       "\\item 3\n",
       "\\item 4\n",
       "\\item 5\n",
       "\\item 6\n",
       "\\item 7\n",
       "\\item 8\n",
       "\\item 9\n",
       "\\item 10\n",
       "\\end{enumerate*}\n"
      ],
      "text/markdown": [
       "1. 1\n",
       "2. 2\n",
       "3. 3\n",
       "4. 4\n",
       "5. 5\n",
       "6. 6\n",
       "7. 7\n",
       "8. 8\n",
       "9. 9\n",
       "10. 10\n",
       "\n",
       "\n"
      ],
      "text/plain": [
       " [1]  1  2  3  4  5  6  7  8  9 10"
      ]
     },
     "metadata": {},
     "output_type": "display_data"
    }
   ],
   "source": [
    "column1 <- seq(from = 1,to = 10, by = 1)\n",
    "column1"
   ]
  },
  {
   "cell_type": "code",
   "execution_count": 40,
   "metadata": {
    "vscode": {
     "languageId": "r"
    }
   },
   "outputs": [
    {
     "data": {
      "text/html": [
       "<style>\n",
       ".list-inline {list-style: none; margin:0; padding: 0}\n",
       ".list-inline>li {display: inline-block}\n",
       ".list-inline>li:not(:last-child)::after {content: \"\\00b7\"; padding: 0 .5ex}\n",
       "</style>\n",
       "<ol class=list-inline><li>'A'</li><li>'A'</li><li>'A'</li><li>'A'</li><li>'A'</li><li>'C'</li><li>'C'</li><li>'C'</li><li>'C'</li><li>'C'</li></ol>\n"
      ],
      "text/latex": [
       "\\begin{enumerate*}\n",
       "\\item 'A'\n",
       "\\item 'A'\n",
       "\\item 'A'\n",
       "\\item 'A'\n",
       "\\item 'A'\n",
       "\\item 'C'\n",
       "\\item 'C'\n",
       "\\item 'C'\n",
       "\\item 'C'\n",
       "\\item 'C'\n",
       "\\end{enumerate*}\n"
      ],
      "text/markdown": [
       "1. 'A'\n",
       "2. 'A'\n",
       "3. 'A'\n",
       "4. 'A'\n",
       "5. 'A'\n",
       "6. 'C'\n",
       "7. 'C'\n",
       "8. 'C'\n",
       "9. 'C'\n",
       "10. 'C'\n",
       "\n",
       "\n"
      ],
      "text/plain": [
       " [1] \"A\" \"A\" \"A\" \"A\" \"A\" \"C\" \"C\" \"C\" \"C\" \"C\""
      ]
     },
     "metadata": {},
     "output_type": "display_data"
    }
   ],
   "source": [
    "column2 <- c( rep(\"A\", 5), rep(\"C\", 5) )   # function rep() can be used to repeat an input for several times. try ?rep()\n",
    "column2"
   ]
  },
  {
   "cell_type": "code",
   "execution_count": 41,
   "metadata": {
    "vscode": {
     "languageId": "r"
    }
   },
   "outputs": [
    {
     "data": {
      "text/html": [
       "<style>\n",
       ".list-inline {list-style: none; margin:0; padding: 0}\n",
       ".list-inline>li {display: inline-block}\n",
       ".list-inline>li:not(:last-child)::after {content: \"\\00b7\"; padding: 0 .5ex}\n",
       "</style>\n",
       "<ol class=list-inline><li>4.27295411702566</li><li>3.50307256005413</li><li>2.63804300167533</li><li>2.48068274654319</li><li>4.53714768255899</li><li>3.29235484543788</li><li>2.53464714613231</li><li>1.87296528079572</li><li>0.775124585530932</li><li>0.878648697839709</li></ol>\n"
      ],
      "text/latex": [
       "\\begin{enumerate*}\n",
       "\\item 4.27295411702566\n",
       "\\item 3.50307256005413\n",
       "\\item 2.63804300167533\n",
       "\\item 2.48068274654319\n",
       "\\item 4.53714768255899\n",
       "\\item 3.29235484543788\n",
       "\\item 2.53464714613231\n",
       "\\item 1.87296528079572\n",
       "\\item 0.775124585530932\n",
       "\\item 0.878648697839709\n",
       "\\end{enumerate*}\n"
      ],
      "text/markdown": [
       "1. 4.27295411702566\n",
       "2. 3.50307256005413\n",
       "3. 2.63804300167533\n",
       "4. 2.48068274654319\n",
       "5. 4.53714768255899\n",
       "6. 3.29235484543788\n",
       "7. 2.53464714613231\n",
       "8. 1.87296528079572\n",
       "9. 0.775124585530932\n",
       "10. 0.878648697839709\n",
       "\n",
       "\n"
      ],
      "text/plain": [
       " [1] 4.2729541 3.5030726 2.6380430 2.4806827 4.5371477 3.2923548 2.5346471\n",
       " [8] 1.8729653 0.7751246 0.8786487"
      ]
     },
     "metadata": {},
     "output_type": "display_data"
    }
   ],
   "source": [
    "set.seed(2024) # seed for random numbers\n",
    "column3 <- c( rnorm(n = 5,mean = 2.8,sd = 1.5), rnorm(n = 5,mean = 2,sd = 1) ) # 10 random numbers from two different normal distribution\n",
    "column3"
   ]
  },
  {
   "cell_type": "markdown",
   "metadata": {},
   "source": [
    "Now combine them into a dataframe:"
   ]
  },
  {
   "cell_type": "code",
   "execution_count": 42,
   "metadata": {
    "scrolled": true,
    "vscode": {
     "languageId": "r"
    }
   },
   "outputs": [
    {
     "data": {
      "text/html": [
       "<table class=\"dataframe\">\n",
       "<caption>A data.frame: 10 × 3</caption>\n",
       "<thead>\n",
       "\t<tr><th scope=col>column1</th><th scope=col>column2</th><th scope=col>column3</th></tr>\n",
       "\t<tr><th scope=col>&lt;dbl&gt;</th><th scope=col>&lt;chr&gt;</th><th scope=col>&lt;dbl&gt;</th></tr>\n",
       "</thead>\n",
       "<tbody>\n",
       "\t<tr><td> 1</td><td>A</td><td>4.2729541</td></tr>\n",
       "\t<tr><td> 2</td><td>A</td><td>3.5030726</td></tr>\n",
       "\t<tr><td> 3</td><td>A</td><td>2.6380430</td></tr>\n",
       "\t<tr><td> 4</td><td>A</td><td>2.4806827</td></tr>\n",
       "\t<tr><td> 5</td><td>A</td><td>4.5371477</td></tr>\n",
       "\t<tr><td> 6</td><td>C</td><td>3.2923548</td></tr>\n",
       "\t<tr><td> 7</td><td>C</td><td>2.5346471</td></tr>\n",
       "\t<tr><td> 8</td><td>C</td><td>1.8729653</td></tr>\n",
       "\t<tr><td> 9</td><td>C</td><td>0.7751246</td></tr>\n",
       "\t<tr><td>10</td><td>C</td><td>0.8786487</td></tr>\n",
       "</tbody>\n",
       "</table>\n"
      ],
      "text/latex": [
       "A data.frame: 10 × 3\n",
       "\\begin{tabular}{lll}\n",
       " column1 & column2 & column3\\\\\n",
       " <dbl> & <chr> & <dbl>\\\\\n",
       "\\hline\n",
       "\t  1 & A & 4.2729541\\\\\n",
       "\t  2 & A & 3.5030726\\\\\n",
       "\t  3 & A & 2.6380430\\\\\n",
       "\t  4 & A & 2.4806827\\\\\n",
       "\t  5 & A & 4.5371477\\\\\n",
       "\t  6 & C & 3.2923548\\\\\n",
       "\t  7 & C & 2.5346471\\\\\n",
       "\t  8 & C & 1.8729653\\\\\n",
       "\t  9 & C & 0.7751246\\\\\n",
       "\t 10 & C & 0.8786487\\\\\n",
       "\\end{tabular}\n"
      ],
      "text/markdown": [
       "\n",
       "A data.frame: 10 × 3\n",
       "\n",
       "| column1 &lt;dbl&gt; | column2 &lt;chr&gt; | column3 &lt;dbl&gt; |\n",
       "|---|---|---|\n",
       "|  1 | A | 4.2729541 |\n",
       "|  2 | A | 3.5030726 |\n",
       "|  3 | A | 2.6380430 |\n",
       "|  4 | A | 2.4806827 |\n",
       "|  5 | A | 4.5371477 |\n",
       "|  6 | C | 3.2923548 |\n",
       "|  7 | C | 2.5346471 |\n",
       "|  8 | C | 1.8729653 |\n",
       "|  9 | C | 0.7751246 |\n",
       "| 10 | C | 0.8786487 |\n",
       "\n"
      ],
      "text/plain": [
       "   column1 column2 column3  \n",
       "1   1      A       4.2729541\n",
       "2   2      A       3.5030726\n",
       "3   3      A       2.6380430\n",
       "4   4      A       2.4806827\n",
       "5   5      A       4.5371477\n",
       "6   6      C       3.2923548\n",
       "7   7      C       2.5346471\n",
       "8   8      C       1.8729653\n",
       "9   9      C       0.7751246\n",
       "10 10      C       0.8786487"
      ]
     },
     "metadata": {},
     "output_type": "display_data"
    }
   ],
   "source": [
    "my.df <- data.frame(column1, column2, column3)\n",
    "my.df"
   ]
  },
  {
   "cell_type": "markdown",
   "metadata": {},
   "source": [
    "You can easily assign names to the columns of dataframes:"
   ]
  },
  {
   "cell_type": "code",
   "execution_count": 43,
   "metadata": {
    "vscode": {
     "languageId": "r"
    }
   },
   "outputs": [
    {
     "data": {
      "text/html": [
       "<table class=\"dataframe\">\n",
       "<caption>A data.frame: 10 × 3</caption>\n",
       "<thead>\n",
       "\t<tr><th scope=col>MyFirstColumn</th><th scope=col>My Second Column</th><th scope=col>My.Third.Column</th></tr>\n",
       "\t<tr><th scope=col>&lt;dbl&gt;</th><th scope=col>&lt;chr&gt;</th><th scope=col>&lt;dbl&gt;</th></tr>\n",
       "</thead>\n",
       "<tbody>\n",
       "\t<tr><td> 1</td><td>A</td><td>4.2729541</td></tr>\n",
       "\t<tr><td> 2</td><td>A</td><td>3.5030726</td></tr>\n",
       "\t<tr><td> 3</td><td>A</td><td>2.6380430</td></tr>\n",
       "\t<tr><td> 4</td><td>A</td><td>2.4806827</td></tr>\n",
       "\t<tr><td> 5</td><td>A</td><td>4.5371477</td></tr>\n",
       "\t<tr><td> 6</td><td>C</td><td>3.2923548</td></tr>\n",
       "\t<tr><td> 7</td><td>C</td><td>2.5346471</td></tr>\n",
       "\t<tr><td> 8</td><td>C</td><td>1.8729653</td></tr>\n",
       "\t<tr><td> 9</td><td>C</td><td>0.7751246</td></tr>\n",
       "\t<tr><td>10</td><td>C</td><td>0.8786487</td></tr>\n",
       "</tbody>\n",
       "</table>\n"
      ],
      "text/latex": [
       "A data.frame: 10 × 3\n",
       "\\begin{tabular}{lll}\n",
       " MyFirstColumn & My Second Column & My.Third.Column\\\\\n",
       " <dbl> & <chr> & <dbl>\\\\\n",
       "\\hline\n",
       "\t  1 & A & 4.2729541\\\\\n",
       "\t  2 & A & 3.5030726\\\\\n",
       "\t  3 & A & 2.6380430\\\\\n",
       "\t  4 & A & 2.4806827\\\\\n",
       "\t  5 & A & 4.5371477\\\\\n",
       "\t  6 & C & 3.2923548\\\\\n",
       "\t  7 & C & 2.5346471\\\\\n",
       "\t  8 & C & 1.8729653\\\\\n",
       "\t  9 & C & 0.7751246\\\\\n",
       "\t 10 & C & 0.8786487\\\\\n",
       "\\end{tabular}\n"
      ],
      "text/markdown": [
       "\n",
       "A data.frame: 10 × 3\n",
       "\n",
       "| MyFirstColumn &lt;dbl&gt; | My Second Column &lt;chr&gt; | My.Third.Column &lt;dbl&gt; |\n",
       "|---|---|---|\n",
       "|  1 | A | 4.2729541 |\n",
       "|  2 | A | 3.5030726 |\n",
       "|  3 | A | 2.6380430 |\n",
       "|  4 | A | 2.4806827 |\n",
       "|  5 | A | 4.5371477 |\n",
       "|  6 | C | 3.2923548 |\n",
       "|  7 | C | 2.5346471 |\n",
       "|  8 | C | 1.8729653 |\n",
       "|  9 | C | 0.7751246 |\n",
       "| 10 | C | 0.8786487 |\n",
       "\n"
      ],
      "text/plain": [
       "   MyFirstColumn My Second Column My.Third.Column\n",
       "1   1            A                4.2729541      \n",
       "2   2            A                3.5030726      \n",
       "3   3            A                2.6380430      \n",
       "4   4            A                2.4806827      \n",
       "5   5            A                4.5371477      \n",
       "6   6            C                3.2923548      \n",
       "7   7            C                2.5346471      \n",
       "8   8            C                1.8729653      \n",
       "9   9            C                0.7751246      \n",
       "10 10            C                0.8786487      "
      ]
     },
     "metadata": {},
     "output_type": "display_data"
    }
   ],
   "source": [
    "names(my.df) <- c(\"MyFirstColumn\", \"My Second Column\", \"My.Third.Column\")\n",
    "my.df"
   ]
  },
  {
   "cell_type": "markdown",
   "metadata": {},
   "source": [
    "And unlike matrices, you can access the contents of data frames by naming the columns directly using a $ sign:"
   ]
  },
  {
   "cell_type": "code",
   "execution_count": 44,
   "metadata": {
    "vscode": {
     "languageId": "r"
    }
   },
   "outputs": [
    {
     "data": {
      "text/html": [
       "<style>\n",
       ".list-inline {list-style: none; margin:0; padding: 0}\n",
       ".list-inline>li {display: inline-block}\n",
       ".list-inline>li:not(:last-child)::after {content: \"\\00b7\"; padding: 0 .5ex}\n",
       "</style>\n",
       "<ol class=list-inline><li>1</li><li>2</li><li>3</li><li>4</li><li>5</li><li>6</li><li>7</li><li>8</li><li>9</li><li>10</li></ol>\n"
      ],
      "text/latex": [
       "\\begin{enumerate*}\n",
       "\\item 1\n",
       "\\item 2\n",
       "\\item 3\n",
       "\\item 4\n",
       "\\item 5\n",
       "\\item 6\n",
       "\\item 7\n",
       "\\item 8\n",
       "\\item 9\n",
       "\\item 10\n",
       "\\end{enumerate*}\n"
      ],
      "text/markdown": [
       "1. 1\n",
       "2. 2\n",
       "3. 3\n",
       "4. 4\n",
       "5. 5\n",
       "6. 6\n",
       "7. 7\n",
       "8. 8\n",
       "9. 9\n",
       "10. 10\n",
       "\n",
       "\n"
      ],
      "text/plain": [
       " [1]  1  2  3  4  5  6  7  8  9 10"
      ]
     },
     "metadata": {},
     "output_type": "display_data"
    }
   ],
   "source": [
    "my.df$MyFirstColumn # try `TAB` to complete the column name as well"
   ]
  },
  {
   "cell_type": "markdown",
   "metadata": {},
   "source": [
    "\n",
    "\n",
    "And also, you can replace that column name using the `colnames` function:"
   ]
  },
  {
   "cell_type": "code",
   "execution_count": 45,
   "metadata": {
    "scrolled": true,
    "vscode": {
     "languageId": "r"
    }
   },
   "outputs": [
    {
     "data": {
      "text/html": [
       "<style>\n",
       ".list-inline {list-style: none; margin:0; padding: 0}\n",
       ".list-inline>li {display: inline-block}\n",
       ".list-inline>li:not(:last-child)::after {content: \"\\00b7\"; padding: 0 .5ex}\n",
       "</style>\n",
       "<ol class=list-inline><li>'MyFirstColumn'</li><li>'My Second Column'</li><li>'My.Third.Column'</li></ol>\n"
      ],
      "text/latex": [
       "\\begin{enumerate*}\n",
       "\\item 'MyFirstColumn'\n",
       "\\item 'My Second Column'\n",
       "\\item 'My.Third.Column'\n",
       "\\end{enumerate*}\n"
      ],
      "text/markdown": [
       "1. 'MyFirstColumn'\n",
       "2. 'My Second Column'\n",
       "3. 'My.Third.Column'\n",
       "\n",
       "\n"
      ],
      "text/plain": [
       "[1] \"MyFirstColumn\"    \"My Second Column\" \"My.Third.Column\" "
      ]
     },
     "metadata": {},
     "output_type": "display_data"
    }
   ],
   "source": [
    "colnames(my.df)"
   ]
  },
  {
   "cell_type": "code",
   "execution_count": 46,
   "metadata": {
    "vscode": {
     "languageId": "r"
    }
   },
   "outputs": [
    {
     "data": {
      "text/html": [
       "<table class=\"dataframe\">\n",
       "<caption>A data.frame: 10 × 3</caption>\n",
       "<thead>\n",
       "\t<tr><th scope=col>Sample_ID</th><th scope=col>Group</th><th scope=col>Value</th></tr>\n",
       "\t<tr><th scope=col>&lt;dbl&gt;</th><th scope=col>&lt;chr&gt;</th><th scope=col>&lt;dbl&gt;</th></tr>\n",
       "</thead>\n",
       "<tbody>\n",
       "\t<tr><td> 1</td><td>A</td><td>4.2729541</td></tr>\n",
       "\t<tr><td> 2</td><td>A</td><td>3.5030726</td></tr>\n",
       "\t<tr><td> 3</td><td>A</td><td>2.6380430</td></tr>\n",
       "\t<tr><td> 4</td><td>A</td><td>2.4806827</td></tr>\n",
       "\t<tr><td> 5</td><td>A</td><td>4.5371477</td></tr>\n",
       "\t<tr><td> 6</td><td>C</td><td>3.2923548</td></tr>\n",
       "\t<tr><td> 7</td><td>C</td><td>2.5346471</td></tr>\n",
       "\t<tr><td> 8</td><td>C</td><td>1.8729653</td></tr>\n",
       "\t<tr><td> 9</td><td>C</td><td>0.7751246</td></tr>\n",
       "\t<tr><td>10</td><td>C</td><td>0.8786487</td></tr>\n",
       "</tbody>\n",
       "</table>\n"
      ],
      "text/latex": [
       "A data.frame: 10 × 3\n",
       "\\begin{tabular}{lll}\n",
       " Sample\\_ID & Group & Value\\\\\n",
       " <dbl> & <chr> & <dbl>\\\\\n",
       "\\hline\n",
       "\t  1 & A & 4.2729541\\\\\n",
       "\t  2 & A & 3.5030726\\\\\n",
       "\t  3 & A & 2.6380430\\\\\n",
       "\t  4 & A & 2.4806827\\\\\n",
       "\t  5 & A & 4.5371477\\\\\n",
       "\t  6 & C & 3.2923548\\\\\n",
       "\t  7 & C & 2.5346471\\\\\n",
       "\t  8 & C & 1.8729653\\\\\n",
       "\t  9 & C & 0.7751246\\\\\n",
       "\t 10 & C & 0.8786487\\\\\n",
       "\\end{tabular}\n"
      ],
      "text/markdown": [
       "\n",
       "A data.frame: 10 × 3\n",
       "\n",
       "| Sample_ID &lt;dbl&gt; | Group &lt;chr&gt; | Value &lt;dbl&gt; |\n",
       "|---|---|---|\n",
       "|  1 | A | 4.2729541 |\n",
       "|  2 | A | 3.5030726 |\n",
       "|  3 | A | 2.6380430 |\n",
       "|  4 | A | 2.4806827 |\n",
       "|  5 | A | 4.5371477 |\n",
       "|  6 | C | 3.2923548 |\n",
       "|  7 | C | 2.5346471 |\n",
       "|  8 | C | 1.8729653 |\n",
       "|  9 | C | 0.7751246 |\n",
       "| 10 | C | 0.8786487 |\n",
       "\n"
      ],
      "text/plain": [
       "   Sample_ID Group Value    \n",
       "1   1        A     4.2729541\n",
       "2   2        A     3.5030726\n",
       "3   3        A     2.6380430\n",
       "4   4        A     2.4806827\n",
       "5   5        A     4.5371477\n",
       "6   6        C     3.2923548\n",
       "7   7        C     2.5346471\n",
       "8   8        C     1.8729653\n",
       "9   9        C     0.7751246\n",
       "10 10        C     0.8786487"
      ]
     },
     "metadata": {},
     "output_type": "display_data"
    }
   ],
   "source": [
    "colnames(my.df)[1] <- \"Sample_ID\"\n",
    "colnames(my.df)[2] <- \"Group\"\n",
    "colnames(my.df)[3] <- \"Value\"\n",
    "my.df"
   ]
  },
  {
   "cell_type": "markdown",
   "metadata": {},
   "source": [
    "You can also access elements by using numerical indexing:  That is, you asked R to return values of `my.df` in all Rows (therefore, nothing before the comma), and the first column (`1` after the comma). "
   ]
  },
  {
   "cell_type": "code",
   "execution_count": 47,
   "metadata": {
    "vscode": {
     "languageId": "r"
    }
   },
   "outputs": [
    {
     "data": {
      "text/html": [
       "<style>\n",
       ".list-inline {list-style: none; margin:0; padding: 0}\n",
       ".list-inline>li {display: inline-block}\n",
       ".list-inline>li:not(:last-child)::after {content: \"\\00b7\"; padding: 0 .5ex}\n",
       "</style>\n",
       "<ol class=list-inline><li>1</li><li>2</li><li>3</li><li>4</li><li>5</li><li>6</li><li>7</li><li>8</li><li>9</li><li>10</li></ol>\n"
      ],
      "text/latex": [
       "\\begin{enumerate*}\n",
       "\\item 1\n",
       "\\item 2\n",
       "\\item 3\n",
       "\\item 4\n",
       "\\item 5\n",
       "\\item 6\n",
       "\\item 7\n",
       "\\item 8\n",
       "\\item 9\n",
       "\\item 10\n",
       "\\end{enumerate*}\n"
      ],
      "text/markdown": [
       "1. 1\n",
       "2. 2\n",
       "3. 3\n",
       "4. 4\n",
       "5. 5\n",
       "6. 6\n",
       "7. 7\n",
       "8. 8\n",
       "9. 9\n",
       "10. 10\n",
       "\n",
       "\n"
      ],
      "text/plain": [
       " [1]  1  2  3  4  5  6  7  8  9 10"
      ]
     },
     "metadata": {},
     "output_type": "display_data"
    }
   ],
   "source": [
    "my.df[,1]"
   ]
  },
  {
   "cell_type": "markdown",
   "metadata": {},
   "source": [
    "You can also add numeric index (1, as the first row) to get the first row, first column element."
   ]
  },
  {
   "cell_type": "code",
   "execution_count": 48,
   "metadata": {
    "vscode": {
     "languageId": "r"
    }
   },
   "outputs": [
    {
     "data": {
      "text/html": [
       "1"
      ],
      "text/latex": [
       "1"
      ],
      "text/markdown": [
       "1"
      ],
      "text/plain": [
       "[1] 1"
      ]
     },
     "metadata": {},
     "output_type": "display_data"
    }
   ],
   "source": [
    "my.df[1,1]"
   ]
  },
  {
   "cell_type": "markdown",
   "metadata": {},
   "source": [
    "Instead of the numeric index, you could also use the name as the index."
   ]
  },
  {
   "cell_type": "code",
   "execution_count": 49,
   "metadata": {
    "vscode": {
     "languageId": "r"
    }
   },
   "outputs": [
    {
     "data": {
      "text/html": [
       "<table class=\"dataframe\">\n",
       "<caption>A data.frame: 10 × 2</caption>\n",
       "<thead>\n",
       "\t<tr><th scope=col>Group</th><th scope=col>Value</th></tr>\n",
       "\t<tr><th scope=col>&lt;chr&gt;</th><th scope=col>&lt;dbl&gt;</th></tr>\n",
       "</thead>\n",
       "<tbody>\n",
       "\t<tr><td>A</td><td>4.2729541</td></tr>\n",
       "\t<tr><td>A</td><td>3.5030726</td></tr>\n",
       "\t<tr><td>A</td><td>2.6380430</td></tr>\n",
       "\t<tr><td>A</td><td>2.4806827</td></tr>\n",
       "\t<tr><td>A</td><td>4.5371477</td></tr>\n",
       "\t<tr><td>C</td><td>3.2923548</td></tr>\n",
       "\t<tr><td>C</td><td>2.5346471</td></tr>\n",
       "\t<tr><td>C</td><td>1.8729653</td></tr>\n",
       "\t<tr><td>C</td><td>0.7751246</td></tr>\n",
       "\t<tr><td>C</td><td>0.8786487</td></tr>\n",
       "</tbody>\n",
       "</table>\n"
      ],
      "text/latex": [
       "A data.frame: 10 × 2\n",
       "\\begin{tabular}{ll}\n",
       " Group & Value\\\\\n",
       " <chr> & <dbl>\\\\\n",
       "\\hline\n",
       "\t A & 4.2729541\\\\\n",
       "\t A & 3.5030726\\\\\n",
       "\t A & 2.6380430\\\\\n",
       "\t A & 2.4806827\\\\\n",
       "\t A & 4.5371477\\\\\n",
       "\t C & 3.2923548\\\\\n",
       "\t C & 2.5346471\\\\\n",
       "\t C & 1.8729653\\\\\n",
       "\t C & 0.7751246\\\\\n",
       "\t C & 0.8786487\\\\\n",
       "\\end{tabular}\n"
      ],
      "text/markdown": [
       "\n",
       "A data.frame: 10 × 2\n",
       "\n",
       "| Group &lt;chr&gt; | Value &lt;dbl&gt; |\n",
       "|---|---|\n",
       "| A | 4.2729541 |\n",
       "| A | 3.5030726 |\n",
       "| A | 2.6380430 |\n",
       "| A | 2.4806827 |\n",
       "| A | 4.5371477 |\n",
       "| C | 3.2923548 |\n",
       "| C | 2.5346471 |\n",
       "| C | 1.8729653 |\n",
       "| C | 0.7751246 |\n",
       "| C | 0.8786487 |\n",
       "\n"
      ],
      "text/plain": [
       "   Group Value    \n",
       "1  A     4.2729541\n",
       "2  A     3.5030726\n",
       "3  A     2.6380430\n",
       "4  A     2.4806827\n",
       "5  A     4.5371477\n",
       "6  C     3.2923548\n",
       "7  C     2.5346471\n",
       "8  C     1.8729653\n",
       "9  C     0.7751246\n",
       "10 C     0.8786487"
      ]
     },
     "metadata": {},
     "output_type": "display_data"
    }
   ],
   "source": [
    "my.df[,c(\"Group\",\"Value\")] # show two specific columns only"
   ]
  },
  {
   "cell_type": "markdown",
   "metadata": {},
   "source": [
    "You can check whether a particular object is a dataframe data structure with:"
   ]
  },
  {
   "cell_type": "code",
   "execution_count": 50,
   "metadata": {
    "scrolled": true,
    "vscode": {
     "languageId": "r"
    }
   },
   "outputs": [
    {
     "data": {
      "text/html": [
       "'data.frame'"
      ],
      "text/latex": [
       "'data.frame'"
      ],
      "text/markdown": [
       "'data.frame'"
      ],
      "text/plain": [
       "[1] \"data.frame\""
      ]
     },
     "metadata": {},
     "output_type": "display_data"
    }
   ],
   "source": [
    "class(my.df)"
   ]
  },
  {
   "cell_type": "markdown",
   "metadata": {},
   "source": [
    "You can check the structure of a dataframe with `str()`:"
   ]
  },
  {
   "cell_type": "code",
   "execution_count": 51,
   "metadata": {
    "vscode": {
     "languageId": "r"
    }
   },
   "outputs": [
    {
     "name": "stdout",
     "output_type": "stream",
     "text": [
      "'data.frame':\t10 obs. of  3 variables:\n",
      " $ Sample_ID: num  1 2 3 4 5 6 7 8 9 10\n",
      " $ Group    : chr  \"A\" \"A\" \"A\" \"A\" ...\n",
      " $ Value    : num  4.27 3.5 2.64 2.48 4.54 ...\n"
     ]
    }
   ],
   "source": [
    "str(my.df)"
   ]
  },
  {
   "cell_type": "markdown",
   "metadata": {},
   "source": [
    "You can print the column names and top few rows with `head()`:"
   ]
  },
  {
   "cell_type": "code",
   "execution_count": 52,
   "metadata": {
    "vscode": {
     "languageId": "r"
    }
   },
   "outputs": [
    {
     "data": {
      "text/html": [
       "<table class=\"dataframe\">\n",
       "<caption>A data.frame: 6 × 3</caption>\n",
       "<thead>\n",
       "\t<tr><th></th><th scope=col>Sample_ID</th><th scope=col>Group</th><th scope=col>Value</th></tr>\n",
       "\t<tr><th></th><th scope=col>&lt;dbl&gt;</th><th scope=col>&lt;chr&gt;</th><th scope=col>&lt;dbl&gt;</th></tr>\n",
       "</thead>\n",
       "<tbody>\n",
       "\t<tr><th scope=row>1</th><td>1</td><td>A</td><td>4.272954</td></tr>\n",
       "\t<tr><th scope=row>2</th><td>2</td><td>A</td><td>3.503073</td></tr>\n",
       "\t<tr><th scope=row>3</th><td>3</td><td>A</td><td>2.638043</td></tr>\n",
       "\t<tr><th scope=row>4</th><td>4</td><td>A</td><td>2.480683</td></tr>\n",
       "\t<tr><th scope=row>5</th><td>5</td><td>A</td><td>4.537148</td></tr>\n",
       "\t<tr><th scope=row>6</th><td>6</td><td>C</td><td>3.292355</td></tr>\n",
       "</tbody>\n",
       "</table>\n"
      ],
      "text/latex": [
       "A data.frame: 6 × 3\n",
       "\\begin{tabular}{r|lll}\n",
       "  & Sample\\_ID & Group & Value\\\\\n",
       "  & <dbl> & <chr> & <dbl>\\\\\n",
       "\\hline\n",
       "\t1 & 1 & A & 4.272954\\\\\n",
       "\t2 & 2 & A & 3.503073\\\\\n",
       "\t3 & 3 & A & 2.638043\\\\\n",
       "\t4 & 4 & A & 2.480683\\\\\n",
       "\t5 & 5 & A & 4.537148\\\\\n",
       "\t6 & 6 & C & 3.292355\\\\\n",
       "\\end{tabular}\n"
      ],
      "text/markdown": [
       "\n",
       "A data.frame: 6 × 3\n",
       "\n",
       "| <!--/--> | Sample_ID &lt;dbl&gt; | Group &lt;chr&gt; | Value &lt;dbl&gt; |\n",
       "|---|---|---|---|\n",
       "| 1 | 1 | A | 4.272954 |\n",
       "| 2 | 2 | A | 3.503073 |\n",
       "| 3 | 3 | A | 2.638043 |\n",
       "| 4 | 4 | A | 2.480683 |\n",
       "| 5 | 5 | A | 4.537148 |\n",
       "| 6 | 6 | C | 3.292355 |\n",
       "\n"
      ],
      "text/plain": [
       "  Sample_ID Group Value   \n",
       "1 1         A     4.272954\n",
       "2 2         A     3.503073\n",
       "3 3         A     2.638043\n",
       "4 4         A     2.480683\n",
       "5 5         A     4.537148\n",
       "6 6         C     3.292355"
      ]
     },
     "metadata": {},
     "output_type": "display_data"
    }
   ],
   "source": [
    "head(my.df) # try get the bottom few rows with `tail()`:"
   ]
  },
  {
   "cell_type": "markdown",
   "metadata": {},
   "source": [
    "#### Formula used in R\n",
    "\n",
    "In R, a formula is a symbolic representation of a statistical model or a relationship between variables\n",
    "\n",
    "A typical formula looks like:\n",
    "*response_variable ~ predictor_variable1 + predictor_variable2 + ...*\n",
    "\n",
    "Here, the `~` symbol separates the response variable (dependent variable) from the predictor variables (independent variables). The `+` symbol is used to specify multiple predictor variables in the formula.\n"
   ]
  },
  {
   "cell_type": "markdown",
   "metadata": {},
   "source": [
    "If we consider each row in our `my.df` dataframe as a sample observation, with the Group column denoting the type of treatment received and the Value column representing the final measurement of the response variable, how can we determine the significance of the treatment effect?"
   ]
  },
  {
   "cell_type": "code",
   "execution_count": 53,
   "metadata": {
    "vscode": {
     "languageId": "r"
    }
   },
   "outputs": [
    {
     "data": {
      "text/plain": [
       "\n",
       "\tWilcoxon rank sum exact test\n",
       "\n",
       "data:  Value by Group\n",
       "W = 22, p-value = 0.05556\n",
       "alternative hypothesis: true location shift is not equal to 0\n"
      ]
     },
     "metadata": {},
     "output_type": "display_data"
    }
   ],
   "source": [
    "wilcox.test(formula = Value ~  Group, data = my.df) # When we set alpha = 0.05, you find no significant difference between Group A, Group C"
   ]
  },
  {
   "cell_type": "code",
   "execution_count": 54,
   "metadata": {
    "vscode": {
     "languageId": "r"
    }
   },
   "outputs": [
    {
     "data": {
      "image/png": "[encoded data removed]",
      "text/plain": [
       "plot without title"
      ]
     },
     "metadata": {
      "image/png": {
       "height": 420,
       "width": 420
      }
     },
     "output_type": "display_data"
    }
   ],
   "source": [
    "boxplot(formula = Value ~  Group, data = my.df)"
   ]
  },
  {
   "cell_type": "markdown",
   "metadata": {},
   "source": [
    "#### Case Exercise 2. The first statistics\n",
    "\n",
    "After careful review, your superviser recommanded you to do a parametric test (student's t test) rather than a rank-based non-parametric test (wilcox's test). Why it is reasonable? How to do it in R?  (clue: ?t.test() ?shapiro.test())"
   ]
  },
  {
   "cell_type": "markdown",
   "metadata": {},
   "source": [
    "### 2.2.4 Lists\n",
    "\n",
    "List is another important data structure widely used in R. Essentially, a list functions as a structured assembly of objects, allowing for the inclusion of different types of variables and data entities  (e.g., you can put dataframe and vector together) in a specific *order*.\n",
    "\n",
    "Try this:"
   ]
  },
  {
   "cell_type": "code",
   "execution_count": 55,
   "metadata": {
    "vscode": {
     "languageId": "r"
    }
   },
   "outputs": [
    {
     "data": {
      "text/html": [
       "<dl>\n",
       "\t<dt>$genus</dt>\n",
       "\t\t<dd><style>\n",
       ".list-inline {list-style: none; margin:0; padding: 0}\n",
       ".list-inline>li {display: inline-block}\n",
       ".list-inline>li:not(:last-child)::after {content: \"\\00b7\"; padding: 0 .5ex}\n",
       "</style>\n",
       "<ol class=list-inline><li>'Bifidobacterium'</li><li>'Akkermansia'</li></ol>\n",
       "</dd>\n",
       "\t<dt>$rel_abundance</dt>\n",
       "\t\t<dd><style>\n",
       ".list-inline {list-style: none; margin:0; padding: 0}\n",
       ".list-inline>li {display: inline-block}\n",
       ".list-inline>li:not(:last-child)::after {content: \"\\00b7\"; padding: 0 .5ex}\n",
       "</style>\n",
       "<ol class=list-inline><li>20</li><li>10</li></ol>\n",
       "</dd>\n",
       "</dl>\n"
      ],
      "text/latex": [
       "\\begin{description}\n",
       "\\item[\\$genus] \\begin{enumerate*}\n",
       "\\item 'Bifidobacterium'\n",
       "\\item 'Akkermansia'\n",
       "\\end{enumerate*}\n",
       "\n",
       "\\item[\\$rel\\_abundance] \\begin{enumerate*}\n",
       "\\item 20\n",
       "\\item 10\n",
       "\\end{enumerate*}\n",
       "\n",
       "\\end{description}\n"
      ],
      "text/markdown": [
       "$genus\n",
       ":   1. 'Bifidobacterium'\n",
       "2. 'Akkermansia'\n",
       "\n",
       "\n",
       "\n",
       "$rel_abundance\n",
       ":   1. 20\n",
       "2. 10\n",
       "\n",
       "\n",
       "\n",
       "\n",
       "\n"
      ],
      "text/plain": [
       "$genus\n",
       "[1] \"Bifidobacterium\" \"Akkermansia\"    \n",
       "\n",
       "$rel_abundance\n",
       "[1] 20 10\n"
      ]
     },
     "metadata": {},
     "output_type": "display_data"
    }
   ],
   "source": [
    "my.list <- list(genus=c(\"Bifidobacterium\",\"Akkermansia\"), rel_abundance=c(20 , 10))\n",
    "my.list"
   ]
  },
  {
   "cell_type": "code",
   "execution_count": 56,
   "metadata": {
    "vscode": {
     "languageId": "r"
    }
   },
   "outputs": [
    {
     "data": {
      "text/html": [
       "<style>\n",
       ".list-inline {list-style: none; margin:0; padding: 0}\n",
       ".list-inline>li {display: inline-block}\n",
       ".list-inline>li:not(:last-child)::after {content: \"\\00b7\"; padding: 0 .5ex}\n",
       "</style>\n",
       "<ol class=list-inline><li>'Bifidobacterium'</li><li>'Akkermansia'</li></ol>\n"
      ],
      "text/latex": [
       "\\begin{enumerate*}\n",
       "\\item 'Bifidobacterium'\n",
       "\\item 'Akkermansia'\n",
       "\\end{enumerate*}\n"
      ],
      "text/markdown": [
       "1. 'Bifidobacterium'\n",
       "2. 'Akkermansia'\n",
       "\n",
       "\n"
      ],
      "text/plain": [
       "[1] \"Bifidobacterium\" \"Akkermansia\"    "
      ]
     },
     "metadata": {},
     "output_type": "display_data"
    }
   ],
   "source": [
    "my.list[[\"genus\"]] # Get the list item by using nested square brackets "
   ]
  },
  {
   "cell_type": "code",
   "execution_count": 57,
   "metadata": {
    "vscode": {
     "languageId": "r"
    }
   },
   "outputs": [
    {
     "data": {
      "text/html": [
       "<style>\n",
       ".list-inline {list-style: none; margin:0; padding: 0}\n",
       ".list-inline>li {display: inline-block}\n",
       ".list-inline>li:not(:last-child)::after {content: \"\\00b7\"; padding: 0 .5ex}\n",
       "</style>\n",
       "<ol class=list-inline><li>'Bifidobacterium'</li><li>'Akkermansia'</li></ol>\n"
      ],
      "text/latex": [
       "\\begin{enumerate*}\n",
       "\\item 'Bifidobacterium'\n",
       "\\item 'Akkermansia'\n",
       "\\end{enumerate*}\n"
      ],
      "text/markdown": [
       "1. 'Bifidobacterium'\n",
       "2. 'Akkermansia'\n",
       "\n",
       "\n"
      ],
      "text/plain": [
       "[1] \"Bifidobacterium\" \"Akkermansia\"    "
      ]
     },
     "metadata": {},
     "output_type": "display_data"
    }
   ],
   "source": [
    "my.list$genus # or do it this way. Quite similar to those in dataframe, right?"
   ]
  },
  {
   "cell_type": "markdown",
   "metadata": {},
   "source": [
    "Or, you can access contents of a list item using the list order index:"
   ]
  },
  {
   "cell_type": "code",
   "execution_count": 58,
   "metadata": {
    "scrolled": true,
    "vscode": {
     "languageId": "r"
    }
   },
   "outputs": [
    {
     "data": {
      "text/html": [
       "<style>\n",
       ".list-inline {list-style: none; margin:0; padding: 0}\n",
       ".list-inline>li {display: inline-block}\n",
       ".list-inline>li:not(:last-child)::after {content: \"\\00b7\"; padding: 0 .5ex}\n",
       "</style>\n",
       "<ol class=list-inline><li>'Bifidobacterium'</li><li>'Akkermansia'</li></ol>\n"
      ],
      "text/latex": [
       "\\begin{enumerate*}\n",
       "\\item 'Bifidobacterium'\n",
       "\\item 'Akkermansia'\n",
       "\\end{enumerate*}\n"
      ],
      "text/markdown": [
       "1. 'Bifidobacterium'\n",
       "2. 'Akkermansia'\n",
       "\n",
       "\n"
      ],
      "text/plain": [
       "[1] \"Bifidobacterium\" \"Akkermansia\"    "
      ]
     },
     "metadata": {},
     "output_type": "display_data"
    }
   ],
   "source": [
    "my.list[[1]]"
   ]
  },
  {
   "cell_type": "code",
   "execution_count": 59,
   "metadata": {
    "vscode": {
     "languageId": "r"
    }
   },
   "outputs": [
    {
     "data": {
      "text/html": [
       "'Bifidobacterium'"
      ],
      "text/latex": [
       "'Bifidobacterium'"
      ],
      "text/markdown": [
       "'Bifidobacterium'"
      ],
      "text/plain": [
       "[1] \"Bifidobacterium\""
      ]
     },
     "metadata": {},
     "output_type": "display_data"
    }
   ],
   "source": [
    "my.list[[1]][1] # remeber, each elements of my.list is vector, therefore, we can apply the rule of vector to it"
   ]
  },
  {
   "cell_type": "markdown",
   "metadata": {},
   "source": [
    "Maybe, you will have a guess now that dataframe object is actually a data structure built upon list object\n",
    "\n",
    "### 2.2.5 Matrix vs Dataframe\n",
    "\n",
    "While data frames offer considerable flexibility and convenience for statistical analyses, plotting, and data output in R, there are instances where utilizing R matrices becomes necessary due to performance considerations. Data frames may exhibit decreased efficiency when large-scale mathematical computations or operations, such as matrix-vector multiplications or other linear algebra tasks, need to be executed. In such scenarios, converting a data frame to a matrix can significantly enhance computational speed and efficiency.\n",
    "\n",
    "To see the difference in memory usage of matrices vs dataframes, try this:"
   ]
  },
  {
   "cell_type": "code",
   "execution_count": 60,
   "metadata": {
    "scrolled": true,
    "vscode": {
     "languageId": "r"
    }
   },
   "outputs": [
    {
     "data": {
      "text/html": [
       "<table class=\"dataframe\">\n",
       "<caption>A matrix: 5 × 5 of type dbl</caption>\n",
       "<tbody>\n",
       "\t<tr><td> 1.000</td><td> 5.125</td><td> 9.250</td><td>13.375</td><td> 17.500</td></tr>\n",
       "\t<tr><td>21.625</td><td>25.750</td><td>29.875</td><td>34.000</td><td> 38.125</td></tr>\n",
       "\t<tr><td>42.250</td><td>46.375</td><td>50.500</td><td>54.625</td><td> 58.750</td></tr>\n",
       "\t<tr><td>62.875</td><td>67.000</td><td>71.125</td><td>75.250</td><td> 79.375</td></tr>\n",
       "\t<tr><td>83.500</td><td>87.625</td><td>91.750</td><td>95.875</td><td>100.000</td></tr>\n",
       "</tbody>\n",
       "</table>\n"
      ],
      "text/latex": [
       "A matrix: 5 × 5 of type dbl\n",
       "\\begin{tabular}{lllll}\n",
       "\t  1.000 &  5.125 &  9.250 & 13.375 &  17.500\\\\\n",
       "\t 21.625 & 25.750 & 29.875 & 34.000 &  38.125\\\\\n",
       "\t 42.250 & 46.375 & 50.500 & 54.625 &  58.750\\\\\n",
       "\t 62.875 & 67.000 & 71.125 & 75.250 &  79.375\\\\\n",
       "\t 83.500 & 87.625 & 91.750 & 95.875 & 100.000\\\\\n",
       "\\end{tabular}\n"
      ],
      "text/markdown": [
       "\n",
       "A matrix: 5 × 5 of type dbl\n",
       "\n",
       "|  1.000 |  5.125 |  9.250 | 13.375 |  17.500 |\n",
       "| 21.625 | 25.750 | 29.875 | 34.000 |  38.125 |\n",
       "| 42.250 | 46.375 | 50.500 | 54.625 |  58.750 |\n",
       "| 62.875 | 67.000 | 71.125 | 75.250 |  79.375 |\n",
       "| 83.500 | 87.625 | 91.750 | 95.875 | 100.000 |\n",
       "\n"
      ],
      "text/plain": [
       "     [,1]   [,2]   [,3]   [,4]   [,5]   \n",
       "[1,]  1.000  5.125  9.250 13.375  17.500\n",
       "[2,] 21.625 25.750 29.875 34.000  38.125\n",
       "[3,] 42.250 46.375 50.500 54.625  58.750\n",
       "[4,] 62.875 67.000 71.125 75.250  79.375\n",
       "[5,] 83.500 87.625 91.750 95.875 100.000"
      ]
     },
     "metadata": {},
     "output_type": "display_data"
    }
   ],
   "source": [
    "my.mat1 <- matrix(seq(from = 1,to = 100,length.out = 25), 5, 5, byrow=TRUE)\n",
    "my.mat1 # Again, create one matrix"
   ]
  },
  {
   "cell_type": "code",
   "execution_count": 61,
   "metadata": {
    "vscode": {
     "languageId": "r"
    }
   },
   "outputs": [
    {
     "data": {
      "text/html": [
       "<table class=\"dataframe\">\n",
       "<caption>A data.frame: 5 × 5</caption>\n",
       "<thead>\n",
       "\t<tr><th scope=col>V1</th><th scope=col>V2</th><th scope=col>V3</th><th scope=col>V4</th><th scope=col>V5</th></tr>\n",
       "\t<tr><th scope=col>&lt;dbl&gt;</th><th scope=col>&lt;dbl&gt;</th><th scope=col>&lt;dbl&gt;</th><th scope=col>&lt;dbl&gt;</th><th scope=col>&lt;dbl&gt;</th></tr>\n",
       "</thead>\n",
       "<tbody>\n",
       "\t<tr><td> 1.000</td><td> 5.125</td><td> 9.250</td><td>13.375</td><td> 17.500</td></tr>\n",
       "\t<tr><td>21.625</td><td>25.750</td><td>29.875</td><td>34.000</td><td> 38.125</td></tr>\n",
       "\t<tr><td>42.250</td><td>46.375</td><td>50.500</td><td>54.625</td><td> 58.750</td></tr>\n",
       "\t<tr><td>62.875</td><td>67.000</td><td>71.125</td><td>75.250</td><td> 79.375</td></tr>\n",
       "\t<tr><td>83.500</td><td>87.625</td><td>91.750</td><td>95.875</td><td>100.000</td></tr>\n",
       "</tbody>\n",
       "</table>\n"
      ],
      "text/latex": [
       "A data.frame: 5 × 5\n",
       "\\begin{tabular}{lllll}\n",
       " V1 & V2 & V3 & V4 & V5\\\\\n",
       " <dbl> & <dbl> & <dbl> & <dbl> & <dbl>\\\\\n",
       "\\hline\n",
       "\t  1.000 &  5.125 &  9.250 & 13.375 &  17.500\\\\\n",
       "\t 21.625 & 25.750 & 29.875 & 34.000 &  38.125\\\\\n",
       "\t 42.250 & 46.375 & 50.500 & 54.625 &  58.750\\\\\n",
       "\t 62.875 & 67.000 & 71.125 & 75.250 &  79.375\\\\\n",
       "\t 83.500 & 87.625 & 91.750 & 95.875 & 100.000\\\\\n",
       "\\end{tabular}\n"
      ],
      "text/markdown": [
       "\n",
       "A data.frame: 5 × 5\n",
       "\n",
       "| V1 &lt;dbl&gt; | V2 &lt;dbl&gt; | V3 &lt;dbl&gt; | V4 &lt;dbl&gt; | V5 &lt;dbl&gt; |\n",
       "|---|---|---|---|---|\n",
       "|  1.000 |  5.125 |  9.250 | 13.375 |  17.500 |\n",
       "| 21.625 | 25.750 | 29.875 | 34.000 |  38.125 |\n",
       "| 42.250 | 46.375 | 50.500 | 54.625 |  58.750 |\n",
       "| 62.875 | 67.000 | 71.125 | 75.250 |  79.375 |\n",
       "| 83.500 | 87.625 | 91.750 | 95.875 | 100.000 |\n",
       "\n"
      ],
      "text/plain": [
       "  V1     V2     V3     V4     V5     \n",
       "1  1.000  5.125  9.250 13.375  17.500\n",
       "2 21.625 25.750 29.875 34.000  38.125\n",
       "3 42.250 46.375 50.500 54.625  58.750\n",
       "4 62.875 67.000 71.125 75.250  79.375\n",
       "5 83.500 87.625 91.750 95.875 100.000"
      ]
     },
     "metadata": {},
     "output_type": "display_data"
    }
   ],
   "source": [
    "my.mat12df = as.data.frame(my.mat1)\n",
    "my.mat12df"
   ]
  },
  {
   "cell_type": "code",
   "execution_count": 62,
   "metadata": {
    "vscode": {
     "languageId": "r"
    }
   },
   "outputs": [
    {
     "data": {
      "text/plain": [
       "416 bytes"
      ]
     },
     "metadata": {},
     "output_type": "display_data"
    }
   ],
   "source": [
    "object.size(my.mat1) # returns size of an R object (variable) in bytes"
   ]
  },
  {
   "cell_type": "code",
   "execution_count": 63,
   "metadata": {
    "scrolled": true,
    "vscode": {
     "languageId": "r"
    }
   },
   "outputs": [
    {
     "data": {
      "text/plain": [
       "1464 bytes"
      ]
     },
     "metadata": {},
     "output_type": "display_data"
    }
   ],
   "source": [
    "object.size(my.mat12df)"
   ]
  },
  {
   "cell_type": "markdown",
   "metadata": {},
   "source": [
    "Quite a big difference!"
   ]
  },
  {
   "cell_type": "markdown",
   "metadata": {},
   "source": [
    "## 2.3 Further reading "
   ]
  },
  {
   "cell_type": "markdown",
   "metadata": {},
   "source": [
    "\n",
    "Search online for \"R tutorial\".\n",
    "\n",
    "Explore more functionality by using different R packages designed for different purpose! *Remember, all R packages come with pdf guides/documentation!* \n",
    "\n",
    "### Some useful R packages\n",
    "\n",
    "|Packages|Description|\n",
    "|:-|:-|\n",
    "|tidyr   | Used in data wrangling, provides functions like gather, spread, and separate, which facilitate the transformation of data between wide and long formats. |\n",
    "|dplyr |The dplyr package provides a concise and intuitive syntax for data manipulation tasks. Its functions, such as filter, select, mutate, and summarize, allow you to efficiently subset, transform, and summarize data frames. |\n",
    "|ggplot2 | nice package for data visualization |\n",
    "|stringr | string manipulation and text mining |\n",
    "\n",
    "\n",
    "### Some useful online tutorial\n",
    "\n",
    "|Source|Description|\n",
    "|:-|:-|\n",
    "| https://r4ds.had.co.nz/   | R for Data Science |\n",
    "\n"
   ]
  }
 ],
 "metadata": {
  "kernelspec": {
   "display_name": "R",
   "language": "R",
   "name": "ir"
  },
  "language_info": {
   "codemirror_mode": "r",
   "file_extension": ".r",
   "mimetype": "text/x-r-source",
   "name": "R",
   "pygments_lexer": "r",
   "version": "4.4.1"
  },
  "latex_envs": {
   "LaTeX_envs_menu_present": true,
   "autoclose": false,
   "autocomplete": false,
   "bibliofile": "biblio.bib",
   "cite_by": "apalike",
   "current_citInitial": 1,
   "eqLabelWithNumbers": true,
   "eqNumInitial": 1,
   "hotkeys": {
    "equation": "Ctrl-E",
    "itemize": "Ctrl-I"
   },
   "labels_anchors": false,
   "latex_user_defs": false,
   "report_style_numbering": false,
   "user_envs_cfg": false
  },
  "toc": {
   "base_numbering": 1,
   "nav_menu": {},
   "number_sections": true,
   "sideBar": true,
   "skip_h1_title": false,
   "title_cell": "Contents",
   "title_sidebar": "Contents",
   "toc_cell": false,
   "toc_position": {
    "height": "447.67px",
    "left": "33.6667px",
    "top": "422px",
    "width": "310.288px"
   },
   "toc_section_display": true,
   "toc_window_display": true
  },
  "toc-autonumbering": true
 },
 "nbformat": 4,
 "nbformat_minor": 4
}